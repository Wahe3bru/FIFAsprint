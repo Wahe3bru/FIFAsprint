{
 "cells": [
  {
   "cell_type": "code",
   "execution_count": 51,
   "metadata": {},
   "outputs": [],
   "source": [
    "import pandas as pd"
   ]
  },
  {
   "cell_type": "code",
   "execution_count": 52,
   "metadata": {},
   "outputs": [],
   "source": [
    "df = pd.read_csv('finalR.csv').drop(['Year', 'home_country', 'away_country', 'away_year', 'home_year'], axis=1)"
   ]
  },
  {
   "cell_type": "code",
   "execution_count": 53,
   "metadata": {},
   "outputs": [
    {
     "data": {
      "text/plain": [
       "Index(['Away Team Goals', 'Away Team Name', 'Home Team Goals',\n",
       "       'Home Team Name', 'home_rank', 'home_total_points',\n",
       "       'home_previous_points', 'home_rank_change', 'home_cur_year_avg',\n",
       "       'home_cur_year_avg_weighted', 'home_last_year_avg',\n",
       "       'home_last_year_avg_weighted', 'home_two_year_ago_avg',\n",
       "       'home_two_year_ago_weighted', 'home_three_year_ago_avg',\n",
       "       'home_three_year_ago_weighted', 'away_rank', 'away_total_points',\n",
       "       'away_previous_points', 'away_rank_change', 'away_cur_year_avg',\n",
       "       'away_cur_year_avg_weighted', 'away_last_year_avg',\n",
       "       'away_last_year_avg_weighted', 'away_two_year_ago_avg',\n",
       "       'away_two_year_ago_weighted', 'away_three_year_ago_avg',\n",
       "       'away_three_year_ago_weighted', 'winning_team', 'RankDiff'],\n",
       "      dtype='object')"
      ]
     },
     "execution_count": 53,
     "metadata": {},
     "output_type": "execute_result"
    }
   ],
   "source": [
    "df.columns"
   ]
  },
  {
   "cell_type": "code",
   "execution_count": 54,
   "metadata": {},
   "outputs": [
    {
     "data": {
      "text/html": [
       "<div>\n",
       "<style scoped>\n",
       "    .dataframe tbody tr th:only-of-type {\n",
       "        vertical-align: middle;\n",
       "    }\n",
       "\n",
       "    .dataframe tbody tr th {\n",
       "        vertical-align: top;\n",
       "    }\n",
       "\n",
       "    .dataframe thead th {\n",
       "        text-align: right;\n",
       "    }\n",
       "</style>\n",
       "<table border=\"1\" class=\"dataframe\">\n",
       "  <thead>\n",
       "    <tr style=\"text-align: right;\">\n",
       "      <th></th>\n",
       "      <th>Away Team Goals</th>\n",
       "      <th>Away Team Name</th>\n",
       "      <th>Home Team Goals</th>\n",
       "      <th>Home Team Name</th>\n",
       "      <th>home_rank</th>\n",
       "      <th>home_total_points</th>\n",
       "      <th>home_previous_points</th>\n",
       "      <th>home_rank_change</th>\n",
       "      <th>home_cur_year_avg</th>\n",
       "      <th>home_cur_year_avg_weighted</th>\n",
       "      <th>...</th>\n",
       "      <th>away_cur_year_avg</th>\n",
       "      <th>away_cur_year_avg_weighted</th>\n",
       "      <th>away_last_year_avg</th>\n",
       "      <th>away_last_year_avg_weighted</th>\n",
       "      <th>away_two_year_ago_avg</th>\n",
       "      <th>away_two_year_ago_weighted</th>\n",
       "      <th>away_three_year_ago_avg</th>\n",
       "      <th>away_three_year_ago_weighted</th>\n",
       "      <th>winning_team</th>\n",
       "      <th>RankDiff</th>\n",
       "    </tr>\n",
       "  </thead>\n",
       "  <tbody>\n",
       "    <tr>\n",
       "      <th>1371</th>\n",
       "      <td>0.0</td>\n",
       "      <td>Panama</td>\n",
       "      <td>1.0</td>\n",
       "      <td>Denmark</td>\n",
       "      <td>12</td>\n",
       "      <td>1098.82</td>\n",
       "      <td>1099</td>\n",
       "      <td>0</td>\n",
       "      <td>784.52</td>\n",
       "      <td>784.52</td>\n",
       "      <td>...</td>\n",
       "      <td>369.95</td>\n",
       "      <td>369.95</td>\n",
       "      <td>290.38</td>\n",
       "      <td>145.19</td>\n",
       "      <td>277.41</td>\n",
       "      <td>83.22</td>\n",
       "      <td>189.81</td>\n",
       "      <td>37.96</td>\n",
       "      <td>Denmark</td>\n",
       "      <td>-41</td>\n",
       "    </tr>\n",
       "    <tr>\n",
       "      <th>1372</th>\n",
       "      <td>1.0</td>\n",
       "      <td>Sweden</td>\n",
       "      <td>0.0</td>\n",
       "      <td>Denmark</td>\n",
       "      <td>12</td>\n",
       "      <td>1098.82</td>\n",
       "      <td>1099</td>\n",
       "      <td>0</td>\n",
       "      <td>784.52</td>\n",
       "      <td>784.52</td>\n",
       "      <td>...</td>\n",
       "      <td>659.74</td>\n",
       "      <td>659.74</td>\n",
       "      <td>302.57</td>\n",
       "      <td>151.28</td>\n",
       "      <td>462.48</td>\n",
       "      <td>138.74</td>\n",
       "      <td>253.40</td>\n",
       "      <td>50.68</td>\n",
       "      <td>Sweden</td>\n",
       "      <td>-6</td>\n",
       "    </tr>\n",
       "    <tr>\n",
       "      <th>1373</th>\n",
       "      <td>0.0</td>\n",
       "      <td>Denmark</td>\n",
       "      <td>0.0</td>\n",
       "      <td>Sweden</td>\n",
       "      <td>18</td>\n",
       "      <td>1000.44</td>\n",
       "      <td>998</td>\n",
       "      <td>0</td>\n",
       "      <td>659.74</td>\n",
       "      <td>659.74</td>\n",
       "      <td>...</td>\n",
       "      <td>784.52</td>\n",
       "      <td>784.52</td>\n",
       "      <td>289.97</td>\n",
       "      <td>144.99</td>\n",
       "      <td>310.70</td>\n",
       "      <td>93.21</td>\n",
       "      <td>380.53</td>\n",
       "      <td>76.11</td>\n",
       "      <td>Draw</td>\n",
       "      <td>6</td>\n",
       "    </tr>\n",
       "    <tr>\n",
       "      <th>1374</th>\n",
       "      <td>0.0</td>\n",
       "      <td>Saudi Arabia</td>\n",
       "      <td>4.0</td>\n",
       "      <td>Belgium</td>\n",
       "      <td>5</td>\n",
       "      <td>1325.29</td>\n",
       "      <td>1325</td>\n",
       "      <td>0</td>\n",
       "      <td>626.00</td>\n",
       "      <td>626.00</td>\n",
       "      <td>...</td>\n",
       "      <td>219.26</td>\n",
       "      <td>219.26</td>\n",
       "      <td>324.72</td>\n",
       "      <td>162.36</td>\n",
       "      <td>384.56</td>\n",
       "      <td>115.37</td>\n",
       "      <td>122.58</td>\n",
       "      <td>24.52</td>\n",
       "      <td>Belgium</td>\n",
       "      <td>-60</td>\n",
       "    </tr>\n",
       "    <tr>\n",
       "      <th>1375</th>\n",
       "      <td>0.0</td>\n",
       "      <td>Portugal</td>\n",
       "      <td>0.0</td>\n",
       "      <td>Belgium</td>\n",
       "      <td>5</td>\n",
       "      <td>1325.29</td>\n",
       "      <td>1325</td>\n",
       "      <td>0</td>\n",
       "      <td>626.00</td>\n",
       "      <td>626.00</td>\n",
       "      <td>...</td>\n",
       "      <td>744.16</td>\n",
       "      <td>744.16</td>\n",
       "      <td>617.85</td>\n",
       "      <td>308.92</td>\n",
       "      <td>635.88</td>\n",
       "      <td>190.76</td>\n",
       "      <td>570.26</td>\n",
       "      <td>114.05</td>\n",
       "      <td>Draw</td>\n",
       "      <td>2</td>\n",
       "    </tr>\n",
       "  </tbody>\n",
       "</table>\n",
       "<p>5 rows × 30 columns</p>\n",
       "</div>"
      ],
      "text/plain": [
       "      Away Team Goals Away Team Name  Home Team Goals Home Team Name  \\\n",
       "1371              0.0         Panama              1.0        Denmark   \n",
       "1372              1.0         Sweden              0.0        Denmark   \n",
       "1373              0.0        Denmark              0.0         Sweden   \n",
       "1374              0.0   Saudi Arabia              4.0        Belgium   \n",
       "1375              0.0       Portugal              0.0        Belgium   \n",
       "\n",
       "      home_rank  home_total_points  home_previous_points  home_rank_change  \\\n",
       "1371         12            1098.82                  1099                 0   \n",
       "1372         12            1098.82                  1099                 0   \n",
       "1373         18            1000.44                   998                 0   \n",
       "1374          5            1325.29                  1325                 0   \n",
       "1375          5            1325.29                  1325                 0   \n",
       "\n",
       "      home_cur_year_avg  home_cur_year_avg_weighted    ...     \\\n",
       "1371             784.52                      784.52    ...      \n",
       "1372             784.52                      784.52    ...      \n",
       "1373             659.74                      659.74    ...      \n",
       "1374             626.00                      626.00    ...      \n",
       "1375             626.00                      626.00    ...      \n",
       "\n",
       "      away_cur_year_avg  away_cur_year_avg_weighted  away_last_year_avg  \\\n",
       "1371             369.95                      369.95              290.38   \n",
       "1372             659.74                      659.74              302.57   \n",
       "1373             784.52                      784.52              289.97   \n",
       "1374             219.26                      219.26              324.72   \n",
       "1375             744.16                      744.16              617.85   \n",
       "\n",
       "      away_last_year_avg_weighted  away_two_year_ago_avg  \\\n",
       "1371                       145.19                 277.41   \n",
       "1372                       151.28                 462.48   \n",
       "1373                       144.99                 310.70   \n",
       "1374                       162.36                 384.56   \n",
       "1375                       308.92                 635.88   \n",
       "\n",
       "      away_two_year_ago_weighted  away_three_year_ago_avg  \\\n",
       "1371                       83.22                   189.81   \n",
       "1372                      138.74                   253.40   \n",
       "1373                       93.21                   380.53   \n",
       "1374                      115.37                   122.58   \n",
       "1375                      190.76                   570.26   \n",
       "\n",
       "      away_three_year_ago_weighted  winning_team  RankDiff  \n",
       "1371                         37.96       Denmark       -41  \n",
       "1372                         50.68        Sweden        -6  \n",
       "1373                         76.11          Draw         6  \n",
       "1374                         24.52       Belgium       -60  \n",
       "1375                        114.05          Draw         2  \n",
       "\n",
       "[5 rows x 30 columns]"
      ]
     },
     "execution_count": 54,
     "metadata": {},
     "output_type": "execute_result"
    }
   ],
   "source": [
    "df.tail()"
   ]
  },
  {
   "cell_type": "code",
   "execution_count": 55,
   "metadata": {},
   "outputs": [],
   "source": [
    "df.loc[df.winning_team == df['Home Team Name'], 'winning_team'] = 2\n",
    "df.loc[df.winning_team == df['Away Team Name'], 'winning_team'] = 0\n",
    "df.loc[df.winning_team == 'Draw', 'winning_team'] = 1"
   ]
  },
  {
   "cell_type": "code",
   "execution_count": 56,
   "metadata": {},
   "outputs": [
    {
     "data": {
      "text/html": [
       "<div>\n",
       "<style scoped>\n",
       "    .dataframe tbody tr th:only-of-type {\n",
       "        vertical-align: middle;\n",
       "    }\n",
       "\n",
       "    .dataframe tbody tr th {\n",
       "        vertical-align: top;\n",
       "    }\n",
       "\n",
       "    .dataframe thead th {\n",
       "        text-align: right;\n",
       "    }\n",
       "</style>\n",
       "<table border=\"1\" class=\"dataframe\">\n",
       "  <thead>\n",
       "    <tr style=\"text-align: right;\">\n",
       "      <th></th>\n",
       "      <th>Away Team Goals</th>\n",
       "      <th>Away Team Name</th>\n",
       "      <th>Home Team Goals</th>\n",
       "      <th>Home Team Name</th>\n",
       "      <th>home_rank</th>\n",
       "      <th>home_total_points</th>\n",
       "      <th>home_previous_points</th>\n",
       "      <th>home_rank_change</th>\n",
       "      <th>home_cur_year_avg</th>\n",
       "      <th>home_cur_year_avg_weighted</th>\n",
       "      <th>...</th>\n",
       "      <th>away_cur_year_avg</th>\n",
       "      <th>away_cur_year_avg_weighted</th>\n",
       "      <th>away_last_year_avg</th>\n",
       "      <th>away_last_year_avg_weighted</th>\n",
       "      <th>away_two_year_ago_avg</th>\n",
       "      <th>away_two_year_ago_weighted</th>\n",
       "      <th>away_three_year_ago_avg</th>\n",
       "      <th>away_three_year_ago_weighted</th>\n",
       "      <th>winning_team</th>\n",
       "      <th>RankDiff</th>\n",
       "    </tr>\n",
       "  </thead>\n",
       "  <tbody>\n",
       "    <tr>\n",
       "      <th>1371</th>\n",
       "      <td>0.0</td>\n",
       "      <td>Panama</td>\n",
       "      <td>1.0</td>\n",
       "      <td>Denmark</td>\n",
       "      <td>12</td>\n",
       "      <td>1098.82</td>\n",
       "      <td>1099</td>\n",
       "      <td>0</td>\n",
       "      <td>784.52</td>\n",
       "      <td>784.52</td>\n",
       "      <td>...</td>\n",
       "      <td>369.95</td>\n",
       "      <td>369.95</td>\n",
       "      <td>290.38</td>\n",
       "      <td>145.19</td>\n",
       "      <td>277.41</td>\n",
       "      <td>83.22</td>\n",
       "      <td>189.81</td>\n",
       "      <td>37.96</td>\n",
       "      <td>2</td>\n",
       "      <td>-41</td>\n",
       "    </tr>\n",
       "    <tr>\n",
       "      <th>1372</th>\n",
       "      <td>1.0</td>\n",
       "      <td>Sweden</td>\n",
       "      <td>0.0</td>\n",
       "      <td>Denmark</td>\n",
       "      <td>12</td>\n",
       "      <td>1098.82</td>\n",
       "      <td>1099</td>\n",
       "      <td>0</td>\n",
       "      <td>784.52</td>\n",
       "      <td>784.52</td>\n",
       "      <td>...</td>\n",
       "      <td>659.74</td>\n",
       "      <td>659.74</td>\n",
       "      <td>302.57</td>\n",
       "      <td>151.28</td>\n",
       "      <td>462.48</td>\n",
       "      <td>138.74</td>\n",
       "      <td>253.40</td>\n",
       "      <td>50.68</td>\n",
       "      <td>0</td>\n",
       "      <td>-6</td>\n",
       "    </tr>\n",
       "    <tr>\n",
       "      <th>1373</th>\n",
       "      <td>0.0</td>\n",
       "      <td>Denmark</td>\n",
       "      <td>0.0</td>\n",
       "      <td>Sweden</td>\n",
       "      <td>18</td>\n",
       "      <td>1000.44</td>\n",
       "      <td>998</td>\n",
       "      <td>0</td>\n",
       "      <td>659.74</td>\n",
       "      <td>659.74</td>\n",
       "      <td>...</td>\n",
       "      <td>784.52</td>\n",
       "      <td>784.52</td>\n",
       "      <td>289.97</td>\n",
       "      <td>144.99</td>\n",
       "      <td>310.70</td>\n",
       "      <td>93.21</td>\n",
       "      <td>380.53</td>\n",
       "      <td>76.11</td>\n",
       "      <td>1</td>\n",
       "      <td>6</td>\n",
       "    </tr>\n",
       "    <tr>\n",
       "      <th>1374</th>\n",
       "      <td>0.0</td>\n",
       "      <td>Saudi Arabia</td>\n",
       "      <td>4.0</td>\n",
       "      <td>Belgium</td>\n",
       "      <td>5</td>\n",
       "      <td>1325.29</td>\n",
       "      <td>1325</td>\n",
       "      <td>0</td>\n",
       "      <td>626.00</td>\n",
       "      <td>626.00</td>\n",
       "      <td>...</td>\n",
       "      <td>219.26</td>\n",
       "      <td>219.26</td>\n",
       "      <td>324.72</td>\n",
       "      <td>162.36</td>\n",
       "      <td>384.56</td>\n",
       "      <td>115.37</td>\n",
       "      <td>122.58</td>\n",
       "      <td>24.52</td>\n",
       "      <td>2</td>\n",
       "      <td>-60</td>\n",
       "    </tr>\n",
       "    <tr>\n",
       "      <th>1375</th>\n",
       "      <td>0.0</td>\n",
       "      <td>Portugal</td>\n",
       "      <td>0.0</td>\n",
       "      <td>Belgium</td>\n",
       "      <td>5</td>\n",
       "      <td>1325.29</td>\n",
       "      <td>1325</td>\n",
       "      <td>0</td>\n",
       "      <td>626.00</td>\n",
       "      <td>626.00</td>\n",
       "      <td>...</td>\n",
       "      <td>744.16</td>\n",
       "      <td>744.16</td>\n",
       "      <td>617.85</td>\n",
       "      <td>308.92</td>\n",
       "      <td>635.88</td>\n",
       "      <td>190.76</td>\n",
       "      <td>570.26</td>\n",
       "      <td>114.05</td>\n",
       "      <td>1</td>\n",
       "      <td>2</td>\n",
       "    </tr>\n",
       "  </tbody>\n",
       "</table>\n",
       "<p>5 rows × 30 columns</p>\n",
       "</div>"
      ],
      "text/plain": [
       "      Away Team Goals Away Team Name  Home Team Goals Home Team Name  \\\n",
       "1371              0.0         Panama              1.0        Denmark   \n",
       "1372              1.0         Sweden              0.0        Denmark   \n",
       "1373              0.0        Denmark              0.0         Sweden   \n",
       "1374              0.0   Saudi Arabia              4.0        Belgium   \n",
       "1375              0.0       Portugal              0.0        Belgium   \n",
       "\n",
       "      home_rank  home_total_points  home_previous_points  home_rank_change  \\\n",
       "1371         12            1098.82                  1099                 0   \n",
       "1372         12            1098.82                  1099                 0   \n",
       "1373         18            1000.44                   998                 0   \n",
       "1374          5            1325.29                  1325                 0   \n",
       "1375          5            1325.29                  1325                 0   \n",
       "\n",
       "      home_cur_year_avg  home_cur_year_avg_weighted    ...     \\\n",
       "1371             784.52                      784.52    ...      \n",
       "1372             784.52                      784.52    ...      \n",
       "1373             659.74                      659.74    ...      \n",
       "1374             626.00                      626.00    ...      \n",
       "1375             626.00                      626.00    ...      \n",
       "\n",
       "      away_cur_year_avg  away_cur_year_avg_weighted  away_last_year_avg  \\\n",
       "1371             369.95                      369.95              290.38   \n",
       "1372             659.74                      659.74              302.57   \n",
       "1373             784.52                      784.52              289.97   \n",
       "1374             219.26                      219.26              324.72   \n",
       "1375             744.16                      744.16              617.85   \n",
       "\n",
       "      away_last_year_avg_weighted  away_two_year_ago_avg  \\\n",
       "1371                       145.19                 277.41   \n",
       "1372                       151.28                 462.48   \n",
       "1373                       144.99                 310.70   \n",
       "1374                       162.36                 384.56   \n",
       "1375                       308.92                 635.88   \n",
       "\n",
       "      away_two_year_ago_weighted  away_three_year_ago_avg  \\\n",
       "1371                       83.22                   189.81   \n",
       "1372                      138.74                   253.40   \n",
       "1373                       93.21                   380.53   \n",
       "1374                      115.37                   122.58   \n",
       "1375                      190.76                   570.26   \n",
       "\n",
       "      away_three_year_ago_weighted  winning_team  RankDiff  \n",
       "1371                         37.96             2       -41  \n",
       "1372                         50.68             0        -6  \n",
       "1373                         76.11             1         6  \n",
       "1374                         24.52             2       -60  \n",
       "1375                        114.05             1         2  \n",
       "\n",
       "[5 rows x 30 columns]"
      ]
     },
     "execution_count": 56,
     "metadata": {},
     "output_type": "execute_result"
    }
   ],
   "source": [
    "df.tail()"
   ]
  },
  {
   "cell_type": "code",
   "execution_count": 57,
   "metadata": {},
   "outputs": [
    {
     "data": {
      "text/plain": [
       "Index(['Away Team Goals', 'Away Team Name', 'Home Team Goals',\n",
       "       'Home Team Name', 'home_rank', 'home_total_points',\n",
       "       'home_previous_points', 'home_rank_change', 'home_cur_year_avg',\n",
       "       'home_cur_year_avg_weighted', 'home_last_year_avg',\n",
       "       'home_last_year_avg_weighted', 'home_two_year_ago_avg',\n",
       "       'home_two_year_ago_weighted', 'home_three_year_ago_avg',\n",
       "       'home_three_year_ago_weighted', 'away_rank', 'away_total_points',\n",
       "       'away_previous_points', 'away_rank_change', 'away_cur_year_avg',\n",
       "       'away_cur_year_avg_weighted', 'away_last_year_avg',\n",
       "       'away_last_year_avg_weighted', 'away_two_year_ago_avg',\n",
       "       'away_two_year_ago_weighted', 'away_three_year_ago_avg',\n",
       "       'away_three_year_ago_weighted', 'winning_team', 'RankDiff'],\n",
       "      dtype='object')"
      ]
     },
     "execution_count": 57,
     "metadata": {},
     "output_type": "execute_result"
    }
   ],
   "source": [
    "df.columns"
   ]
  },
  {
   "cell_type": "code",
   "execution_count": 58,
   "metadata": {},
   "outputs": [],
   "source": [
    "#label encoder / getDummies\n",
    "from sklearn.preprocessing import LabelEncoder\n"
   ]
  },
  {
   "cell_type": "code",
   "execution_count": 59,
   "metadata": {},
   "outputs": [],
   "source": [
    "word_cup_teams = [\n",
    "    \"Egypt\",\n",
    "    \"Morocco\",\n",
    "    \"Nigeria\",\n",
    "    \"Senegal\",\n",
    "    \"Tunisia\",\n",
    "    \"Australia\",\n",
    "    \"IR Iran\",\n",
    "    \"Japan\",\n",
    "    \"Korea DPR\",\n",
    "    \"Saudi Arabia\",\n",
    "    \"Belgium\",\n",
    "    \"Croatia\",\n",
    "    \"Denmark\",\n",
    "    \"England\",\n",
    "    \"France\",\n",
    "    \"Germany\",\n",
    "    \"Iceland\",\n",
    "    \"Poland\",\n",
    "    \"Portugal\",\n",
    "    \"Russia\",\n",
    "    \"Serbia\",\n",
    "    \"Spain\",\n",
    "    \"Sweden\",\n",
    "    \"Switzerland\",\n",
    "    \"Costa Rica\",\n",
    "    \"Mexico\",\n",
    "    \"Panama\",\n",
    "    \"Argentina\",\n",
    "    \"Brazil\",\n",
    "    \"Colombia\",\n",
    "    \"Peru\",\n",
    "    \"Uruguay\"\n",
    "]\n",
    "\n",
    "team_names = list(df[\"Home Team Name\"].unique()) + list(df[\"Away Team Name\"].unique()) + word_cup_teams\n"
   ]
  },
  {
   "cell_type": "code",
   "execution_count": 60,
   "metadata": {},
   "outputs": [],
   "source": [
    "team_name_encoder = LabelEncoder().fit(team_names)"
   ]
  },
  {
   "cell_type": "code",
   "execution_count": 61,
   "metadata": {},
   "outputs": [],
   "source": [
    "X = df.drop(['Away Team Goals', 'Home Team Goals', 'home_rank', 'away_rank', 'winning_team'], axis=1)"
   ]
  },
  {
   "cell_type": "code",
   "execution_count": 62,
   "metadata": {},
   "outputs": [
    {
     "data": {
      "text/plain": [
       "Index(['Away Team Name', 'Home Team Name', 'home_total_points',\n",
       "       'home_previous_points', 'home_rank_change', 'home_cur_year_avg',\n",
       "       'home_cur_year_avg_weighted', 'home_last_year_avg',\n",
       "       'home_last_year_avg_weighted', 'home_two_year_ago_avg',\n",
       "       'home_two_year_ago_weighted', 'home_three_year_ago_avg',\n",
       "       'home_three_year_ago_weighted', 'away_total_points',\n",
       "       'away_previous_points', 'away_rank_change', 'away_cur_year_avg',\n",
       "       'away_cur_year_avg_weighted', 'away_last_year_avg',\n",
       "       'away_last_year_avg_weighted', 'away_two_year_ago_avg',\n",
       "       'away_two_year_ago_weighted', 'away_three_year_ago_avg',\n",
       "       'away_three_year_ago_weighted', 'RankDiff'],\n",
       "      dtype='object')"
      ]
     },
     "execution_count": 62,
     "metadata": {},
     "output_type": "execute_result"
    }
   ],
   "source": [
    "X.columns"
   ]
  },
  {
   "cell_type": "code",
   "execution_count": 63,
   "metadata": {},
   "outputs": [],
   "source": [
    "y = df['winning_team']"
   ]
  },
  {
   "cell_type": "code",
   "execution_count": 64,
   "metadata": {},
   "outputs": [],
   "source": [
    "X[\"Home Team Name\"] = team_name_encoder.transform(X[\"Home Team Name\"])\n",
    "X[\"Away Team Name\"] = team_name_encoder.transform(X[\"Away Team Name\"])"
   ]
  },
  {
   "cell_type": "code",
   "execution_count": 65,
   "metadata": {},
   "outputs": [
    {
     "data": {
      "text/html": [
       "<div>\n",
       "<style scoped>\n",
       "    .dataframe tbody tr th:only-of-type {\n",
       "        vertical-align: middle;\n",
       "    }\n",
       "\n",
       "    .dataframe tbody tr th {\n",
       "        vertical-align: top;\n",
       "    }\n",
       "\n",
       "    .dataframe thead th {\n",
       "        text-align: right;\n",
       "    }\n",
       "</style>\n",
       "<table border=\"1\" class=\"dataframe\">\n",
       "  <thead>\n",
       "    <tr style=\"text-align: right;\">\n",
       "      <th></th>\n",
       "      <th>Away Team Name</th>\n",
       "      <th>Home Team Name</th>\n",
       "      <th>home_total_points</th>\n",
       "      <th>home_previous_points</th>\n",
       "      <th>home_rank_change</th>\n",
       "      <th>home_cur_year_avg</th>\n",
       "      <th>home_cur_year_avg_weighted</th>\n",
       "      <th>home_last_year_avg</th>\n",
       "      <th>home_last_year_avg_weighted</th>\n",
       "      <th>home_two_year_ago_avg</th>\n",
       "      <th>...</th>\n",
       "      <th>away_rank_change</th>\n",
       "      <th>away_cur_year_avg</th>\n",
       "      <th>away_cur_year_avg_weighted</th>\n",
       "      <th>away_last_year_avg</th>\n",
       "      <th>away_last_year_avg_weighted</th>\n",
       "      <th>away_two_year_ago_avg</th>\n",
       "      <th>away_two_year_ago_weighted</th>\n",
       "      <th>away_three_year_ago_avg</th>\n",
       "      <th>away_three_year_ago_weighted</th>\n",
       "      <th>RankDiff</th>\n",
       "    </tr>\n",
       "  </thead>\n",
       "  <tbody>\n",
       "    <tr>\n",
       "      <th>1371</th>\n",
       "      <td>20</td>\n",
       "      <td>7</td>\n",
       "      <td>1098.82</td>\n",
       "      <td>1099</td>\n",
       "      <td>0</td>\n",
       "      <td>784.52</td>\n",
       "      <td>784.52</td>\n",
       "      <td>289.97</td>\n",
       "      <td>144.99</td>\n",
       "      <td>310.70</td>\n",
       "      <td>...</td>\n",
       "      <td>2</td>\n",
       "      <td>369.95</td>\n",
       "      <td>369.95</td>\n",
       "      <td>290.38</td>\n",
       "      <td>145.19</td>\n",
       "      <td>277.41</td>\n",
       "      <td>83.22</td>\n",
       "      <td>189.81</td>\n",
       "      <td>37.96</td>\n",
       "      <td>-41</td>\n",
       "    </tr>\n",
       "    <tr>\n",
       "      <th>1372</th>\n",
       "      <td>29</td>\n",
       "      <td>7</td>\n",
       "      <td>1098.82</td>\n",
       "      <td>1099</td>\n",
       "      <td>0</td>\n",
       "      <td>784.52</td>\n",
       "      <td>784.52</td>\n",
       "      <td>289.97</td>\n",
       "      <td>144.99</td>\n",
       "      <td>310.70</td>\n",
       "      <td>...</td>\n",
       "      <td>0</td>\n",
       "      <td>659.74</td>\n",
       "      <td>659.74</td>\n",
       "      <td>302.57</td>\n",
       "      <td>151.28</td>\n",
       "      <td>462.48</td>\n",
       "      <td>138.74</td>\n",
       "      <td>253.40</td>\n",
       "      <td>50.68</td>\n",
       "      <td>-6</td>\n",
       "    </tr>\n",
       "    <tr>\n",
       "      <th>1373</th>\n",
       "      <td>7</td>\n",
       "      <td>29</td>\n",
       "      <td>1000.44</td>\n",
       "      <td>998</td>\n",
       "      <td>0</td>\n",
       "      <td>659.74</td>\n",
       "      <td>659.74</td>\n",
       "      <td>302.57</td>\n",
       "      <td>151.28</td>\n",
       "      <td>462.48</td>\n",
       "      <td>...</td>\n",
       "      <td>0</td>\n",
       "      <td>784.52</td>\n",
       "      <td>784.52</td>\n",
       "      <td>289.97</td>\n",
       "      <td>144.99</td>\n",
       "      <td>310.70</td>\n",
       "      <td>93.21</td>\n",
       "      <td>380.53</td>\n",
       "      <td>76.11</td>\n",
       "      <td>6</td>\n",
       "    </tr>\n",
       "    <tr>\n",
       "      <th>1374</th>\n",
       "      <td>25</td>\n",
       "      <td>2</td>\n",
       "      <td>1325.29</td>\n",
       "      <td>1325</td>\n",
       "      <td>0</td>\n",
       "      <td>626.00</td>\n",
       "      <td>626.00</td>\n",
       "      <td>600.01</td>\n",
       "      <td>300.00</td>\n",
       "      <td>764.94</td>\n",
       "      <td>...</td>\n",
       "      <td>-2</td>\n",
       "      <td>219.26</td>\n",
       "      <td>219.26</td>\n",
       "      <td>324.72</td>\n",
       "      <td>162.36</td>\n",
       "      <td>384.56</td>\n",
       "      <td>115.37</td>\n",
       "      <td>122.58</td>\n",
       "      <td>24.52</td>\n",
       "      <td>-60</td>\n",
       "    </tr>\n",
       "    <tr>\n",
       "      <th>1375</th>\n",
       "      <td>23</td>\n",
       "      <td>2</td>\n",
       "      <td>1325.29</td>\n",
       "      <td>1325</td>\n",
       "      <td>0</td>\n",
       "      <td>626.00</td>\n",
       "      <td>626.00</td>\n",
       "      <td>600.01</td>\n",
       "      <td>300.00</td>\n",
       "      <td>764.94</td>\n",
       "      <td>...</td>\n",
       "      <td>0</td>\n",
       "      <td>744.16</td>\n",
       "      <td>744.16</td>\n",
       "      <td>617.85</td>\n",
       "      <td>308.92</td>\n",
       "      <td>635.88</td>\n",
       "      <td>190.76</td>\n",
       "      <td>570.26</td>\n",
       "      <td>114.05</td>\n",
       "      <td>2</td>\n",
       "    </tr>\n",
       "  </tbody>\n",
       "</table>\n",
       "<p>5 rows × 25 columns</p>\n",
       "</div>"
      ],
      "text/plain": [
       "      Away Team Name  Home Team Name  home_total_points  home_previous_points  \\\n",
       "1371              20               7            1098.82                  1099   \n",
       "1372              29               7            1098.82                  1099   \n",
       "1373               7              29            1000.44                   998   \n",
       "1374              25               2            1325.29                  1325   \n",
       "1375              23               2            1325.29                  1325   \n",
       "\n",
       "      home_rank_change  home_cur_year_avg  home_cur_year_avg_weighted  \\\n",
       "1371                 0             784.52                      784.52   \n",
       "1372                 0             784.52                      784.52   \n",
       "1373                 0             659.74                      659.74   \n",
       "1374                 0             626.00                      626.00   \n",
       "1375                 0             626.00                      626.00   \n",
       "\n",
       "      home_last_year_avg  home_last_year_avg_weighted  home_two_year_ago_avg  \\\n",
       "1371              289.97                       144.99                 310.70   \n",
       "1372              289.97                       144.99                 310.70   \n",
       "1373              302.57                       151.28                 462.48   \n",
       "1374              600.01                       300.00                 764.94   \n",
       "1375              600.01                       300.00                 764.94   \n",
       "\n",
       "        ...     away_rank_change  away_cur_year_avg  \\\n",
       "1371    ...                    2             369.95   \n",
       "1372    ...                    0             659.74   \n",
       "1373    ...                    0             784.52   \n",
       "1374    ...                   -2             219.26   \n",
       "1375    ...                    0             744.16   \n",
       "\n",
       "      away_cur_year_avg_weighted  away_last_year_avg  \\\n",
       "1371                      369.95              290.38   \n",
       "1372                      659.74              302.57   \n",
       "1373                      784.52              289.97   \n",
       "1374                      219.26              324.72   \n",
       "1375                      744.16              617.85   \n",
       "\n",
       "      away_last_year_avg_weighted  away_two_year_ago_avg  \\\n",
       "1371                       145.19                 277.41   \n",
       "1372                       151.28                 462.48   \n",
       "1373                       144.99                 310.70   \n",
       "1374                       162.36                 384.56   \n",
       "1375                       308.92                 635.88   \n",
       "\n",
       "      away_two_year_ago_weighted  away_three_year_ago_avg  \\\n",
       "1371                       83.22                   189.81   \n",
       "1372                      138.74                   253.40   \n",
       "1373                       93.21                   380.53   \n",
       "1374                      115.37                   122.58   \n",
       "1375                      190.76                   570.26   \n",
       "\n",
       "      away_three_year_ago_weighted  RankDiff  \n",
       "1371                         37.96       -41  \n",
       "1372                         50.68        -6  \n",
       "1373                         76.11         6  \n",
       "1374                         24.52       -60  \n",
       "1375                        114.05         2  \n",
       "\n",
       "[5 rows x 25 columns]"
      ]
     },
     "execution_count": 65,
     "metadata": {},
     "output_type": "execute_result"
    }
   ],
   "source": [
    "X.tail()"
   ]
  },
  {
   "cell_type": "code",
   "execution_count": 66,
   "metadata": {},
   "outputs": [],
   "source": [
    "from sklearn.model_selection import train_test_split"
   ]
  },
  {
   "cell_type": "code",
   "execution_count": 67,
   "metadata": {},
   "outputs": [],
   "source": [
    "X_train, X_test, y_train, y_test = train_test_split(X, y, test_size=0.3, random_state=42)"
   ]
  },
  {
   "cell_type": "code",
   "execution_count": 68,
   "metadata": {},
   "outputs": [],
   "source": [
    "from sklearn.linear_model import LogisticRegression"
   ]
  },
  {
   "cell_type": "code",
   "execution_count": 69,
   "metadata": {},
   "outputs": [],
   "source": [
    "logreg = LogisticRegression()"
   ]
  },
  {
   "cell_type": "code",
   "execution_count": 70,
   "metadata": {},
   "outputs": [
    {
     "data": {
      "text/plain": [
       "LogisticRegression(C=1.0, class_weight=None, dual=False, fit_intercept=True,\n",
       "          intercept_scaling=1, max_iter=100, multi_class='ovr', n_jobs=1,\n",
       "          penalty='l2', random_state=None, solver='liblinear', tol=0.0001,\n",
       "          verbose=0, warm_start=False)"
      ]
     },
     "execution_count": 70,
     "metadata": {},
     "output_type": "execute_result"
    }
   ],
   "source": [
    "logreg.fit(X_train, y_train)"
   ]
  },
  {
   "cell_type": "code",
   "execution_count": 71,
   "metadata": {},
   "outputs": [],
   "source": [
    "pred = logreg.predict(X_test)"
   ]
  },
  {
   "cell_type": "code",
   "execution_count": 72,
   "metadata": {},
   "outputs": [],
   "source": [
    "from sklearn.metrics import classification_report"
   ]
  },
  {
   "cell_type": "code",
   "execution_count": 73,
   "metadata": {},
   "outputs": [
    {
     "name": "stdout",
     "output_type": "stream",
     "text": [
      "             precision    recall  f1-score   support\n",
      "\n",
      "          0       0.53      0.38      0.44       140\n",
      "          1       0.49      0.25      0.33        97\n",
      "          2       0.56      0.84      0.67       176\n",
      "\n",
      "avg / total       0.53      0.54      0.51       413\n",
      "\n"
     ]
    }
   ],
   "source": [
    "print(classification_report(y_test, pred))"
   ]
  },
  {
   "cell_type": "code",
   "execution_count": null,
   "metadata": {},
   "outputs": [],
   "source": []
  },
  {
   "cell_type": "code",
   "execution_count": 74,
   "metadata": {},
   "outputs": [
    {
     "data": {
      "text/plain": [
       "(1376, 25)"
      ]
     },
     "execution_count": 74,
     "metadata": {},
     "output_type": "execute_result"
    }
   ],
   "source": [
    "X.shape"
   ]
  },
  {
   "cell_type": "code",
   "execution_count": 75,
   "metadata": {},
   "outputs": [
    {
     "data": {
      "text/plain": [
       "(1376,)"
      ]
     },
     "execution_count": 75,
     "metadata": {},
     "output_type": "execute_result"
    }
   ],
   "source": [
    "y.shape"
   ]
  },
  {
   "cell_type": "code",
   "execution_count": 76,
   "metadata": {},
   "outputs": [],
   "source": [
    "X_train = X.iloc[:1001,:]"
   ]
  },
  {
   "cell_type": "code",
   "execution_count": 77,
   "metadata": {},
   "outputs": [],
   "source": [
    "X_test = X.iloc[1001:,:]"
   ]
  },
  {
   "cell_type": "code",
   "execution_count": 78,
   "metadata": {},
   "outputs": [
    {
     "data": {
      "text/plain": [
       "(375, 25)"
      ]
     },
     "execution_count": 78,
     "metadata": {},
     "output_type": "execute_result"
    }
   ],
   "source": [
    "X_test.shape"
   ]
  },
  {
   "cell_type": "code",
   "execution_count": 79,
   "metadata": {},
   "outputs": [],
   "source": [
    "y_train = y.iloc[:1001]"
   ]
  },
  {
   "cell_type": "code",
   "execution_count": 80,
   "metadata": {},
   "outputs": [],
   "source": [
    "y_test = y.iloc[1001:]"
   ]
  },
  {
   "cell_type": "code",
   "execution_count": null,
   "metadata": {},
   "outputs": [],
   "source": []
  },
  {
   "cell_type": "code",
   "execution_count": 81,
   "metadata": {},
   "outputs": [],
   "source": [
    "logreg2 = LogisticRegression()"
   ]
  },
  {
   "cell_type": "code",
   "execution_count": 82,
   "metadata": {},
   "outputs": [
    {
     "data": {
      "text/plain": [
       "LogisticRegression(C=1.0, class_weight=None, dual=False, fit_intercept=True,\n",
       "          intercept_scaling=1, max_iter=100, multi_class='ovr', n_jobs=1,\n",
       "          penalty='l2', random_state=None, solver='liblinear', tol=0.0001,\n",
       "          verbose=0, warm_start=False)"
      ]
     },
     "execution_count": 82,
     "metadata": {},
     "output_type": "execute_result"
    }
   ],
   "source": [
    "logreg2.fit(X_train, y_train)"
   ]
  },
  {
   "cell_type": "code",
   "execution_count": 83,
   "metadata": {},
   "outputs": [],
   "source": [
    "pred2 = logreg2.predict(X_test)"
   ]
  },
  {
   "cell_type": "code",
   "execution_count": null,
   "metadata": {},
   "outputs": [],
   "source": []
  },
  {
   "cell_type": "code",
   "execution_count": 84,
   "metadata": {},
   "outputs": [],
   "source": [
    "from sklearn.metrics import classification_report"
   ]
  },
  {
   "cell_type": "code",
   "execution_count": 85,
   "metadata": {},
   "outputs": [
    {
     "name": "stdout",
     "output_type": "stream",
     "text": [
      "             precision    recall  f1-score   support\n",
      "\n",
      "          0       0.27      0.33      0.30       107\n",
      "          1       0.14      0.13      0.13        87\n",
      "          2       0.59      0.55      0.57       181\n",
      "\n",
      "avg / total       0.40      0.39      0.39       375\n",
      "\n"
     ]
    }
   ],
   "source": [
    "print(classification_report(y_test, pred2))"
   ]
  },
  {
   "cell_type": "code",
   "execution_count": 86,
   "metadata": {},
   "outputs": [],
   "source": [
    "fifa_ranking = pd.read_csv('fifa_rank_over_time.csv')"
   ]
  },
  {
   "cell_type": "code",
   "execution_count": 87,
   "metadata": {},
   "outputs": [],
   "source": [
    "fifarank18 = fifa_ranking.iloc[57371:].drop(['country_abrv', 'confederation', 'rank_date'], axis=1).reset_index()"
   ]
  },
  {
   "cell_type": "code",
   "execution_count": 88,
   "metadata": {},
   "outputs": [],
   "source": [
    "def pred_match(team1, team2):\n",
    "    # need to load this file from db\n",
    "    # fifa_ranking = pd.read_csv('fifa_rank_over_time.csv')\n",
    "    # fifarank18 = fifarank.iloc[57371:].drop(['country_abrv', 'confederation', 'rank_date'], axis=1).reset_index()\n",
    "\n",
    "    home_team_rank = fifarank18.loc[fifarank18.country_full == team1].drop(\n",
    "        'index', axis=1)\n",
    "    away_team_rank = fifarank18.loc[fifarank18.country_full == team2].drop(\n",
    "        'index', axis=1)\n",
    "\n",
    "    home_team_rank.reset_index(drop=True, inplace=True)\n",
    "    away_team_rank.reset_index(drop=True, inplace=True)\n",
    "\n",
    "    match_pred = home_team_rank.join(\n",
    "        away_team_rank, lsuffix='_home', rsuffix='_away')\n",
    "    # add missing columns\n",
    "    match_pred['Away Team Name'] = team2\n",
    "    match_pred['Home Team Name'] = team1\n",
    "    match_pred['RankDiff'] = match_pred.rank_home - match_pred.rank_away\n",
    "\n",
    "    # select only necessay columns\n",
    "    match_pred_2 = match_pred[['Away Team Name', 'Home Team Name', 'total_points_home', 'previous_points_home', 'rank_change_home', 'cur_year_avg_home',\n",
    "                               'cur_year_avg_weighted_home', 'last_year_avg_home',\n",
    "                               'last_year_avg_weighted_home', 'two_year_ago_avg_home',\n",
    "                               'two_year_ago_weighted_home', 'three_year_ago_avg_home',\n",
    "                               'three_year_ago_weighted_home', 'total_points_away', 'previous_points_away', 'rank_change_away',\n",
    "                               'cur_year_avg_away', 'cur_year_avg_weighted_away', 'last_year_avg_away',\n",
    "                               'last_year_avg_weighted_away', 'two_year_ago_avg_away',\n",
    "                               'two_year_ago_weighted_away', 'three_year_ago_avg_away',\n",
    "                               'three_year_ago_weighted_away', 'RankDiff']]\n",
    "\n",
    "    # conform to train format\n",
    "    match_pred_2.columns = ['Away Team Name', 'Home Team Name', 'home_total_points',\n",
    "                            'home_previous_points', 'home_rank_change', 'home_cur_year_avg',\n",
    "                            'home_cur_year_avg_weighted', 'home_last_year_avg',\n",
    "                            'home_last_year_avg_weighted', 'home_two_year_ago_avg',\n",
    "                            'home_two_year_ago_weighted', 'home_three_year_ago_avg',\n",
    "                            'home_three_year_ago_weighted', 'away_total_points',\n",
    "                            'away_previous_points', 'away_rank_change', 'away_cur_year_avg',\n",
    "                            'away_cur_year_avg_weighted', 'away_last_year_avg',\n",
    "                            'away_last_year_avg_weighted', 'away_two_year_ago_avg',\n",
    "                            'away_two_year_ago_weighted', 'away_three_year_ago_avg',\n",
    "                            'away_three_year_ago_weighted', 'RankDiff']\n",
    "\n",
    "    return match_pred_2"
   ]
  },
  {
   "cell_type": "code",
   "execution_count": 145,
   "metadata": {},
   "outputs": [],
   "source": [
    "home_team_rank = fifarank18.loc[fifarank18.country_full == 'Russia'].drop('index', axis=1)"
   ]
  },
  {
   "cell_type": "code",
   "execution_count": 146,
   "metadata": {},
   "outputs": [],
   "source": [
    "away_team_rank = fifarank18.loc[fifarank18.country_full == 'Saudi Arabia'].drop('index', axis=1)"
   ]
  },
  {
   "cell_type": "code",
   "execution_count": 147,
   "metadata": {},
   "outputs": [],
   "source": [
    "home_team_rank.reset_index(drop=True,inplace=True)"
   ]
  },
  {
   "cell_type": "code",
   "execution_count": 148,
   "metadata": {},
   "outputs": [],
   "source": [
    "away_team_rank.reset_index(drop=True,inplace=True)"
   ]
  },
  {
   "cell_type": "code",
   "execution_count": 178,
   "metadata": {},
   "outputs": [],
   "source": [
    "match_pred = home_team_rank.join(away_team_rank, lsuffix='_home', rsuffix='_away')"
   ]
  },
  {
   "cell_type": "code",
   "execution_count": 179,
   "metadata": {},
   "outputs": [],
   "source": [
    "match_pred['Away Team Name'] = 'Saudi Arabia'"
   ]
  },
  {
   "cell_type": "code",
   "execution_count": 180,
   "metadata": {},
   "outputs": [],
   "source": [
    "match_pred['Home Team Name'] = 'Russia'"
   ]
  },
  {
   "cell_type": "code",
   "execution_count": 182,
   "metadata": {},
   "outputs": [],
   "source": [
    "match_pred['RankDiff'] = match_pred.rank_home - match_pred.rank_away"
   ]
  },
  {
   "cell_type": "code",
   "execution_count": 184,
   "metadata": {},
   "outputs": [],
   "source": [
    "match_pred_2 = match_pred[['Away Team Name', 'Home Team Name', 'total_points_home','previous_points_home', 'rank_change_home', 'cur_year_avg_home',\n",
    "       'cur_year_avg_weighted_home', 'last_year_avg_home',\n",
    "       'last_year_avg_weighted_home', 'two_year_ago_avg_home',\n",
    "       'two_year_ago_weighted_home', 'three_year_ago_avg_home',\n",
    "       'three_year_ago_weighted_home','total_points_away', 'previous_points_away', 'rank_change_away',\n",
    "       'cur_year_avg_away', 'cur_year_avg_weighted_away', 'last_year_avg_away',\n",
    "       'last_year_avg_weighted_away', 'two_year_ago_avg_away',\n",
    "       'two_year_ago_weighted_away', 'three_year_ago_avg_away',\n",
    "       'three_year_ago_weighted_away','RankDiff']]"
   ]
  },
  {
   "cell_type": "code",
   "execution_count": 186,
   "metadata": {},
   "outputs": [],
   "source": [
    "match_pred_2.columns = ['Away Team Name', 'Home Team Name', 'home_total_points',\n",
    "       'home_previous_points', 'home_rank_change', 'home_cur_year_avg',\n",
    "       'home_cur_year_avg_weighted', 'home_last_year_avg',\n",
    "       'home_last_year_avg_weighted', 'home_two_year_ago_avg',\n",
    "       'home_two_year_ago_weighted', 'home_three_year_ago_avg',\n",
    "       'home_three_year_ago_weighted', 'away_total_points',\n",
    "       'away_previous_points', 'away_rank_change', 'away_cur_year_avg',\n",
    "       'away_cur_year_avg_weighted', 'away_last_year_avg',\n",
    "       'away_last_year_avg_weighted', 'away_two_year_ago_avg',\n",
    "       'away_two_year_ago_weighted', 'away_three_year_ago_avg',\n",
    "       'away_three_year_ago_weighted', 'RankDiff']"
   ]
  },
  {
   "cell_type": "code",
   "execution_count": 187,
   "metadata": {},
   "outputs": [
    {
     "data": {
      "text/html": [
       "<div>\n",
       "<style>\n",
       "    .dataframe thead tr:only-child th {\n",
       "        text-align: right;\n",
       "    }\n",
       "\n",
       "    .dataframe thead th {\n",
       "        text-align: left;\n",
       "    }\n",
       "\n",
       "    .dataframe tbody tr th {\n",
       "        vertical-align: top;\n",
       "    }\n",
       "</style>\n",
       "<table border=\"1\" class=\"dataframe\">\n",
       "  <thead>\n",
       "    <tr style=\"text-align: right;\">\n",
       "      <th></th>\n",
       "      <th>Away Team Name</th>\n",
       "      <th>Home Team Name</th>\n",
       "      <th>home_total_points</th>\n",
       "      <th>home_previous_points</th>\n",
       "      <th>home_rank_change</th>\n",
       "      <th>home_cur_year_avg</th>\n",
       "      <th>home_cur_year_avg_weighted</th>\n",
       "      <th>home_last_year_avg</th>\n",
       "      <th>home_last_year_avg_weighted</th>\n",
       "      <th>home_two_year_ago_avg</th>\n",
       "      <th>...</th>\n",
       "      <th>away_rank_change</th>\n",
       "      <th>away_cur_year_avg</th>\n",
       "      <th>away_cur_year_avg_weighted</th>\n",
       "      <th>away_last_year_avg</th>\n",
       "      <th>away_last_year_avg_weighted</th>\n",
       "      <th>away_two_year_ago_avg</th>\n",
       "      <th>away_two_year_ago_weighted</th>\n",
       "      <th>away_three_year_ago_avg</th>\n",
       "      <th>away_three_year_ago_weighted</th>\n",
       "      <th>RankDiff</th>\n",
       "    </tr>\n",
       "  </thead>\n",
       "  <tbody>\n",
       "    <tr>\n",
       "      <th>0</th>\n",
       "      <td>Saudi Arabia</td>\n",
       "      <td>Russia</td>\n",
       "      <td>493.15</td>\n",
       "      <td>493</td>\n",
       "      <td>0</td>\n",
       "      <td>211.16</td>\n",
       "      <td>211.16</td>\n",
       "      <td>168.88</td>\n",
       "      <td>84.44</td>\n",
       "      <td>419.66</td>\n",
       "      <td>...</td>\n",
       "      <td>3</td>\n",
       "      <td>143.97</td>\n",
       "      <td>143.97</td>\n",
       "      <td>360.2</td>\n",
       "      <td>180.1</td>\n",
       "      <td>380.91</td>\n",
       "      <td>114.27</td>\n",
       "      <td>118.2</td>\n",
       "      <td>23.64</td>\n",
       "      <td>-1</td>\n",
       "    </tr>\n",
       "  </tbody>\n",
       "</table>\n",
       "<p>1 rows × 25 columns</p>\n",
       "</div>"
      ],
      "text/plain": [
       "  Away Team Name Home Team Name  home_total_points  home_previous_points  \\\n",
       "0   Saudi Arabia         Russia             493.15                   493   \n",
       "\n",
       "   home_rank_change  home_cur_year_avg  home_cur_year_avg_weighted  \\\n",
       "0                 0             211.16                      211.16   \n",
       "\n",
       "   home_last_year_avg  home_last_year_avg_weighted  home_two_year_ago_avg  \\\n",
       "0              168.88                        84.44                 419.66   \n",
       "\n",
       "     ...     away_rank_change  away_cur_year_avg  away_cur_year_avg_weighted  \\\n",
       "0    ...                    3             143.97                      143.97   \n",
       "\n",
       "   away_last_year_avg  away_last_year_avg_weighted  away_two_year_ago_avg  \\\n",
       "0               360.2                        180.1                 380.91   \n",
       "\n",
       "   away_two_year_ago_weighted  away_three_year_ago_avg  \\\n",
       "0                      114.27                    118.2   \n",
       "\n",
       "   away_three_year_ago_weighted  RankDiff  \n",
       "0                         23.64        -1  \n",
       "\n",
       "[1 rows x 25 columns]"
      ]
     },
     "execution_count": 187,
     "metadata": {},
     "output_type": "execute_result"
    }
   ],
   "source": [
    "match_pred_2"
   ]
  },
  {
   "cell_type": "code",
   "execution_count": 100,
   "metadata": {},
   "outputs": [],
   "source": [
    "test_mat = pred_match(\"Spain\", \"Portugal\")"
   ]
  },
  {
   "cell_type": "code",
   "execution_count": 101,
   "metadata": {},
   "outputs": [
    {
     "data": {
      "text/html": [
       "<div>\n",
       "<style scoped>\n",
       "    .dataframe tbody tr th:only-of-type {\n",
       "        vertical-align: middle;\n",
       "    }\n",
       "\n",
       "    .dataframe tbody tr th {\n",
       "        vertical-align: top;\n",
       "    }\n",
       "\n",
       "    .dataframe thead th {\n",
       "        text-align: right;\n",
       "    }\n",
       "</style>\n",
       "<table border=\"1\" class=\"dataframe\">\n",
       "  <thead>\n",
       "    <tr style=\"text-align: right;\">\n",
       "      <th></th>\n",
       "      <th>Away Team Name</th>\n",
       "      <th>Home Team Name</th>\n",
       "      <th>home_total_points</th>\n",
       "      <th>home_previous_points</th>\n",
       "      <th>home_rank_change</th>\n",
       "      <th>home_cur_year_avg</th>\n",
       "      <th>home_cur_year_avg_weighted</th>\n",
       "      <th>home_last_year_avg</th>\n",
       "      <th>home_last_year_avg_weighted</th>\n",
       "      <th>home_two_year_ago_avg</th>\n",
       "      <th>...</th>\n",
       "      <th>away_rank_change</th>\n",
       "      <th>away_cur_year_avg</th>\n",
       "      <th>away_cur_year_avg_weighted</th>\n",
       "      <th>away_last_year_avg</th>\n",
       "      <th>away_last_year_avg_weighted</th>\n",
       "      <th>away_two_year_ago_avg</th>\n",
       "      <th>away_two_year_ago_weighted</th>\n",
       "      <th>away_three_year_ago_avg</th>\n",
       "      <th>away_three_year_ago_weighted</th>\n",
       "      <th>RankDiff</th>\n",
       "    </tr>\n",
       "  </thead>\n",
       "  <tbody>\n",
       "    <tr>\n",
       "      <th>0</th>\n",
       "      <td>Portugal</td>\n",
       "      <td>Spain</td>\n",
       "      <td>1161.59</td>\n",
       "      <td>1162</td>\n",
       "      <td>0</td>\n",
       "      <td>571.55</td>\n",
       "      <td>571.55</td>\n",
       "      <td>593.19</td>\n",
       "      <td>296.59</td>\n",
       "      <td>684.65</td>\n",
       "      <td>...</td>\n",
       "      <td>0</td>\n",
       "      <td>687.22</td>\n",
       "      <td>687.22</td>\n",
       "      <td>658.47</td>\n",
       "      <td>329.23</td>\n",
       "      <td>576.48</td>\n",
       "      <td>172.94</td>\n",
       "      <td>584.73</td>\n",
       "      <td>116.95</td>\n",
       "      <td>4</td>\n",
       "    </tr>\n",
       "  </tbody>\n",
       "</table>\n",
       "<p>1 rows × 25 columns</p>\n",
       "</div>"
      ],
      "text/plain": [
       "  Away Team Name Home Team Name  home_total_points  home_previous_points  \\\n",
       "0       Portugal          Spain            1161.59                  1162   \n",
       "\n",
       "   home_rank_change  home_cur_year_avg  home_cur_year_avg_weighted  \\\n",
       "0                 0             571.55                      571.55   \n",
       "\n",
       "   home_last_year_avg  home_last_year_avg_weighted  home_two_year_ago_avg  \\\n",
       "0              593.19                       296.59                 684.65   \n",
       "\n",
       "     ...     away_rank_change  away_cur_year_avg  away_cur_year_avg_weighted  \\\n",
       "0    ...                    0             687.22                      687.22   \n",
       "\n",
       "   away_last_year_avg  away_last_year_avg_weighted  away_two_year_ago_avg  \\\n",
       "0              658.47                       329.23                 576.48   \n",
       "\n",
       "   away_two_year_ago_weighted  away_three_year_ago_avg  \\\n",
       "0                      172.94                   584.73   \n",
       "\n",
       "   away_three_year_ago_weighted  RankDiff  \n",
       "0                        116.95         4  \n",
       "\n",
       "[1 rows x 25 columns]"
      ]
     },
     "execution_count": 101,
     "metadata": {},
     "output_type": "execute_result"
    }
   ],
   "source": [
    "test_mat"
   ]
  },
  {
   "cell_type": "code",
   "execution_count": 102,
   "metadata": {},
   "outputs": [],
   "source": [
    "test_mat[\"Home Team Name\"] = team_name_encoder.transform(test_mat[\"Home Team Name\"])\n",
    "test_mat[\"Away Team Name\"] = team_name_encoder.transform(test_mat[\"Away Team Name\"])"
   ]
  },
  {
   "cell_type": "code",
   "execution_count": 104,
   "metadata": {},
   "outputs": [
    {
     "data": {
      "text/plain": [
       "array([[0.32601969, 0.38241289, 0.29156742]])"
      ]
     },
     "execution_count": 104,
     "metadata": {},
     "output_type": "execute_result"
    }
   ],
   "source": [
    "logreg2.predict_proba(test_mat) "
   ]
  },
  {
   "cell_type": "code",
   "execution_count": null,
   "metadata": {},
   "outputs": [],
   "source": []
  }
 ],
 "metadata": {
  "kernelspec": {
   "display_name": "Python 3",
   "language": "python",
   "name": "python3"
  },
  "language_info": {
   "codemirror_mode": {
    "name": "ipython",
    "version": 3
   },
   "file_extension": ".py",
   "mimetype": "text/x-python",
   "name": "python",
   "nbconvert_exporter": "python",
   "pygments_lexer": "ipython3",
   "version": "3.6.5"
  }
 },
 "nbformat": 4,
 "nbformat_minor": 2
}
