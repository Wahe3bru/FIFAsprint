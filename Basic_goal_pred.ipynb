{
 "cells": [
  {
   "cell_type": "markdown",
   "metadata": {},
   "source": [
    "# Predicting Goals using Poisson \n",
    "reference: [oddsdigger.com](https://oddsdigger.com/za/blog/poisson-distribution-explained)\n",
    "\n",
    "Using data from 1872-11-30 to 2018-06-09"
   ]
  },
  {
   "cell_type": "code",
   "execution_count": 4,
   "metadata": {},
   "outputs": [],
   "source": [
    "import pandas as pd\n",
    "import matplotlib.pyplot as plt\n",
    "from scipy.stats import poisson\n"
   ]
  },
  {
   "cell_type": "code",
   "execution_count": 5,
   "metadata": {},
   "outputs": [],
   "source": [
    "matches = pd.read_csv(\"int_results1872-2018.csv\")"
   ]
  },
  {
   "cell_type": "code",
   "execution_count": 6,
   "metadata": {},
   "outputs": [],
   "source": [
    "matches = matches.astype({'date':'datetime64[ns]'})"
   ]
  },
  {
   "cell_type": "code",
   "execution_count": 5,
   "metadata": {},
   "outputs": [],
   "source": [
    "# all matches from 1994 onwards\n",
    "matches94 = matches[matches.date.dt.year>1993]"
   ]
  },
  {
   "cell_type": "code",
   "execution_count": 14,
   "metadata": {},
   "outputs": [
    {
     "data": {
      "text/plain": [
       "Friendly                                16476\n",
       "FIFA World Cup qualification             7100\n",
       "UEFA Euro qualification                  2332\n",
       "African Cup of Nations qualification     1558\n",
       "FIFA World Cup                            836\n",
       "Copa América                              787\n",
       "AFC Asian Cup qualification               724\n",
       "African Cup of Nations                    638\n",
       "CECAFA Cup                                620\n",
       "CFU Caribbean Cup qualification           606\n",
       "Merdeka Tournament                        504\n",
       "British Championship                      501\n",
       "Gulf Cup                                  333\n",
       "AFC Asian Cup                             319\n",
       "Gold Cup                                  296\n",
       "UEFA Euro                                 286\n",
       "Nordic Championship                       283\n",
       "COSAFA Cup                                272\n",
       "AFF Championship                          267\n",
       "CFU Caribbean Cup                         251\n",
       "Amílcar Cabral Cup                        235\n",
       "King's Cup                                234\n",
       "South Pacific Games                       198\n",
       "African Nations Championship              184\n",
       "UNCAF Cup                                 164\n",
       "Korea Cup                                 159\n",
       "Confederations Cup                        140\n",
       "International Cup                         127\n",
       "SAFF Cup                                  124\n",
       "CCCF Championship                         123\n",
       "                                        ...  \n",
       "Copa del Pacífico                          19\n",
       "Copa Rio Branco                            18\n",
       "Simba Tournament                           17\n",
       "Copa Carlos Dittborn                       16\n",
       "Copa Oswaldo Cruz                          16\n",
       "Copa Juan Pinto Durán                      16\n",
       "Copa Premio Honor Uruguayo                 15\n",
       "Millennium Cup                             15\n",
       "UNIFFAC Cup                                15\n",
       "Dunhill Cup                                15\n",
       "Nile Basin Tournament                      14\n",
       "GaNEFo                                     14\n",
       "Jordan International Tournament            13\n",
       "Copa Artigas                               13\n",
       "Copa Premio Honor Argentino                12\n",
       "King Hassan II Tournament                  12\n",
       "Atlantic Cup                               11\n",
       "SKN Football Festival                      11\n",
       "Rous Cup                                   11\n",
       "Tournoi de France                          10\n",
       "Copa Bernardo O'Higgins                    10\n",
       "VFF Cup                                     9\n",
       "UAFA Cup qualification                      9\n",
       "Mundialito                                  7\n",
       "NAFU Championship                           7\n",
       "Copa Ramón Castilla                         6\n",
       "Copa Félix Bogado                           6\n",
       "Nations Cup                                 6\n",
       "OSN Cup                                     4\n",
       "Dragon Cup                                  4\n",
       "Name: tournament, Length: 95, dtype: int64"
      ]
     },
     "execution_count": 14,
     "metadata": {},
     "output_type": "execute_result"
    }
   ],
   "source": [
    "matches.tournament.value_counts()"
   ]
  },
  {
   "cell_type": "code",
   "execution_count": 6,
   "metadata": {},
   "outputs": [
    {
     "data": {
      "text/html": [
       "<div>\n",
       "<style scoped>\n",
       "    .dataframe tbody tr th:only-of-type {\n",
       "        vertical-align: middle;\n",
       "    }\n",
       "\n",
       "    .dataframe tbody tr th {\n",
       "        vertical-align: top;\n",
       "    }\n",
       "\n",
       "    .dataframe thead th {\n",
       "        text-align: right;\n",
       "    }\n",
       "</style>\n",
       "<table border=\"1\" class=\"dataframe\">\n",
       "  <thead>\n",
       "    <tr style=\"text-align: right;\">\n",
       "      <th></th>\n",
       "      <th>date</th>\n",
       "      <th>home_team</th>\n",
       "      <th>away_team</th>\n",
       "      <th>home_score</th>\n",
       "      <th>away_score</th>\n",
       "      <th>tournament</th>\n",
       "      <th>city</th>\n",
       "      <th>country</th>\n",
       "      <th>neutral</th>\n",
       "    </tr>\n",
       "  </thead>\n",
       "  <tbody>\n",
       "    <tr>\n",
       "      <th>39040</th>\n",
       "      <td>2018-06-09</td>\n",
       "      <td>Estonia</td>\n",
       "      <td>Morocco</td>\n",
       "      <td>1</td>\n",
       "      <td>3</td>\n",
       "      <td>Friendly</td>\n",
       "      <td>Tallinn</td>\n",
       "      <td>Estonia</td>\n",
       "      <td>False</td>\n",
       "    </tr>\n",
       "    <tr>\n",
       "      <th>39041</th>\n",
       "      <td>2018-06-09</td>\n",
       "      <td>Latvia</td>\n",
       "      <td>Azerbaijan</td>\n",
       "      <td>1</td>\n",
       "      <td>3</td>\n",
       "      <td>Friendly</td>\n",
       "      <td>Riga</td>\n",
       "      <td>Latvia</td>\n",
       "      <td>False</td>\n",
       "    </tr>\n",
       "    <tr>\n",
       "      <th>39042</th>\n",
       "      <td>2018-06-09</td>\n",
       "      <td>Finland</td>\n",
       "      <td>Belarus</td>\n",
       "      <td>2</td>\n",
       "      <td>0</td>\n",
       "      <td>Friendly</td>\n",
       "      <td>Tampere</td>\n",
       "      <td>Finland</td>\n",
       "      <td>False</td>\n",
       "    </tr>\n",
       "    <tr>\n",
       "      <th>39043</th>\n",
       "      <td>2018-06-09</td>\n",
       "      <td>Tunisia</td>\n",
       "      <td>Spain</td>\n",
       "      <td>1</td>\n",
       "      <td>0</td>\n",
       "      <td>Friendly</td>\n",
       "      <td>Krasnodar</td>\n",
       "      <td>Russia</td>\n",
       "      <td>True</td>\n",
       "    </tr>\n",
       "    <tr>\n",
       "      <th>39044</th>\n",
       "      <td>2018-06-09</td>\n",
       "      <td>France</td>\n",
       "      <td>USA</td>\n",
       "      <td>1</td>\n",
       "      <td>1</td>\n",
       "      <td>Friendly</td>\n",
       "      <td>Lyon</td>\n",
       "      <td>France</td>\n",
       "      <td>False</td>\n",
       "    </tr>\n",
       "  </tbody>\n",
       "</table>\n",
       "</div>"
      ],
      "text/plain": [
       "            date home_team   away_team  home_score  away_score tournament  \\\n",
       "39040 2018-06-09   Estonia     Morocco           1           3   Friendly   \n",
       "39041 2018-06-09    Latvia  Azerbaijan           1           3   Friendly   \n",
       "39042 2018-06-09   Finland     Belarus           2           0   Friendly   \n",
       "39043 2018-06-09   Tunisia       Spain           1           0   Friendly   \n",
       "39044 2018-06-09    France         USA           1           1   Friendly   \n",
       "\n",
       "            city  country  neutral  \n",
       "39040    Tallinn  Estonia    False  \n",
       "39041       Riga   Latvia    False  \n",
       "39042    Tampere  Finland    False  \n",
       "39043  Krasnodar   Russia     True  \n",
       "39044       Lyon   France    False  "
      ]
     },
     "execution_count": 6,
     "metadata": {},
     "output_type": "execute_result"
    }
   ],
   "source": [
    "matches94.tail()"
   ]
  },
  {
   "cell_type": "markdown",
   "metadata": {},
   "source": [
    "---\n",
    "Basic Function to predict Goals using Home and Away stats.\n",
    "\n",
    "Home being the favourite to win"
   ]
  },
  {
   "cell_type": "code",
   "execution_count": 9,
   "metadata": {},
   "outputs": [],
   "source": [
    "def pred_goals(home, away, friendlies=True, min_year=1994):\n",
    "    matches_recent = matches[matches.date.dt.year > (min_year-1)]\n",
    "    goal_expectancy = {}\n",
    "    home_team = {}\n",
    "    away_team = {}\n",
    "    \n",
    "    if friendlies:\n",
    "        home = matches_recent[matches_recent['home_team'] == home][['home_team', 'home_score', 'away_score']] \n",
    "        away = matches_recent[matches_recent['away_team'] == away][['away_team', 'home_score', 'away_score']]\n",
    "    else:\n",
    "        home  = matches_recent[(matches_recent['home_team'] == home) & (matches_recent['tournament'] != 'Friendly')][['home_team', 'home_score', 'away_score']]\n",
    "        away  = matches_recent[(matches_recent['away_team'] == away) & (matches_recent['tournament'] != 'Friendly')][['away_team', 'home_score', 'away_score']]\n",
    "        \n",
    "    home_name = home.home_team.min()\n",
    "    away_name = away.away_team.min()\n",
    "    \n",
    "    # home team stats\n",
    "    home_team['ave_goals_for']     = home.home_score.mean()\n",
    "    home_team['ave_goals_against'] = home.away_score.mean()\n",
    "    home_team['attack_strength']   = home_team['ave_goals_for']     / matches_recent.home_score.mean()\n",
    "    home_team['defense_strength']  = home_team['ave_goals_against'] / matches_recent.away_score.mean()\n",
    "    \n",
    "    # away team stats\n",
    "    away_team['ave_goals_for']     = away.away_score.mean()\n",
    "    away_team['ave_goals_against'] = away.home_score.mean()\n",
    "    away_team['attack_strength']   = away_team['ave_goals_for']     / matches_recent.away_score.mean()\n",
    "    away_team['defense_strength']  = away_team['ave_goals_against'] / matches_recent.home_score.mean()\n",
    "    \n",
    "    # Home Team goal expectancy\n",
    "    # home team attacking strength X away team defensive strength X average goals home team\n",
    "    goal_expectancy['home_team_goals'] = home_team['attack_strength'] * away_team['defense_strength'] * matches_recent.home_score.mean()\n",
    "    \n",
    "    # Away Team goal expectancy\n",
    "    # away team attacking strength X home team defensive strength X ave goals away team\n",
    "    goal_expectancy['away_team_goals'] = away_team['attack_strength'] * home_team['defense_strength'] * matches_recent.away_score.mean()\n",
    "\n",
    "\n",
    "    # construct Poisson  for each mean goals value\n",
    "    poisson_pred_t1 = [poisson.pmf(k,home_team['ave_goals_for']) for k in range(10)]\n",
    "    poisson_pred_t2 = [poisson.pmf(k,away_team['ave_goals_for']) for k in range(10)]\n",
    "\n",
    "    plt.figure(figsize=(15,10))\n",
    "    # plot histogram of actual goals\n",
    "    plt.hist([home['home_score'].values, away['away_score'].values], range(11), alpha=0.7,\n",
    "             label=[home_name, away_name], normed=True, color=[\"#3498db\", \"#e74c3c\"])\n",
    "\n",
    "    # add lines for the Poisson distributions\n",
    "    pois1, = plt.plot([i-0.5 for i in range(1,11)], poisson_pred_t1,\n",
    "                  linestyle='-', marker='o',label=home_name, color = '#2980b9')\n",
    "    pois2, = plt.plot([i-0.5 for i in range(1,11)], poisson_pred_t2,\n",
    "                  linestyle='-', marker='o',label=away_name, color = '#c0392b')\n",
    "\n",
    "    leg=plt.legend(loc='upper right', fontsize=16, ncol=2)\n",
    "    leg.set_title(\"Poisson          Actual      \", prop = {'size':'18', 'weight':'bold'})\n",
    "\n",
    "    plt.xticks([i-0.5 for i in range(1,11)],[i for i in range(11)])\n",
    "    plt.xlabel(\"Goals per Match\",size=18)\n",
    "    plt.ylabel(\"Proportion of Matches\",size=18)\n",
    "    plt.title(\"Number of Goals per Match\",size=20,fontweight='bold')\n",
    "    plt.show()\n",
    "        \n",
    "    print(f\"{home_name} is predicted to score {goal_expectancy['home_team_goals']:.3}\")\n",
    "    print(f\"{away_name} is predicted to score {goal_expectancy['away_team_goals']:.3}\")\n",
    "    \n",
    "    print(f\"\\nUsing the results of {len(matches_recent)} matches. since {min_year},\\\n",
    "          \\n{home_name} played {len(home)} games at home and {away_name} played {len(away)} games away\")\n",
    "    \n",
    "    home_max_prob = max(poisson_pred_t1)\n",
    "    away_max_prob = max(poisson_pred_t2)\n",
    "    print(f\"\\n{home_name} will most likely score {poisson_pred_t1.index(home_max_prob)} with a probability of {home_max_prob}\")\n",
    "    print(f\"{away_name} will most likely score {poisson_pred_t2.index(away_max_prob)} with a probability of {away_max_prob}\")"
   ]
  },
  {
   "cell_type": "code",
   "execution_count": 19,
   "metadata": {},
   "outputs": [
    {
     "name": "stderr",
     "output_type": "stream",
     "text": [
      "C:\\ProgramData\\Anaconda3\\lib\\site-packages\\matplotlib\\axes\\_axes.py:6462: UserWarning: The 'normed' kwarg is deprecated, and has been replaced by the 'density' kwarg.\n",
      "  warnings.warn(\"The 'normed' kwarg is deprecated, and has been \"\n"
     ]
    },
    {
     "data": {
      "image/png": "[encoded data removed]",
      "text/plain": [
       "<Figure size 1080x720 with 1 Axes>"
      ]
     },
     "metadata": {},
     "output_type": "display_data"
    },
    {
     "name": "stdout",
     "output_type": "stream",
     "text": [
      "Argentina is predicted to score 2.13\n",
      "Iceland is predicted to score 0.715\n",
      "\n",
      "Using the results of 21076 matches. since 1994,          \n",
      "Argentina played 104 games at home and Iceland played 69 games away\n",
      "\n",
      "Argentina will most likely score 2 with a probability of 0.27064570186871406\n",
      "Iceland will most likely score 1 with a probability of 0.3661096355795859\n"
     ]
    }
   ],
   "source": [
    "pred_goals(\"Argentina\", \"Iceland\", friendlies=False)"
   ]
  },
  {
   "cell_type": "code",
   "execution_count": null,
   "metadata": {},
   "outputs": [],
   "source": []
  },
  {
   "cell_type": "code",
   "execution_count": null,
   "metadata": {},
   "outputs": [],
   "source": []
  },
  {
   "cell_type": "code",
   "execution_count": null,
   "metadata": {},
   "outputs": [],
   "source": []
  },
  {
   "cell_type": "code",
   "execution_count": null,
   "metadata": {},
   "outputs": [],
   "source": []
  }
 ],
 "metadata": {
  "kernelspec": {
   "display_name": "Python 3",
   "language": "python",
   "name": "python3"
  },
  "language_info": {
   "codemirror_mode": {
    "name": "ipython",
    "version": 3
   },
   "file_extension": ".py",
   "mimetype": "text/x-python",
   "name": "python",
   "nbconvert_exporter": "python",
   "pygments_lexer": "ipython3",
   "version": "3.6.5"
  }
 },
 "nbformat": 4,
 "nbformat_minor": 2
}
