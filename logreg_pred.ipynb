{
 "cells": [
  {
   "cell_type": "code",
   "execution_count": 4,
   "metadata": {},
   "outputs": [],
   "source": [
    "import pandas as pd\n",
    "import matplotlib.pyplot as plt\n",
    "import seaborn as sns\n",
    "%matplotlib inline"
   ]
  },
  {
   "cell_type": "code",
   "execution_count": 9,
   "metadata": {},
   "outputs": [],
   "source": [
    "df = pd.read_csv('finalR.csv').drop(['home_country', 'away_country', 'away_year', 'home_year'], axis=1)"
   ]
  },
  {
   "cell_type": "code",
   "execution_count": null,
   "metadata": {},
   "outputs": [],
   "source": []
  },
  {
   "cell_type": "markdown",
   "metadata": {},
   "source": [
    "# Add avg goals statistic to dataset"
   ]
  },
  {
   "cell_type": "code",
   "execution_count": 14,
   "metadata": {},
   "outputs": [],
   "source": [
    "def get_average_goals(home, away, year, ignore_sides=False):\n",
    "    avg_home = 0\n",
    "    avg_away = 0\n",
    "    n = 0\n",
    "    i = 0\n",
    "    \n",
    "    while i < len(df) and df[\"Year\"][i] <= year:\n",
    "        if (home.lower() in df[\"Home Team Name\"][i].lower() and\n",
    "            away.lower() in df[\"Away Team Name\"][i].lower()):\n",
    "                avg_home += df[\"Home Team Goals\"][i]\n",
    "                avg_away += df[\"Away Team Goals\"][i]\n",
    "                n+=1\n",
    "\n",
    "        if ignore_sides:\n",
    "            if (home.lower() in df[\"Away Team Name\"][i].lower() and\n",
    "                away.lower() in df[\"Home Team Name\"][i].lower()):\n",
    "                    avg_home += df[\"Away Team Goals\"][i]\n",
    "                    avg_away += df[\"Home Team Goals\"][i]\n",
    "                    n+=1\n",
    "                \n",
    "        i+=1\n",
    "\n",
    "    if n > 0:\n",
    "        return [\n",
    "            avg_home/n,\n",
    "            avg_away/n\n",
    "        ]\n",
    "\n",
    "    else:\n",
    "        return False"
   ]
  },
  {
   "cell_type": "code",
   "execution_count": 15,
   "metadata": {},
   "outputs": [],
   "source": [
    "home_avg_goals = []\n",
    "away_avg_goals = []\n",
    "\n",
    "for i in range(len(df)):\n",
    "    home_team_name = df[\"Home Team Name\"][i]\n",
    "    away_team_name = df[\"Away Team Name\"][i]\n",
    "\n",
    "    avg_goals = get_average_goals(home_team_name, away_team_name, df[\"Year\"][i]-1)\n",
    "    if avg_goals:\n",
    "        home_avg_goals.append(avg_goals[0])\n",
    "        away_avg_goals.append(avg_goals[1])\n",
    "    else:\n",
    "        home_avg_goals.append(0.0)\n",
    "        away_avg_goals.append(0.0)"
   ]
  },
  {
   "cell_type": "code",
   "execution_count": 17,
   "metadata": {},
   "outputs": [],
   "source": [
    "df[\"Home Avg Goals\"] = home_avg_goals\n",
    "df[\"Away Avg Goals\"] = away_avg_goals"
   ]
  },
  {
   "cell_type": "code",
   "execution_count": 19,
   "metadata": {},
   "outputs": [
    {
     "data": {
      "text/html": [
       "<div>\n",
       "<style scoped>\n",
       "    .dataframe tbody tr th:only-of-type {\n",
       "        vertical-align: middle;\n",
       "    }\n",
       "\n",
       "    .dataframe tbody tr th {\n",
       "        vertical-align: top;\n",
       "    }\n",
       "\n",
       "    .dataframe thead th {\n",
       "        text-align: right;\n",
       "    }\n",
       "</style>\n",
       "<table border=\"1\" class=\"dataframe\">\n",
       "  <thead>\n",
       "    <tr style=\"text-align: right;\">\n",
       "      <th></th>\n",
       "      <th>Away Team Goals</th>\n",
       "      <th>Away Team Name</th>\n",
       "      <th>Home Team Goals</th>\n",
       "      <th>Home Team Name</th>\n",
       "      <th>Year</th>\n",
       "      <th>home_rank</th>\n",
       "      <th>home_total_points</th>\n",
       "      <th>home_previous_points</th>\n",
       "      <th>home_rank_change</th>\n",
       "      <th>home_cur_year_avg</th>\n",
       "      <th>...</th>\n",
       "      <th>away_last_year_avg</th>\n",
       "      <th>away_last_year_avg_weighted</th>\n",
       "      <th>away_two_year_ago_avg</th>\n",
       "      <th>away_two_year_ago_weighted</th>\n",
       "      <th>away_three_year_ago_avg</th>\n",
       "      <th>away_three_year_ago_weighted</th>\n",
       "      <th>winning_team</th>\n",
       "      <th>RankDiff</th>\n",
       "      <th>Home Avg Goals</th>\n",
       "      <th>Away Avg Goals</th>\n",
       "    </tr>\n",
       "  </thead>\n",
       "  <tbody>\n",
       "    <tr>\n",
       "      <th>1371</th>\n",
       "      <td>0.0</td>\n",
       "      <td>Panama</td>\n",
       "      <td>1.0</td>\n",
       "      <td>Denmark</td>\n",
       "      <td>2018.0</td>\n",
       "      <td>12</td>\n",
       "      <td>1098.82</td>\n",
       "      <td>1099</td>\n",
       "      <td>0</td>\n",
       "      <td>784.52</td>\n",
       "      <td>...</td>\n",
       "      <td>290.38</td>\n",
       "      <td>145.19</td>\n",
       "      <td>277.41</td>\n",
       "      <td>83.22</td>\n",
       "      <td>189.81</td>\n",
       "      <td>37.96</td>\n",
       "      <td>Denmark</td>\n",
       "      <td>-41</td>\n",
       "      <td>0.000000</td>\n",
       "      <td>0.000000</td>\n",
       "    </tr>\n",
       "    <tr>\n",
       "      <th>1372</th>\n",
       "      <td>1.0</td>\n",
       "      <td>Sweden</td>\n",
       "      <td>0.0</td>\n",
       "      <td>Denmark</td>\n",
       "      <td>2018.0</td>\n",
       "      <td>12</td>\n",
       "      <td>1098.82</td>\n",
       "      <td>1099</td>\n",
       "      <td>0</td>\n",
       "      <td>784.52</td>\n",
       "      <td>...</td>\n",
       "      <td>302.57</td>\n",
       "      <td>151.28</td>\n",
       "      <td>462.48</td>\n",
       "      <td>138.74</td>\n",
       "      <td>253.40</td>\n",
       "      <td>50.68</td>\n",
       "      <td>Sweden</td>\n",
       "      <td>-6</td>\n",
       "      <td>1.142857</td>\n",
       "      <td>1.142857</td>\n",
       "    </tr>\n",
       "    <tr>\n",
       "      <th>1373</th>\n",
       "      <td>0.0</td>\n",
       "      <td>Denmark</td>\n",
       "      <td>0.0</td>\n",
       "      <td>Sweden</td>\n",
       "      <td>2018.0</td>\n",
       "      <td>18</td>\n",
       "      <td>1000.44</td>\n",
       "      <td>998</td>\n",
       "      <td>0</td>\n",
       "      <td>659.74</td>\n",
       "      <td>...</td>\n",
       "      <td>289.97</td>\n",
       "      <td>144.99</td>\n",
       "      <td>310.70</td>\n",
       "      <td>93.21</td>\n",
       "      <td>380.53</td>\n",
       "      <td>76.11</td>\n",
       "      <td>Draw</td>\n",
       "      <td>6</td>\n",
       "      <td>0.666667</td>\n",
       "      <td>0.666667</td>\n",
       "    </tr>\n",
       "    <tr>\n",
       "      <th>1374</th>\n",
       "      <td>0.0</td>\n",
       "      <td>Saudi Arabia</td>\n",
       "      <td>4.0</td>\n",
       "      <td>Belgium</td>\n",
       "      <td>2018.0</td>\n",
       "      <td>5</td>\n",
       "      <td>1325.29</td>\n",
       "      <td>1325</td>\n",
       "      <td>0</td>\n",
       "      <td>626.00</td>\n",
       "      <td>...</td>\n",
       "      <td>324.72</td>\n",
       "      <td>162.36</td>\n",
       "      <td>384.56</td>\n",
       "      <td>115.37</td>\n",
       "      <td>122.58</td>\n",
       "      <td>24.52</td>\n",
       "      <td>Belgium</td>\n",
       "      <td>-60</td>\n",
       "      <td>2.000000</td>\n",
       "      <td>1.000000</td>\n",
       "    </tr>\n",
       "    <tr>\n",
       "      <th>1375</th>\n",
       "      <td>0.0</td>\n",
       "      <td>Portugal</td>\n",
       "      <td>0.0</td>\n",
       "      <td>Belgium</td>\n",
       "      <td>2018.0</td>\n",
       "      <td>5</td>\n",
       "      <td>1325.29</td>\n",
       "      <td>1325</td>\n",
       "      <td>0</td>\n",
       "      <td>626.00</td>\n",
       "      <td>...</td>\n",
       "      <td>617.85</td>\n",
       "      <td>308.92</td>\n",
       "      <td>635.88</td>\n",
       "      <td>190.76</td>\n",
       "      <td>570.26</td>\n",
       "      <td>114.05</td>\n",
       "      <td>Draw</td>\n",
       "      <td>2</td>\n",
       "      <td>1.000000</td>\n",
       "      <td>1.500000</td>\n",
       "    </tr>\n",
       "  </tbody>\n",
       "</table>\n",
       "<p>5 rows × 33 columns</p>\n",
       "</div>"
      ],
      "text/plain": [
       "      Away Team Goals Away Team Name  Home Team Goals Home Team Name    Year  \\\n",
       "1371              0.0         Panama              1.0        Denmark  2018.0   \n",
       "1372              1.0         Sweden              0.0        Denmark  2018.0   \n",
       "1373              0.0        Denmark              0.0         Sweden  2018.0   \n",
       "1374              0.0   Saudi Arabia              4.0        Belgium  2018.0   \n",
       "1375              0.0       Portugal              0.0        Belgium  2018.0   \n",
       "\n",
       "      home_rank  home_total_points  home_previous_points  home_rank_change  \\\n",
       "1371         12            1098.82                  1099                 0   \n",
       "1372         12            1098.82                  1099                 0   \n",
       "1373         18            1000.44                   998                 0   \n",
       "1374          5            1325.29                  1325                 0   \n",
       "1375          5            1325.29                  1325                 0   \n",
       "\n",
       "      home_cur_year_avg       ...        away_last_year_avg  \\\n",
       "1371             784.52       ...                    290.38   \n",
       "1372             784.52       ...                    302.57   \n",
       "1373             659.74       ...                    289.97   \n",
       "1374             626.00       ...                    324.72   \n",
       "1375             626.00       ...                    617.85   \n",
       "\n",
       "      away_last_year_avg_weighted  away_two_year_ago_avg  \\\n",
       "1371                       145.19                 277.41   \n",
       "1372                       151.28                 462.48   \n",
       "1373                       144.99                 310.70   \n",
       "1374                       162.36                 384.56   \n",
       "1375                       308.92                 635.88   \n",
       "\n",
       "      away_two_year_ago_weighted  away_three_year_ago_avg  \\\n",
       "1371                       83.22                   189.81   \n",
       "1372                      138.74                   253.40   \n",
       "1373                       93.21                   380.53   \n",
       "1374                      115.37                   122.58   \n",
       "1375                      190.76                   570.26   \n",
       "\n",
       "      away_three_year_ago_weighted  winning_team  RankDiff  Home Avg Goals  \\\n",
       "1371                         37.96       Denmark       -41        0.000000   \n",
       "1372                         50.68        Sweden        -6        1.142857   \n",
       "1373                         76.11          Draw         6        0.666667   \n",
       "1374                         24.52       Belgium       -60        2.000000   \n",
       "1375                        114.05          Draw         2        1.000000   \n",
       "\n",
       "      Away Avg Goals  \n",
       "1371        0.000000  \n",
       "1372        1.142857  \n",
       "1373        0.666667  \n",
       "1374        1.000000  \n",
       "1375        1.500000  \n",
       "\n",
       "[5 rows x 33 columns]"
      ]
     },
     "execution_count": 19,
     "metadata": {},
     "output_type": "execute_result"
    }
   ],
   "source": [
    "df.tail()"
   ]
  },
  {
   "cell_type": "code",
   "execution_count": 20,
   "metadata": {},
   "outputs": [
    {
     "data": {
      "text/plain": [
       "Index(['Away Team Goals', 'Away Team Name', 'Home Team Goals',\n",
       "       'Home Team Name', 'Year', 'home_rank', 'home_total_points',\n",
       "       'home_previous_points', 'home_rank_change', 'home_cur_year_avg',\n",
       "       'home_cur_year_avg_weighted', 'home_last_year_avg',\n",
       "       'home_last_year_avg_weighted', 'home_two_year_ago_avg',\n",
       "       'home_two_year_ago_weighted', 'home_three_year_ago_avg',\n",
       "       'home_three_year_ago_weighted', 'away_rank', 'away_total_points',\n",
       "       'away_previous_points', 'away_rank_change', 'away_cur_year_avg',\n",
       "       'away_cur_year_avg_weighted', 'away_last_year_avg',\n",
       "       'away_last_year_avg_weighted', 'away_two_year_ago_avg',\n",
       "       'away_two_year_ago_weighted', 'away_three_year_ago_avg',\n",
       "       'away_three_year_ago_weighted', 'winning_team', 'RankDiff',\n",
       "       'Home Avg Goals', 'Away Avg Goals'],\n",
       "      dtype='object')"
      ]
     },
     "execution_count": 20,
     "metadata": {},
     "output_type": "execute_result"
    }
   ],
   "source": [
    "df.columns"
   ]
  },
  {
   "cell_type": "code",
   "execution_count": 68,
   "metadata": {},
   "outputs": [
    {
     "data": {
      "text/html": [
       "<div>\n",
       "<style scoped>\n",
       "    .dataframe tbody tr th:only-of-type {\n",
       "        vertical-align: middle;\n",
       "    }\n",
       "\n",
       "    .dataframe tbody tr th {\n",
       "        vertical-align: top;\n",
       "    }\n",
       "\n",
       "    .dataframe thead th {\n",
       "        text-align: right;\n",
       "    }\n",
       "</style>\n",
       "<table border=\"1\" class=\"dataframe\">\n",
       "  <thead>\n",
       "    <tr style=\"text-align: right;\">\n",
       "      <th></th>\n",
       "      <th>Away Team Goals</th>\n",
       "      <th>Away Team Name</th>\n",
       "      <th>Home Team Goals</th>\n",
       "      <th>Home Team Name</th>\n",
       "      <th>home_rank</th>\n",
       "      <th>home_total_points</th>\n",
       "      <th>home_previous_points</th>\n",
       "      <th>home_rank_change</th>\n",
       "      <th>home_cur_year_avg</th>\n",
       "      <th>home_cur_year_avg_weighted</th>\n",
       "      <th>...</th>\n",
       "      <th>away_cur_year_avg</th>\n",
       "      <th>away_cur_year_avg_weighted</th>\n",
       "      <th>away_last_year_avg</th>\n",
       "      <th>away_last_year_avg_weighted</th>\n",
       "      <th>away_two_year_ago_avg</th>\n",
       "      <th>away_two_year_ago_weighted</th>\n",
       "      <th>away_three_year_ago_avg</th>\n",
       "      <th>away_three_year_ago_weighted</th>\n",
       "      <th>winning_team</th>\n",
       "      <th>RankDiff</th>\n",
       "    </tr>\n",
       "  </thead>\n",
       "  <tbody>\n",
       "    <tr>\n",
       "      <th>1371</th>\n",
       "      <td>0.0</td>\n",
       "      <td>Panama</td>\n",
       "      <td>1.0</td>\n",
       "      <td>Denmark</td>\n",
       "      <td>12</td>\n",
       "      <td>1098.82</td>\n",
       "      <td>1099</td>\n",
       "      <td>0</td>\n",
       "      <td>784.52</td>\n",
       "      <td>784.52</td>\n",
       "      <td>...</td>\n",
       "      <td>369.95</td>\n",
       "      <td>369.95</td>\n",
       "      <td>290.38</td>\n",
       "      <td>145.19</td>\n",
       "      <td>277.41</td>\n",
       "      <td>83.22</td>\n",
       "      <td>189.81</td>\n",
       "      <td>37.96</td>\n",
       "      <td>Denmark</td>\n",
       "      <td>-41</td>\n",
       "    </tr>\n",
       "    <tr>\n",
       "      <th>1372</th>\n",
       "      <td>1.0</td>\n",
       "      <td>Sweden</td>\n",
       "      <td>0.0</td>\n",
       "      <td>Denmark</td>\n",
       "      <td>12</td>\n",
       "      <td>1098.82</td>\n",
       "      <td>1099</td>\n",
       "      <td>0</td>\n",
       "      <td>784.52</td>\n",
       "      <td>784.52</td>\n",
       "      <td>...</td>\n",
       "      <td>659.74</td>\n",
       "      <td>659.74</td>\n",
       "      <td>302.57</td>\n",
       "      <td>151.28</td>\n",
       "      <td>462.48</td>\n",
       "      <td>138.74</td>\n",
       "      <td>253.40</td>\n",
       "      <td>50.68</td>\n",
       "      <td>Sweden</td>\n",
       "      <td>-6</td>\n",
       "    </tr>\n",
       "    <tr>\n",
       "      <th>1373</th>\n",
       "      <td>0.0</td>\n",
       "      <td>Denmark</td>\n",
       "      <td>0.0</td>\n",
       "      <td>Sweden</td>\n",
       "      <td>18</td>\n",
       "      <td>1000.44</td>\n",
       "      <td>998</td>\n",
       "      <td>0</td>\n",
       "      <td>659.74</td>\n",
       "      <td>659.74</td>\n",
       "      <td>...</td>\n",
       "      <td>784.52</td>\n",
       "      <td>784.52</td>\n",
       "      <td>289.97</td>\n",
       "      <td>144.99</td>\n",
       "      <td>310.70</td>\n",
       "      <td>93.21</td>\n",
       "      <td>380.53</td>\n",
       "      <td>76.11</td>\n",
       "      <td>Draw</td>\n",
       "      <td>6</td>\n",
       "    </tr>\n",
       "    <tr>\n",
       "      <th>1374</th>\n",
       "      <td>0.0</td>\n",
       "      <td>Saudi Arabia</td>\n",
       "      <td>4.0</td>\n",
       "      <td>Belgium</td>\n",
       "      <td>5</td>\n",
       "      <td>1325.29</td>\n",
       "      <td>1325</td>\n",
       "      <td>0</td>\n",
       "      <td>626.00</td>\n",
       "      <td>626.00</td>\n",
       "      <td>...</td>\n",
       "      <td>219.26</td>\n",
       "      <td>219.26</td>\n",
       "      <td>324.72</td>\n",
       "      <td>162.36</td>\n",
       "      <td>384.56</td>\n",
       "      <td>115.37</td>\n",
       "      <td>122.58</td>\n",
       "      <td>24.52</td>\n",
       "      <td>Belgium</td>\n",
       "      <td>-60</td>\n",
       "    </tr>\n",
       "    <tr>\n",
       "      <th>1375</th>\n",
       "      <td>0.0</td>\n",
       "      <td>Portugal</td>\n",
       "      <td>0.0</td>\n",
       "      <td>Belgium</td>\n",
       "      <td>5</td>\n",
       "      <td>1325.29</td>\n",
       "      <td>1325</td>\n",
       "      <td>0</td>\n",
       "      <td>626.00</td>\n",
       "      <td>626.00</td>\n",
       "      <td>...</td>\n",
       "      <td>744.16</td>\n",
       "      <td>744.16</td>\n",
       "      <td>617.85</td>\n",
       "      <td>308.92</td>\n",
       "      <td>635.88</td>\n",
       "      <td>190.76</td>\n",
       "      <td>570.26</td>\n",
       "      <td>114.05</td>\n",
       "      <td>Draw</td>\n",
       "      <td>2</td>\n",
       "    </tr>\n",
       "  </tbody>\n",
       "</table>\n",
       "<p>5 rows × 30 columns</p>\n",
       "</div>"
      ],
      "text/plain": [
       "      Away Team Goals Away Team Name  Home Team Goals Home Team Name  \\\n",
       "1371              0.0         Panama              1.0        Denmark   \n",
       "1372              1.0         Sweden              0.0        Denmark   \n",
       "1373              0.0        Denmark              0.0         Sweden   \n",
       "1374              0.0   Saudi Arabia              4.0        Belgium   \n",
       "1375              0.0       Portugal              0.0        Belgium   \n",
       "\n",
       "      home_rank  home_total_points  home_previous_points  home_rank_change  \\\n",
       "1371         12            1098.82                  1099                 0   \n",
       "1372         12            1098.82                  1099                 0   \n",
       "1373         18            1000.44                   998                 0   \n",
       "1374          5            1325.29                  1325                 0   \n",
       "1375          5            1325.29                  1325                 0   \n",
       "\n",
       "      home_cur_year_avg  home_cur_year_avg_weighted    ...     \\\n",
       "1371             784.52                      784.52    ...      \n",
       "1372             784.52                      784.52    ...      \n",
       "1373             659.74                      659.74    ...      \n",
       "1374             626.00                      626.00    ...      \n",
       "1375             626.00                      626.00    ...      \n",
       "\n",
       "      away_cur_year_avg  away_cur_year_avg_weighted  away_last_year_avg  \\\n",
       "1371             369.95                      369.95              290.38   \n",
       "1372             659.74                      659.74              302.57   \n",
       "1373             784.52                      784.52              289.97   \n",
       "1374             219.26                      219.26              324.72   \n",
       "1375             744.16                      744.16              617.85   \n",
       "\n",
       "      away_last_year_avg_weighted  away_two_year_ago_avg  \\\n",
       "1371                       145.19                 277.41   \n",
       "1372                       151.28                 462.48   \n",
       "1373                       144.99                 310.70   \n",
       "1374                       162.36                 384.56   \n",
       "1375                       308.92                 635.88   \n",
       "\n",
       "      away_two_year_ago_weighted  away_three_year_ago_avg  \\\n",
       "1371                       83.22                   189.81   \n",
       "1372                      138.74                   253.40   \n",
       "1373                       93.21                   380.53   \n",
       "1374                      115.37                   122.58   \n",
       "1375                      190.76                   570.26   \n",
       "\n",
       "      away_three_year_ago_weighted  winning_team  RankDiff  \n",
       "1371                         37.96       Denmark       -41  \n",
       "1372                         50.68        Sweden        -6  \n",
       "1373                         76.11          Draw         6  \n",
       "1374                         24.52       Belgium       -60  \n",
       "1375                        114.05          Draw         2  \n",
       "\n",
       "[5 rows x 30 columns]"
      ]
     },
     "execution_count": 68,
     "metadata": {},
     "output_type": "execute_result"
    }
   ],
   "source": [
    "df.tail()"
   ]
  },
  {
   "cell_type": "code",
   "execution_count": 21,
   "metadata": {},
   "outputs": [],
   "source": [
    "df.loc[df.winning_team == df['Home Team Name'], 'winning_team'] = 2\n",
    "df.loc[df.winning_team == df['Away Team Name'], 'winning_team'] = 0\n",
    "df.loc[df.winning_team == 'Draw', 'winning_team'] = 1"
   ]
  },
  {
   "cell_type": "code",
   "execution_count": 22,
   "metadata": {},
   "outputs": [
    {
     "data": {
      "text/html": [
       "<div>\n",
       "<style scoped>\n",
       "    .dataframe tbody tr th:only-of-type {\n",
       "        vertical-align: middle;\n",
       "    }\n",
       "\n",
       "    .dataframe tbody tr th {\n",
       "        vertical-align: top;\n",
       "    }\n",
       "\n",
       "    .dataframe thead th {\n",
       "        text-align: right;\n",
       "    }\n",
       "</style>\n",
       "<table border=\"1\" class=\"dataframe\">\n",
       "  <thead>\n",
       "    <tr style=\"text-align: right;\">\n",
       "      <th></th>\n",
       "      <th>Away Team Goals</th>\n",
       "      <th>Away Team Name</th>\n",
       "      <th>Home Team Goals</th>\n",
       "      <th>Home Team Name</th>\n",
       "      <th>Year</th>\n",
       "      <th>home_rank</th>\n",
       "      <th>home_total_points</th>\n",
       "      <th>home_previous_points</th>\n",
       "      <th>home_rank_change</th>\n",
       "      <th>home_cur_year_avg</th>\n",
       "      <th>...</th>\n",
       "      <th>away_last_year_avg</th>\n",
       "      <th>away_last_year_avg_weighted</th>\n",
       "      <th>away_two_year_ago_avg</th>\n",
       "      <th>away_two_year_ago_weighted</th>\n",
       "      <th>away_three_year_ago_avg</th>\n",
       "      <th>away_three_year_ago_weighted</th>\n",
       "      <th>winning_team</th>\n",
       "      <th>RankDiff</th>\n",
       "      <th>Home Avg Goals</th>\n",
       "      <th>Away Avg Goals</th>\n",
       "    </tr>\n",
       "  </thead>\n",
       "  <tbody>\n",
       "    <tr>\n",
       "      <th>1371</th>\n",
       "      <td>0.0</td>\n",
       "      <td>Panama</td>\n",
       "      <td>1.0</td>\n",
       "      <td>Denmark</td>\n",
       "      <td>2018.0</td>\n",
       "      <td>12</td>\n",
       "      <td>1098.82</td>\n",
       "      <td>1099</td>\n",
       "      <td>0</td>\n",
       "      <td>784.52</td>\n",
       "      <td>...</td>\n",
       "      <td>290.38</td>\n",
       "      <td>145.19</td>\n",
       "      <td>277.41</td>\n",
       "      <td>83.22</td>\n",
       "      <td>189.81</td>\n",
       "      <td>37.96</td>\n",
       "      <td>2</td>\n",
       "      <td>-41</td>\n",
       "      <td>0.000000</td>\n",
       "      <td>0.000000</td>\n",
       "    </tr>\n",
       "    <tr>\n",
       "      <th>1372</th>\n",
       "      <td>1.0</td>\n",
       "      <td>Sweden</td>\n",
       "      <td>0.0</td>\n",
       "      <td>Denmark</td>\n",
       "      <td>2018.0</td>\n",
       "      <td>12</td>\n",
       "      <td>1098.82</td>\n",
       "      <td>1099</td>\n",
       "      <td>0</td>\n",
       "      <td>784.52</td>\n",
       "      <td>...</td>\n",
       "      <td>302.57</td>\n",
       "      <td>151.28</td>\n",
       "      <td>462.48</td>\n",
       "      <td>138.74</td>\n",
       "      <td>253.40</td>\n",
       "      <td>50.68</td>\n",
       "      <td>0</td>\n",
       "      <td>-6</td>\n",
       "      <td>1.142857</td>\n",
       "      <td>1.142857</td>\n",
       "    </tr>\n",
       "    <tr>\n",
       "      <th>1373</th>\n",
       "      <td>0.0</td>\n",
       "      <td>Denmark</td>\n",
       "      <td>0.0</td>\n",
       "      <td>Sweden</td>\n",
       "      <td>2018.0</td>\n",
       "      <td>18</td>\n",
       "      <td>1000.44</td>\n",
       "      <td>998</td>\n",
       "      <td>0</td>\n",
       "      <td>659.74</td>\n",
       "      <td>...</td>\n",
       "      <td>289.97</td>\n",
       "      <td>144.99</td>\n",
       "      <td>310.70</td>\n",
       "      <td>93.21</td>\n",
       "      <td>380.53</td>\n",
       "      <td>76.11</td>\n",
       "      <td>1</td>\n",
       "      <td>6</td>\n",
       "      <td>0.666667</td>\n",
       "      <td>0.666667</td>\n",
       "    </tr>\n",
       "    <tr>\n",
       "      <th>1374</th>\n",
       "      <td>0.0</td>\n",
       "      <td>Saudi Arabia</td>\n",
       "      <td>4.0</td>\n",
       "      <td>Belgium</td>\n",
       "      <td>2018.0</td>\n",
       "      <td>5</td>\n",
       "      <td>1325.29</td>\n",
       "      <td>1325</td>\n",
       "      <td>0</td>\n",
       "      <td>626.00</td>\n",
       "      <td>...</td>\n",
       "      <td>324.72</td>\n",
       "      <td>162.36</td>\n",
       "      <td>384.56</td>\n",
       "      <td>115.37</td>\n",
       "      <td>122.58</td>\n",
       "      <td>24.52</td>\n",
       "      <td>2</td>\n",
       "      <td>-60</td>\n",
       "      <td>2.000000</td>\n",
       "      <td>1.000000</td>\n",
       "    </tr>\n",
       "    <tr>\n",
       "      <th>1375</th>\n",
       "      <td>0.0</td>\n",
       "      <td>Portugal</td>\n",
       "      <td>0.0</td>\n",
       "      <td>Belgium</td>\n",
       "      <td>2018.0</td>\n",
       "      <td>5</td>\n",
       "      <td>1325.29</td>\n",
       "      <td>1325</td>\n",
       "      <td>0</td>\n",
       "      <td>626.00</td>\n",
       "      <td>...</td>\n",
       "      <td>617.85</td>\n",
       "      <td>308.92</td>\n",
       "      <td>635.88</td>\n",
       "      <td>190.76</td>\n",
       "      <td>570.26</td>\n",
       "      <td>114.05</td>\n",
       "      <td>1</td>\n",
       "      <td>2</td>\n",
       "      <td>1.000000</td>\n",
       "      <td>1.500000</td>\n",
       "    </tr>\n",
       "  </tbody>\n",
       "</table>\n",
       "<p>5 rows × 33 columns</p>\n",
       "</div>"
      ],
      "text/plain": [
       "      Away Team Goals Away Team Name  Home Team Goals Home Team Name    Year  \\\n",
       "1371              0.0         Panama              1.0        Denmark  2018.0   \n",
       "1372              1.0         Sweden              0.0        Denmark  2018.0   \n",
       "1373              0.0        Denmark              0.0         Sweden  2018.0   \n",
       "1374              0.0   Saudi Arabia              4.0        Belgium  2018.0   \n",
       "1375              0.0       Portugal              0.0        Belgium  2018.0   \n",
       "\n",
       "      home_rank  home_total_points  home_previous_points  home_rank_change  \\\n",
       "1371         12            1098.82                  1099                 0   \n",
       "1372         12            1098.82                  1099                 0   \n",
       "1373         18            1000.44                   998                 0   \n",
       "1374          5            1325.29                  1325                 0   \n",
       "1375          5            1325.29                  1325                 0   \n",
       "\n",
       "      home_cur_year_avg       ...        away_last_year_avg  \\\n",
       "1371             784.52       ...                    290.38   \n",
       "1372             784.52       ...                    302.57   \n",
       "1373             659.74       ...                    289.97   \n",
       "1374             626.00       ...                    324.72   \n",
       "1375             626.00       ...                    617.85   \n",
       "\n",
       "      away_last_year_avg_weighted  away_two_year_ago_avg  \\\n",
       "1371                       145.19                 277.41   \n",
       "1372                       151.28                 462.48   \n",
       "1373                       144.99                 310.70   \n",
       "1374                       162.36                 384.56   \n",
       "1375                       308.92                 635.88   \n",
       "\n",
       "      away_two_year_ago_weighted  away_three_year_ago_avg  \\\n",
       "1371                       83.22                   189.81   \n",
       "1372                      138.74                   253.40   \n",
       "1373                       93.21                   380.53   \n",
       "1374                      115.37                   122.58   \n",
       "1375                      190.76                   570.26   \n",
       "\n",
       "      away_three_year_ago_weighted  winning_team  RankDiff  Home Avg Goals  \\\n",
       "1371                         37.96             2       -41        0.000000   \n",
       "1372                         50.68             0        -6        1.142857   \n",
       "1373                         76.11             1         6        0.666667   \n",
       "1374                         24.52             2       -60        2.000000   \n",
       "1375                        114.05             1         2        1.000000   \n",
       "\n",
       "      Away Avg Goals  \n",
       "1371        0.000000  \n",
       "1372        1.142857  \n",
       "1373        0.666667  \n",
       "1374        1.000000  \n",
       "1375        1.500000  \n",
       "\n",
       "[5 rows x 33 columns]"
      ]
     },
     "execution_count": 22,
     "metadata": {},
     "output_type": "execute_result"
    }
   ],
   "source": [
    "df.tail()"
   ]
  },
  {
   "cell_type": "code",
   "execution_count": 26,
   "metadata": {},
   "outputs": [
    {
     "data": {
      "text/plain": [
       "Index(['Away Team Goals', 'Away Team Name', 'Home Team Goals',\n",
       "       'Home Team Name', 'Year', 'home_rank', 'home_total_points',\n",
       "       'home_previous_points', 'home_rank_change', 'home_cur_year_avg',\n",
       "       'home_cur_year_avg_weighted', 'home_last_year_avg',\n",
       "       'home_last_year_avg_weighted', 'home_two_year_ago_avg',\n",
       "       'home_two_year_ago_weighted', 'home_three_year_ago_avg',\n",
       "       'home_three_year_ago_weighted', 'away_rank', 'away_total_points',\n",
       "       'away_previous_points', 'away_rank_change', 'away_cur_year_avg',\n",
       "       'away_cur_year_avg_weighted', 'away_last_year_avg',\n",
       "       'away_last_year_avg_weighted', 'away_two_year_ago_avg',\n",
       "       'away_two_year_ago_weighted', 'away_three_year_ago_avg',\n",
       "       'away_three_year_ago_weighted', 'winning_team', 'RankDiff',\n",
       "       'Home Avg Goals', 'Away Avg Goals'],\n",
       "      dtype='object')"
      ]
     },
     "execution_count": 26,
     "metadata": {},
     "output_type": "execute_result"
    }
   ],
   "source": [
    "df.columns"
   ]
  },
  {
   "cell_type": "code",
   "execution_count": 23,
   "metadata": {},
   "outputs": [],
   "source": [
    "#label encoder / getDummies\n",
    "from sklearn.preprocessing import LabelEncoder\n"
   ]
  },
  {
   "cell_type": "code",
   "execution_count": 24,
   "metadata": {},
   "outputs": [],
   "source": [
    "word_cup_teams = [\n",
    "    \"Egypt\",\n",
    "    \"Morocco\",\n",
    "    \"Nigeria\",\n",
    "    \"Senegal\",\n",
    "    \"Tunisia\",\n",
    "    \"Australia\",\n",
    "    \"IR Iran\",\n",
    "    \"Japan\",\n",
    "    \"Korea DPR\",\n",
    "    \"Saudi Arabia\",\n",
    "    \"Belgium\",\n",
    "    \"Croatia\",\n",
    "    \"Denmark\",\n",
    "    \"England\",\n",
    "    \"France\",\n",
    "    \"Germany\",\n",
    "    \"Iceland\",\n",
    "    \"Poland\",\n",
    "    \"Portugal\",\n",
    "    \"Russia\",\n",
    "    \"Serbia\",\n",
    "    \"Spain\",\n",
    "    \"Sweden\",\n",
    "    \"Switzerland\",\n",
    "    \"Costa Rica\",\n",
    "    \"Mexico\",\n",
    "    \"Panama\",\n",
    "    \"Argentina\",\n",
    "    \"Brazil\",\n",
    "    \"Colombia\",\n",
    "    \"Peru\",\n",
    "    \"Uruguay\"\n",
    "]\n",
    "\n",
    "team_names = list(df[\"Home Team Name\"].unique()) + list(df[\"Away Team Name\"].unique()) + word_cup_teams\n"
   ]
  },
  {
   "cell_type": "code",
   "execution_count": 25,
   "metadata": {},
   "outputs": [],
   "source": [
    "team_name_encoder = LabelEncoder().fit(team_names)"
   ]
  },
  {
   "cell_type": "code",
   "execution_count": 27,
   "metadata": {},
   "outputs": [],
   "source": [
    "X = df.drop(['Away Team Goals', 'Home Team Goals', 'home_rank', 'away_rank', 'winning_team', 'Year'], axis=1)"
   ]
  },
  {
   "cell_type": "code",
   "execution_count": 28,
   "metadata": {},
   "outputs": [
    {
     "data": {
      "text/plain": [
       "Index(['Away Team Name', 'Home Team Name', 'home_total_points',\n",
       "       'home_previous_points', 'home_rank_change', 'home_cur_year_avg',\n",
       "       'home_cur_year_avg_weighted', 'home_last_year_avg',\n",
       "       'home_last_year_avg_weighted', 'home_two_year_ago_avg',\n",
       "       'home_two_year_ago_weighted', 'home_three_year_ago_avg',\n",
       "       'home_three_year_ago_weighted', 'away_total_points',\n",
       "       'away_previous_points', 'away_rank_change', 'away_cur_year_avg',\n",
       "       'away_cur_year_avg_weighted', 'away_last_year_avg',\n",
       "       'away_last_year_avg_weighted', 'away_two_year_ago_avg',\n",
       "       'away_two_year_ago_weighted', 'away_three_year_ago_avg',\n",
       "       'away_three_year_ago_weighted', 'RankDiff', 'Home Avg Goals',\n",
       "       'Away Avg Goals'],\n",
       "      dtype='object')"
      ]
     },
     "execution_count": 28,
     "metadata": {},
     "output_type": "execute_result"
    }
   ],
   "source": [
    "X.columns"
   ]
  },
  {
   "cell_type": "code",
   "execution_count": 29,
   "metadata": {},
   "outputs": [],
   "source": [
    "y = df['winning_team']"
   ]
  },
  {
   "cell_type": "code",
   "execution_count": 30,
   "metadata": {},
   "outputs": [],
   "source": [
    "X[\"Home Team Name\"] = team_name_encoder.transform(X[\"Home Team Name\"])\n",
    "X[\"Away Team Name\"] = team_name_encoder.transform(X[\"Away Team Name\"])"
   ]
  },
  {
   "cell_type": "code",
   "execution_count": 31,
   "metadata": {},
   "outputs": [
    {
     "data": {
      "text/html": [
       "<div>\n",
       "<style scoped>\n",
       "    .dataframe tbody tr th:only-of-type {\n",
       "        vertical-align: middle;\n",
       "    }\n",
       "\n",
       "    .dataframe tbody tr th {\n",
       "        vertical-align: top;\n",
       "    }\n",
       "\n",
       "    .dataframe thead th {\n",
       "        text-align: right;\n",
       "    }\n",
       "</style>\n",
       "<table border=\"1\" class=\"dataframe\">\n",
       "  <thead>\n",
       "    <tr style=\"text-align: right;\">\n",
       "      <th></th>\n",
       "      <th>Away Team Name</th>\n",
       "      <th>Home Team Name</th>\n",
       "      <th>home_total_points</th>\n",
       "      <th>home_previous_points</th>\n",
       "      <th>home_rank_change</th>\n",
       "      <th>home_cur_year_avg</th>\n",
       "      <th>home_cur_year_avg_weighted</th>\n",
       "      <th>home_last_year_avg</th>\n",
       "      <th>home_last_year_avg_weighted</th>\n",
       "      <th>home_two_year_ago_avg</th>\n",
       "      <th>...</th>\n",
       "      <th>away_cur_year_avg_weighted</th>\n",
       "      <th>away_last_year_avg</th>\n",
       "      <th>away_last_year_avg_weighted</th>\n",
       "      <th>away_two_year_ago_avg</th>\n",
       "      <th>away_two_year_ago_weighted</th>\n",
       "      <th>away_three_year_ago_avg</th>\n",
       "      <th>away_three_year_ago_weighted</th>\n",
       "      <th>RankDiff</th>\n",
       "      <th>Home Avg Goals</th>\n",
       "      <th>Away Avg Goals</th>\n",
       "    </tr>\n",
       "  </thead>\n",
       "  <tbody>\n",
       "    <tr>\n",
       "      <th>1371</th>\n",
       "      <td>20</td>\n",
       "      <td>7</td>\n",
       "      <td>1098.82</td>\n",
       "      <td>1099</td>\n",
       "      <td>0</td>\n",
       "      <td>784.52</td>\n",
       "      <td>784.52</td>\n",
       "      <td>289.97</td>\n",
       "      <td>144.99</td>\n",
       "      <td>310.70</td>\n",
       "      <td>...</td>\n",
       "      <td>369.95</td>\n",
       "      <td>290.38</td>\n",
       "      <td>145.19</td>\n",
       "      <td>277.41</td>\n",
       "      <td>83.22</td>\n",
       "      <td>189.81</td>\n",
       "      <td>37.96</td>\n",
       "      <td>-41</td>\n",
       "      <td>0.000000</td>\n",
       "      <td>0.000000</td>\n",
       "    </tr>\n",
       "    <tr>\n",
       "      <th>1372</th>\n",
       "      <td>29</td>\n",
       "      <td>7</td>\n",
       "      <td>1098.82</td>\n",
       "      <td>1099</td>\n",
       "      <td>0</td>\n",
       "      <td>784.52</td>\n",
       "      <td>784.52</td>\n",
       "      <td>289.97</td>\n",
       "      <td>144.99</td>\n",
       "      <td>310.70</td>\n",
       "      <td>...</td>\n",
       "      <td>659.74</td>\n",
       "      <td>302.57</td>\n",
       "      <td>151.28</td>\n",
       "      <td>462.48</td>\n",
       "      <td>138.74</td>\n",
       "      <td>253.40</td>\n",
       "      <td>50.68</td>\n",
       "      <td>-6</td>\n",
       "      <td>1.142857</td>\n",
       "      <td>1.142857</td>\n",
       "    </tr>\n",
       "    <tr>\n",
       "      <th>1373</th>\n",
       "      <td>7</td>\n",
       "      <td>29</td>\n",
       "      <td>1000.44</td>\n",
       "      <td>998</td>\n",
       "      <td>0</td>\n",
       "      <td>659.74</td>\n",
       "      <td>659.74</td>\n",
       "      <td>302.57</td>\n",
       "      <td>151.28</td>\n",
       "      <td>462.48</td>\n",
       "      <td>...</td>\n",
       "      <td>784.52</td>\n",
       "      <td>289.97</td>\n",
       "      <td>144.99</td>\n",
       "      <td>310.70</td>\n",
       "      <td>93.21</td>\n",
       "      <td>380.53</td>\n",
       "      <td>76.11</td>\n",
       "      <td>6</td>\n",
       "      <td>0.666667</td>\n",
       "      <td>0.666667</td>\n",
       "    </tr>\n",
       "    <tr>\n",
       "      <th>1374</th>\n",
       "      <td>25</td>\n",
       "      <td>2</td>\n",
       "      <td>1325.29</td>\n",
       "      <td>1325</td>\n",
       "      <td>0</td>\n",
       "      <td>626.00</td>\n",
       "      <td>626.00</td>\n",
       "      <td>600.01</td>\n",
       "      <td>300.00</td>\n",
       "      <td>764.94</td>\n",
       "      <td>...</td>\n",
       "      <td>219.26</td>\n",
       "      <td>324.72</td>\n",
       "      <td>162.36</td>\n",
       "      <td>384.56</td>\n",
       "      <td>115.37</td>\n",
       "      <td>122.58</td>\n",
       "      <td>24.52</td>\n",
       "      <td>-60</td>\n",
       "      <td>2.000000</td>\n",
       "      <td>1.000000</td>\n",
       "    </tr>\n",
       "    <tr>\n",
       "      <th>1375</th>\n",
       "      <td>23</td>\n",
       "      <td>2</td>\n",
       "      <td>1325.29</td>\n",
       "      <td>1325</td>\n",
       "      <td>0</td>\n",
       "      <td>626.00</td>\n",
       "      <td>626.00</td>\n",
       "      <td>600.01</td>\n",
       "      <td>300.00</td>\n",
       "      <td>764.94</td>\n",
       "      <td>...</td>\n",
       "      <td>744.16</td>\n",
       "      <td>617.85</td>\n",
       "      <td>308.92</td>\n",
       "      <td>635.88</td>\n",
       "      <td>190.76</td>\n",
       "      <td>570.26</td>\n",
       "      <td>114.05</td>\n",
       "      <td>2</td>\n",
       "      <td>1.000000</td>\n",
       "      <td>1.500000</td>\n",
       "    </tr>\n",
       "  </tbody>\n",
       "</table>\n",
       "<p>5 rows × 27 columns</p>\n",
       "</div>"
      ],
      "text/plain": [
       "      Away Team Name  Home Team Name  home_total_points  home_previous_points  \\\n",
       "1371              20               7            1098.82                  1099   \n",
       "1372              29               7            1098.82                  1099   \n",
       "1373               7              29            1000.44                   998   \n",
       "1374              25               2            1325.29                  1325   \n",
       "1375              23               2            1325.29                  1325   \n",
       "\n",
       "      home_rank_change  home_cur_year_avg  home_cur_year_avg_weighted  \\\n",
       "1371                 0             784.52                      784.52   \n",
       "1372                 0             784.52                      784.52   \n",
       "1373                 0             659.74                      659.74   \n",
       "1374                 0             626.00                      626.00   \n",
       "1375                 0             626.00                      626.00   \n",
       "\n",
       "      home_last_year_avg  home_last_year_avg_weighted  home_two_year_ago_avg  \\\n",
       "1371              289.97                       144.99                 310.70   \n",
       "1372              289.97                       144.99                 310.70   \n",
       "1373              302.57                       151.28                 462.48   \n",
       "1374              600.01                       300.00                 764.94   \n",
       "1375              600.01                       300.00                 764.94   \n",
       "\n",
       "           ...        away_cur_year_avg_weighted  away_last_year_avg  \\\n",
       "1371       ...                            369.95              290.38   \n",
       "1372       ...                            659.74              302.57   \n",
       "1373       ...                            784.52              289.97   \n",
       "1374       ...                            219.26              324.72   \n",
       "1375       ...                            744.16              617.85   \n",
       "\n",
       "      away_last_year_avg_weighted  away_two_year_ago_avg  \\\n",
       "1371                       145.19                 277.41   \n",
       "1372                       151.28                 462.48   \n",
       "1373                       144.99                 310.70   \n",
       "1374                       162.36                 384.56   \n",
       "1375                       308.92                 635.88   \n",
       "\n",
       "      away_two_year_ago_weighted  away_three_year_ago_avg  \\\n",
       "1371                       83.22                   189.81   \n",
       "1372                      138.74                   253.40   \n",
       "1373                       93.21                   380.53   \n",
       "1374                      115.37                   122.58   \n",
       "1375                      190.76                   570.26   \n",
       "\n",
       "      away_three_year_ago_weighted  RankDiff  Home Avg Goals  Away Avg Goals  \n",
       "1371                         37.96       -41        0.000000        0.000000  \n",
       "1372                         50.68        -6        1.142857        1.142857  \n",
       "1373                         76.11         6        0.666667        0.666667  \n",
       "1374                         24.52       -60        2.000000        1.000000  \n",
       "1375                        114.05         2        1.000000        1.500000  \n",
       "\n",
       "[5 rows x 27 columns]"
      ]
     },
     "execution_count": 31,
     "metadata": {},
     "output_type": "execute_result"
    }
   ],
   "source": [
    "X.tail()"
   ]
  },
  {
   "cell_type": "markdown",
   "metadata": {},
   "source": [
    "---\n",
    "check model accuracy"
   ]
  },
  {
   "cell_type": "code",
   "execution_count": 32,
   "metadata": {},
   "outputs": [],
   "source": [
    "from sklearn.model_selection import train_test_split"
   ]
  },
  {
   "cell_type": "code",
   "execution_count": 33,
   "metadata": {},
   "outputs": [],
   "source": [
    "X_train, X_test, y_train, y_test = train_test_split(X, y, test_size=0.3, random_state=42)"
   ]
  },
  {
   "cell_type": "code",
   "execution_count": 34,
   "metadata": {},
   "outputs": [],
   "source": [
    "from sklearn.linear_model import LogisticRegression"
   ]
  },
  {
   "cell_type": "code",
   "execution_count": 35,
   "metadata": {},
   "outputs": [],
   "source": [
    "logreg = LogisticRegression()"
   ]
  },
  {
   "cell_type": "code",
   "execution_count": 36,
   "metadata": {},
   "outputs": [
    {
     "data": {
      "text/plain": [
       "LogisticRegression(C=1.0, class_weight=None, dual=False, fit_intercept=True,\n",
       "          intercept_scaling=1, max_iter=100, multi_class='ovr', n_jobs=1,\n",
       "          penalty='l2', random_state=None, solver='liblinear', tol=0.0001,\n",
       "          verbose=0, warm_start=False)"
      ]
     },
     "execution_count": 36,
     "metadata": {},
     "output_type": "execute_result"
    }
   ],
   "source": [
    "logreg.fit(X_train, y_train)"
   ]
  },
  {
   "cell_type": "code",
   "execution_count": 37,
   "metadata": {},
   "outputs": [],
   "source": [
    "pred = logreg.predict(X_test)"
   ]
  },
  {
   "cell_type": "code",
   "execution_count": 38,
   "metadata": {},
   "outputs": [],
   "source": [
    "from sklearn.metrics import classification_report"
   ]
  },
  {
   "cell_type": "code",
   "execution_count": 39,
   "metadata": {},
   "outputs": [
    {
     "name": "stdout",
     "output_type": "stream",
     "text": [
      "             precision    recall  f1-score   support\n",
      "\n",
      "          0       0.56      0.39      0.46       140\n",
      "          1       0.46      0.26      0.33        97\n",
      "          2       0.56      0.84      0.67       176\n",
      "\n",
      "avg / total       0.54      0.55      0.52       413\n",
      "\n"
     ]
    }
   ],
   "source": [
    "print(classification_report(y_test, pred))"
   ]
  },
  {
   "cell_type": "markdown",
   "metadata": {},
   "source": [
    "### let's check model predictive ability"
   ]
  },
  {
   "cell_type": "code",
   "execution_count": 40,
   "metadata": {},
   "outputs": [
    {
     "data": {
      "text/plain": [
       "(1376, 27)"
      ]
     },
     "execution_count": 40,
     "metadata": {},
     "output_type": "execute_result"
    }
   ],
   "source": [
    "X.shape"
   ]
  },
  {
   "cell_type": "code",
   "execution_count": 41,
   "metadata": {},
   "outputs": [
    {
     "data": {
      "text/plain": [
       "(1376,)"
      ]
     },
     "execution_count": 41,
     "metadata": {},
     "output_type": "execute_result"
    }
   ],
   "source": [
    "y.shape"
   ]
  },
  {
   "cell_type": "markdown",
   "metadata": {},
   "source": [
    "train on first 1000 games, then predict the latest 376 games"
   ]
  },
  {
   "cell_type": "code",
   "execution_count": 42,
   "metadata": {},
   "outputs": [],
   "source": [
    "X_train = X.iloc[:1001,:]"
   ]
  },
  {
   "cell_type": "code",
   "execution_count": 43,
   "metadata": {},
   "outputs": [],
   "source": [
    "X_test = X.iloc[1001:,:]"
   ]
  },
  {
   "cell_type": "code",
   "execution_count": 44,
   "metadata": {},
   "outputs": [
    {
     "data": {
      "text/plain": [
       "(375, 27)"
      ]
     },
     "execution_count": 44,
     "metadata": {},
     "output_type": "execute_result"
    }
   ],
   "source": [
    "X_test.shape"
   ]
  },
  {
   "cell_type": "code",
   "execution_count": 45,
   "metadata": {},
   "outputs": [],
   "source": [
    "y_train = y.iloc[:1001]"
   ]
  },
  {
   "cell_type": "code",
   "execution_count": 46,
   "metadata": {},
   "outputs": [],
   "source": [
    "y_test = y.iloc[1001:]"
   ]
  },
  {
   "cell_type": "code",
   "execution_count": 47,
   "metadata": {},
   "outputs": [],
   "source": [
    "predict_home = [2 for _ in range(len(y_test))]"
   ]
  },
  {
   "cell_type": "code",
   "execution_count": 48,
   "metadata": {},
   "outputs": [],
   "source": [
    "predict_away = [0 for _ in range(len(y_test))]"
   ]
  },
  {
   "cell_type": "code",
   "execution_count": 49,
   "metadata": {},
   "outputs": [],
   "source": [
    "predict_draw = [1 for _ in range(len(y_test))]"
   ]
  },
  {
   "cell_type": "code",
   "execution_count": 50,
   "metadata": {},
   "outputs": [],
   "source": [
    "logreg2 = LogisticRegression()"
   ]
  },
  {
   "cell_type": "code",
   "execution_count": 51,
   "metadata": {},
   "outputs": [
    {
     "data": {
      "text/plain": [
       "LogisticRegression(C=1.0, class_weight=None, dual=False, fit_intercept=True,\n",
       "          intercept_scaling=1, max_iter=100, multi_class='ovr', n_jobs=1,\n",
       "          penalty='l2', random_state=None, solver='liblinear', tol=0.0001,\n",
       "          verbose=0, warm_start=False)"
      ]
     },
     "execution_count": 51,
     "metadata": {},
     "output_type": "execute_result"
    }
   ],
   "source": [
    "logreg2.fit(X_train, y_train)"
   ]
  },
  {
   "cell_type": "code",
   "execution_count": 52,
   "metadata": {},
   "outputs": [],
   "source": [
    "pred2 = logreg2.predict(X_test)"
   ]
  },
  {
   "cell_type": "code",
   "execution_count": null,
   "metadata": {},
   "outputs": [],
   "source": []
  },
  {
   "cell_type": "code",
   "execution_count": 53,
   "metadata": {},
   "outputs": [],
   "source": [
    "from sklearn.metrics import classification_report, accuracy_score"
   ]
  },
  {
   "cell_type": "code",
   "execution_count": 54,
   "metadata": {},
   "outputs": [
    {
     "name": "stdout",
     "output_type": "stream",
     "text": [
      "             precision    recall  f1-score   support\n",
      "\n",
      "          0       0.29      0.35      0.31       107\n",
      "          1       0.16      0.15      0.15        87\n",
      "          2       0.60      0.55      0.57       181\n",
      "\n",
      "avg / total       0.41      0.40      0.40       375\n",
      "\n"
     ]
    }
   ],
   "source": [
    "print(classification_report(y_test, pred2))"
   ]
  },
  {
   "cell_type": "markdown",
   "metadata": {},
   "source": [
    "not very good, but lets compare if we only predicted all home, away team winning or draws"
   ]
  },
  {
   "cell_type": "code",
   "execution_count": 55,
   "metadata": {},
   "outputs": [
    {
     "name": "stdout",
     "output_type": "stream",
     "text": [
      "0.3973333333333333\n"
     ]
    }
   ],
   "source": [
    "print(accuracy_score(y_test, pred2, normalize=True))"
   ]
  },
  {
   "cell_type": "code",
   "execution_count": 56,
   "metadata": {},
   "outputs": [
    {
     "name": "stdout",
     "output_type": "stream",
     "text": [
      "             precision    recall  f1-score   support\n",
      "\n",
      "          0       0.00      0.00      0.00       107\n",
      "          1       0.00      0.00      0.00        87\n",
      "          2       0.48      1.00      0.65       181\n",
      "\n",
      "avg / total       0.23      0.48      0.31       375\n",
      "\n"
     ]
    },
    {
     "name": "stderr",
     "output_type": "stream",
     "text": [
      "C:\\ProgramData\\Anaconda3\\lib\\site-packages\\sklearn\\metrics\\classification.py:1135: UndefinedMetricWarning: Precision and F-score are ill-defined and being set to 0.0 in labels with no predicted samples.\n",
      "  'precision', 'predicted', average, warn_for)\n"
     ]
    }
   ],
   "source": [
    "print(classification_report(y_test, predict_home))"
   ]
  },
  {
   "cell_type": "code",
   "execution_count": 57,
   "metadata": {},
   "outputs": [
    {
     "name": "stdout",
     "output_type": "stream",
     "text": [
      "             precision    recall  f1-score   support\n",
      "\n",
      "          0       0.29      1.00      0.44       107\n",
      "          1       0.00      0.00      0.00        87\n",
      "          2       0.00      0.00      0.00       181\n",
      "\n",
      "avg / total       0.08      0.29      0.13       375\n",
      "\n"
     ]
    },
    {
     "name": "stderr",
     "output_type": "stream",
     "text": [
      "C:\\ProgramData\\Anaconda3\\lib\\site-packages\\sklearn\\metrics\\classification.py:1135: UndefinedMetricWarning: Precision and F-score are ill-defined and being set to 0.0 in labels with no predicted samples.\n",
      "  'precision', 'predicted', average, warn_for)\n"
     ]
    }
   ],
   "source": [
    "print(classification_report(y_test, predict_away))"
   ]
  },
  {
   "cell_type": "code",
   "execution_count": 58,
   "metadata": {},
   "outputs": [
    {
     "name": "stdout",
     "output_type": "stream",
     "text": [
      "             precision    recall  f1-score   support\n",
      "\n",
      "          0       0.00      0.00      0.00       107\n",
      "          1       0.23      1.00      0.38        87\n",
      "          2       0.00      0.00      0.00       181\n",
      "\n",
      "avg / total       0.05      0.23      0.09       375\n",
      "\n"
     ]
    },
    {
     "name": "stderr",
     "output_type": "stream",
     "text": [
      "C:\\ProgramData\\Anaconda3\\lib\\site-packages\\sklearn\\metrics\\classification.py:1135: UndefinedMetricWarning: Precision and F-score are ill-defined and being set to 0.0 in labels with no predicted samples.\n",
      "  'precision', 'predicted', average, warn_for)\n"
     ]
    }
   ],
   "source": [
    "print(classification_report(y_test, predict_draw))"
   ]
  },
  {
   "cell_type": "markdown",
   "metadata": {},
   "source": [
    "---"
   ]
  },
  {
   "cell_type": "markdown",
   "metadata": {},
   "source": [
    "### determine Feature importance"
   ]
  },
  {
   "cell_type": "code",
   "execution_count": 59,
   "metadata": {},
   "outputs": [],
   "source": [
    "from sklearn.ensemble import RandomForestRegressor"
   ]
  },
  {
   "cell_type": "code",
   "execution_count": 60,
   "metadata": {},
   "outputs": [],
   "source": [
    "forest = RandomForestRegressor(n_estimators=100, random_state=42)"
   ]
  },
  {
   "cell_type": "code",
   "execution_count": 61,
   "metadata": {},
   "outputs": [
    {
     "data": {
      "text/plain": [
       "RandomForestRegressor(bootstrap=True, criterion='mse', max_depth=None,\n",
       "           max_features='auto', max_leaf_nodes=None,\n",
       "           min_impurity_decrease=0.0, min_impurity_split=None,\n",
       "           min_samples_leaf=1, min_samples_split=2,\n",
       "           min_weight_fraction_leaf=0.0, n_estimators=100, n_jobs=1,\n",
       "           oob_score=False, random_state=42, verbose=0, warm_start=False)"
      ]
     },
     "execution_count": 61,
     "metadata": {},
     "output_type": "execute_result"
    }
   ],
   "source": [
    "forest.fit(X_train, y_train)"
   ]
  },
  {
   "cell_type": "code",
   "execution_count": 62,
   "metadata": {},
   "outputs": [],
   "source": [
    "# Extract most important features\n",
    "feature_importance = forest.feature_importances_"
   ]
  },
  {
   "cell_type": "code",
   "execution_count": 63,
   "metadata": {},
   "outputs": [],
   "source": [
    "# Put into dataframe\n",
    "features = {}\n",
    "features['all'] = pd.DataFrame(feature_importance, \n",
    "                 X.columns, \n",
    "                 columns=['Importance']).sort_values(by='Importance', ascending=False)"
   ]
  },
  {
   "cell_type": "code",
   "execution_count": 64,
   "metadata": {},
   "outputs": [
    {
     "data": {
      "text/html": [
       "<div>\n",
       "<style scoped>\n",
       "    .dataframe tbody tr th:only-of-type {\n",
       "        vertical-align: middle;\n",
       "    }\n",
       "\n",
       "    .dataframe tbody tr th {\n",
       "        vertical-align: top;\n",
       "    }\n",
       "\n",
       "    .dataframe thead th {\n",
       "        text-align: right;\n",
       "    }\n",
       "</style>\n",
       "<table border=\"1\" class=\"dataframe\">\n",
       "  <thead>\n",
       "    <tr style=\"text-align: right;\">\n",
       "      <th></th>\n",
       "      <th>Importance</th>\n",
       "    </tr>\n",
       "  </thead>\n",
       "  <tbody>\n",
       "    <tr>\n",
       "      <th>RankDiff</th>\n",
       "      <td>0.225509</td>\n",
       "    </tr>\n",
       "    <tr>\n",
       "      <th>home_previous_points</th>\n",
       "      <td>0.156800</td>\n",
       "    </tr>\n",
       "    <tr>\n",
       "      <th>away_previous_points</th>\n",
       "      <td>0.156546</td>\n",
       "    </tr>\n",
       "    <tr>\n",
       "      <th>Away Team Name</th>\n",
       "      <td>0.112475</td>\n",
       "    </tr>\n",
       "    <tr>\n",
       "      <th>Home Team Name</th>\n",
       "      <td>0.111877</td>\n",
       "    </tr>\n",
       "    <tr>\n",
       "      <th>Away Avg Goals</th>\n",
       "      <td>0.053924</td>\n",
       "    </tr>\n",
       "    <tr>\n",
       "      <th>Home Avg Goals</th>\n",
       "      <td>0.050723</td>\n",
       "    </tr>\n",
       "    <tr>\n",
       "      <th>home_rank_change</th>\n",
       "      <td>0.048801</td>\n",
       "    </tr>\n",
       "    <tr>\n",
       "      <th>away_rank_change</th>\n",
       "      <td>0.046625</td>\n",
       "    </tr>\n",
       "    <tr>\n",
       "      <th>away_cur_year_avg</th>\n",
       "      <td>0.003847</td>\n",
       "    </tr>\n",
       "  </tbody>\n",
       "</table>\n",
       "</div>"
      ],
      "text/plain": [
       "                      Importance\n",
       "RankDiff                0.225509\n",
       "home_previous_points    0.156800\n",
       "away_previous_points    0.156546\n",
       "Away Team Name          0.112475\n",
       "Home Team Name          0.111877\n",
       "Away Avg Goals          0.053924\n",
       "Home Avg Goals          0.050723\n",
       "home_rank_change        0.048801\n",
       "away_rank_change        0.046625\n",
       "away_cur_year_avg       0.003847"
      ]
     },
     "execution_count": 64,
     "metadata": {},
     "output_type": "execute_result"
    }
   ],
   "source": [
    "features['all'].head(10)"
   ]
  },
  {
   "cell_type": "code",
   "execution_count": 65,
   "metadata": {},
   "outputs": [
    {
     "data": {
      "text/plain": [
       "<matplotlib.axes._subplots.AxesSubplot at 0x21c14c22cf8>"
      ]
     },
     "execution_count": 65,
     "metadata": {},
     "output_type": "execute_result"
    },
    {
     "data": {
      "image/png": "[encoded data removed]",
      "text/plain": [
       "<Figure size 720x360 with 1 Axes>"
      ]
     },
     "metadata": {},
     "output_type": "display_data"
    }
   ],
   "source": [
    "features['all'].head(10).sort_values(by='Importance').plot(kind='barh', \n",
    "                                                  figsize=(10,5), \n",
    "                                                  xlim=[0,1], \n",
    "                                                  title='Most Important Features for All Players')"
   ]
  },
  {
   "cell_type": "code",
   "execution_count": null,
   "metadata": {},
   "outputs": [],
   "source": []
  },
  {
   "cell_type": "code",
   "execution_count": null,
   "metadata": {},
   "outputs": [],
   "source": []
  },
  {
   "cell_type": "markdown",
   "metadata": {},
   "source": [
    "---\n",
    "get predicted match into format"
   ]
  },
  {
   "cell_type": "code",
   "execution_count": 67,
   "metadata": {},
   "outputs": [],
   "source": [
    "fifa_ranking = pd.read_csv('fifa_rank_over_time.csv')"
   ]
  },
  {
   "cell_type": "code",
   "execution_count": 68,
   "metadata": {},
   "outputs": [],
   "source": [
    "fifarank18 = fifa_ranking.iloc[57371:].drop(['country_abrv', 'confederation', 'rank_date'], axis=1).reset_index()"
   ]
  },
  {
   "cell_type": "code",
   "execution_count": 69,
   "metadata": {},
   "outputs": [],
   "source": [
    "# need to add: Away Avg Goals and Home Avg Goals\n",
    "def pred_match(team1, team2):\n",
    "    # need to load this file from db\n",
    "    # fifa_ranking = pd.read_csv('fifa_rank_over_time.csv')\n",
    "    # fifarank18 = fifarank.iloc[57371:].drop(['country_abrv', 'confederation', 'rank_date'], axis=1).reset_index()\n",
    "\n",
    "    home_team_rank = fifarank18.loc[fifarank18.country_full == team1].drop(\n",
    "        'index', axis=1)\n",
    "    away_team_rank = fifarank18.loc[fifarank18.country_full == team2].drop(\n",
    "        'index', axis=1)\n",
    "\n",
    "    home_team_rank.reset_index(drop=True, inplace=True)\n",
    "    away_team_rank.reset_index(drop=True, inplace=True)\n",
    "\n",
    "    match_pred = home_team_rank.join(\n",
    "        away_team_rank, lsuffix='_home', rsuffix='_away')\n",
    "    # add missing columns\n",
    "    match_pred['Away Team Name'] = team2\n",
    "    match_pred['Home Team Name'] = team1\n",
    "    match_pred['RankDiff'] = match_pred.rank_home - match_pred.rank_away\n",
    "\n",
    "    # select only necessay columns\n",
    "    match_pred_2 = match_pred[['Away Team Name', 'Home Team Name', 'total_points_home', 'previous_points_home', 'rank_change_home', 'cur_year_avg_home',\n",
    "                               'cur_year_avg_weighted_home', 'last_year_avg_home',\n",
    "                               'last_year_avg_weighted_home', 'two_year_ago_avg_home',\n",
    "                               'two_year_ago_weighted_home', 'three_year_ago_avg_home',\n",
    "                               'three_year_ago_weighted_home', 'total_points_away', 'previous_points_away', 'rank_change_away',\n",
    "                               'cur_year_avg_away', 'cur_year_avg_weighted_away', 'last_year_avg_away',\n",
    "                               'last_year_avg_weighted_away', 'two_year_ago_avg_away',\n",
    "                               'two_year_ago_weighted_away', 'three_year_ago_avg_away',\n",
    "                               'three_year_ago_weighted_away', 'RankDiff']]\n",
    "\n",
    "    # conform to train format\n",
    "    match_pred_2.columns = ['Away Team Name', 'Home Team Name', 'home_total_points',\n",
    "                            'home_previous_points', 'home_rank_change', 'home_cur_year_avg',\n",
    "                            'home_cur_year_avg_weighted', 'home_last_year_avg',\n",
    "                            'home_last_year_avg_weighted', 'home_two_year_ago_avg',\n",
    "                            'home_two_year_ago_weighted', 'home_three_year_ago_avg',\n",
    "                            'home_three_year_ago_weighted', 'away_total_points',\n",
    "                            'away_previous_points', 'away_rank_change', 'away_cur_year_avg',\n",
    "                            'away_cur_year_avg_weighted', 'away_last_year_avg',\n",
    "                            'away_last_year_avg_weighted', 'away_two_year_ago_avg',\n",
    "                            'away_two_year_ago_weighted', 'away_three_year_ago_avg',\n",
    "                            'away_three_year_ago_weighted', 'RankDiff']\n",
    "\n",
    "    return match_pred_2"
   ]
  },
  {
   "cell_type": "code",
   "execution_count": 70,
   "metadata": {},
   "outputs": [],
   "source": [
    "test_mat = pred_match(\"Colombia\", \"Poland\")"
   ]
  },
  {
   "cell_type": "code",
   "execution_count": 71,
   "metadata": {},
   "outputs": [
    {
     "data": {
      "text/html": [
       "<div>\n",
       "<style scoped>\n",
       "    .dataframe tbody tr th:only-of-type {\n",
       "        vertical-align: middle;\n",
       "    }\n",
       "\n",
       "    .dataframe tbody tr th {\n",
       "        vertical-align: top;\n",
       "    }\n",
       "\n",
       "    .dataframe thead th {\n",
       "        text-align: right;\n",
       "    }\n",
       "</style>\n",
       "<table border=\"1\" class=\"dataframe\">\n",
       "  <thead>\n",
       "    <tr style=\"text-align: right;\">\n",
       "      <th></th>\n",
       "      <th>Away Team Name</th>\n",
       "      <th>Home Team Name</th>\n",
       "      <th>home_total_points</th>\n",
       "      <th>home_previous_points</th>\n",
       "      <th>home_rank_change</th>\n",
       "      <th>home_cur_year_avg</th>\n",
       "      <th>home_cur_year_avg_weighted</th>\n",
       "      <th>home_last_year_avg</th>\n",
       "      <th>home_last_year_avg_weighted</th>\n",
       "      <th>home_two_year_ago_avg</th>\n",
       "      <th>...</th>\n",
       "      <th>away_rank_change</th>\n",
       "      <th>away_cur_year_avg</th>\n",
       "      <th>away_cur_year_avg_weighted</th>\n",
       "      <th>away_last_year_avg</th>\n",
       "      <th>away_last_year_avg_weighted</th>\n",
       "      <th>away_two_year_ago_avg</th>\n",
       "      <th>away_two_year_ago_weighted</th>\n",
       "      <th>away_three_year_ago_avg</th>\n",
       "      <th>away_three_year_ago_weighted</th>\n",
       "      <th>RankDiff</th>\n",
       "    </tr>\n",
       "  </thead>\n",
       "  <tbody>\n",
       "    <tr>\n",
       "      <th>0</th>\n",
       "      <td>Poland</td>\n",
       "      <td>Colombia</td>\n",
       "      <td>988.57</td>\n",
       "      <td>989</td>\n",
       "      <td>0</td>\n",
       "      <td>307.05</td>\n",
       "      <td>307.05</td>\n",
       "      <td>683.93</td>\n",
       "      <td>341.96</td>\n",
       "      <td>617.18</td>\n",
       "      <td>...</td>\n",
       "      <td>0</td>\n",
       "      <td>499.9</td>\n",
       "      <td>499.9</td>\n",
       "      <td>764.51</td>\n",
       "      <td>382.25</td>\n",
       "      <td>450.51</td>\n",
       "      <td>135.15</td>\n",
       "      <td>554.05</td>\n",
       "      <td>110.81</td>\n",
       "      <td>6</td>\n",
       "    </tr>\n",
       "  </tbody>\n",
       "</table>\n",
       "<p>1 rows × 25 columns</p>\n",
       "</div>"
      ],
      "text/plain": [
       "  Away Team Name Home Team Name  home_total_points  home_previous_points  \\\n",
       "0         Poland       Colombia             988.57                   989   \n",
       "\n",
       "   home_rank_change  home_cur_year_avg  home_cur_year_avg_weighted  \\\n",
       "0                 0             307.05                      307.05   \n",
       "\n",
       "   home_last_year_avg  home_last_year_avg_weighted  home_two_year_ago_avg  \\\n",
       "0              683.93                       341.96                 617.18   \n",
       "\n",
       "     ...     away_rank_change  away_cur_year_avg  away_cur_year_avg_weighted  \\\n",
       "0    ...                    0              499.9                       499.9   \n",
       "\n",
       "   away_last_year_avg  away_last_year_avg_weighted  away_two_year_ago_avg  \\\n",
       "0              764.51                       382.25                 450.51   \n",
       "\n",
       "   away_two_year_ago_weighted  away_three_year_ago_avg  \\\n",
       "0                      135.15                   554.05   \n",
       "\n",
       "   away_three_year_ago_weighted  RankDiff  \n",
       "0                        110.81         6  \n",
       "\n",
       "[1 rows x 25 columns]"
      ]
     },
     "execution_count": 71,
     "metadata": {},
     "output_type": "execute_result"
    }
   ],
   "source": [
    "test_mat"
   ]
  },
  {
   "cell_type": "code",
   "execution_count": 72,
   "metadata": {},
   "outputs": [],
   "source": [
    "test_mat[\"Home Team Name\"] = team_name_encoder.transform(test_mat[\"Home Team Name\"])\n",
    "test_mat[\"Away Team Name\"] = team_name_encoder.transform(test_mat[\"Away Team Name\"])"
   ]
  },
  {
   "cell_type": "code",
   "execution_count": 73,
   "metadata": {},
   "outputs": [
    {
     "ename": "ValueError",
     "evalue": "X has 25 features per sample; expecting 27",
     "output_type": "error",
     "traceback": [
      "\u001b[1;31m---------------------------------------------------------------------------\u001b[0m",
      "\u001b[1;31mValueError\u001b[0m                                Traceback (most recent call last)",
      "\u001b[1;32m<ipython-input-73-8f7abeb24742>\u001b[0m in \u001b[0;36m<module>\u001b[1;34m()\u001b[0m\n\u001b[1;32m----> 1\u001b[1;33m \u001b[0mlogreg2\u001b[0m\u001b[1;33m.\u001b[0m\u001b[0mpredict_proba\u001b[0m\u001b[1;33m(\u001b[0m\u001b[0mtest_mat\u001b[0m\u001b[1;33m)\u001b[0m\u001b[1;33m\u001b[0m\u001b[0m\n\u001b[0m",
      "\u001b[1;32mC:\\ProgramData\\Anaconda3\\lib\\site-packages\\sklearn\\linear_model\\logistic.py\u001b[0m in \u001b[0;36mpredict_proba\u001b[1;34m(self, X)\u001b[0m\n\u001b[0;32m   1334\u001b[0m         \u001b[0mcalculate_ovr\u001b[0m \u001b[1;33m=\u001b[0m \u001b[0mself\u001b[0m\u001b[1;33m.\u001b[0m\u001b[0mcoef_\u001b[0m\u001b[1;33m.\u001b[0m\u001b[0mshape\u001b[0m\u001b[1;33m[\u001b[0m\u001b[1;36m0\u001b[0m\u001b[1;33m]\u001b[0m \u001b[1;33m==\u001b[0m \u001b[1;36m1\u001b[0m \u001b[1;32mor\u001b[0m \u001b[0mself\u001b[0m\u001b[1;33m.\u001b[0m\u001b[0mmulti_class\u001b[0m \u001b[1;33m==\u001b[0m \u001b[1;34m\"ovr\"\u001b[0m\u001b[1;33m\u001b[0m\u001b[0m\n\u001b[0;32m   1335\u001b[0m         \u001b[1;32mif\u001b[0m \u001b[0mcalculate_ovr\u001b[0m\u001b[1;33m:\u001b[0m\u001b[1;33m\u001b[0m\u001b[0m\n\u001b[1;32m-> 1336\u001b[1;33m             \u001b[1;32mreturn\u001b[0m \u001b[0msuper\u001b[0m\u001b[1;33m(\u001b[0m\u001b[0mLogisticRegression\u001b[0m\u001b[1;33m,\u001b[0m \u001b[0mself\u001b[0m\u001b[1;33m)\u001b[0m\u001b[1;33m.\u001b[0m\u001b[0m_predict_proba_lr\u001b[0m\u001b[1;33m(\u001b[0m\u001b[0mX\u001b[0m\u001b[1;33m)\u001b[0m\u001b[1;33m\u001b[0m\u001b[0m\n\u001b[0m\u001b[0;32m   1337\u001b[0m         \u001b[1;32melse\u001b[0m\u001b[1;33m:\u001b[0m\u001b[1;33m\u001b[0m\u001b[0m\n\u001b[0;32m   1338\u001b[0m             \u001b[1;32mreturn\u001b[0m \u001b[0msoftmax\u001b[0m\u001b[1;33m(\u001b[0m\u001b[0mself\u001b[0m\u001b[1;33m.\u001b[0m\u001b[0mdecision_function\u001b[0m\u001b[1;33m(\u001b[0m\u001b[0mX\u001b[0m\u001b[1;33m)\u001b[0m\u001b[1;33m,\u001b[0m \u001b[0mcopy\u001b[0m\u001b[1;33m=\u001b[0m\u001b[1;32mFalse\u001b[0m\u001b[1;33m)\u001b[0m\u001b[1;33m\u001b[0m\u001b[0m\n",
      "\u001b[1;32mC:\\ProgramData\\Anaconda3\\lib\\site-packages\\sklearn\\linear_model\\base.py\u001b[0m in \u001b[0;36m_predict_proba_lr\u001b[1;34m(self, X)\u001b[0m\n\u001b[0;32m    336\u001b[0m         \u001b[0mmulticlass\u001b[0m \u001b[1;32mis\u001b[0m \u001b[0mhandled\u001b[0m \u001b[0mby\u001b[0m \u001b[0mnormalizing\u001b[0m \u001b[0mthat\u001b[0m \u001b[0mover\u001b[0m \u001b[0mall\u001b[0m \u001b[0mclasses\u001b[0m\u001b[1;33m.\u001b[0m\u001b[1;33m\u001b[0m\u001b[0m\n\u001b[0;32m    337\u001b[0m         \"\"\"\n\u001b[1;32m--> 338\u001b[1;33m         \u001b[0mprob\u001b[0m \u001b[1;33m=\u001b[0m \u001b[0mself\u001b[0m\u001b[1;33m.\u001b[0m\u001b[0mdecision_function\u001b[0m\u001b[1;33m(\u001b[0m\u001b[0mX\u001b[0m\u001b[1;33m)\u001b[0m\u001b[1;33m\u001b[0m\u001b[0m\n\u001b[0m\u001b[0;32m    339\u001b[0m         \u001b[0mprob\u001b[0m \u001b[1;33m*=\u001b[0m \u001b[1;33m-\u001b[0m\u001b[1;36m1\u001b[0m\u001b[1;33m\u001b[0m\u001b[0m\n\u001b[0;32m    340\u001b[0m         \u001b[0mnp\u001b[0m\u001b[1;33m.\u001b[0m\u001b[0mexp\u001b[0m\u001b[1;33m(\u001b[0m\u001b[0mprob\u001b[0m\u001b[1;33m,\u001b[0m \u001b[0mprob\u001b[0m\u001b[1;33m)\u001b[0m\u001b[1;33m\u001b[0m\u001b[0m\n",
      "\u001b[1;32mC:\\ProgramData\\Anaconda3\\lib\\site-packages\\sklearn\\linear_model\\base.py\u001b[0m in \u001b[0;36mdecision_function\u001b[1;34m(self, X)\u001b[0m\n\u001b[0;32m    303\u001b[0m         \u001b[1;32mif\u001b[0m \u001b[0mX\u001b[0m\u001b[1;33m.\u001b[0m\u001b[0mshape\u001b[0m\u001b[1;33m[\u001b[0m\u001b[1;36m1\u001b[0m\u001b[1;33m]\u001b[0m \u001b[1;33m!=\u001b[0m \u001b[0mn_features\u001b[0m\u001b[1;33m:\u001b[0m\u001b[1;33m\u001b[0m\u001b[0m\n\u001b[0;32m    304\u001b[0m             raise ValueError(\"X has %d features per sample; expecting %d\"\n\u001b[1;32m--> 305\u001b[1;33m                              % (X.shape[1], n_features))\n\u001b[0m\u001b[0;32m    306\u001b[0m \u001b[1;33m\u001b[0m\u001b[0m\n\u001b[0;32m    307\u001b[0m         scores = safe_sparse_dot(X, self.coef_.T,\n",
      "\u001b[1;31mValueError\u001b[0m: X has 25 features per sample; expecting 27"
     ]
    }
   ],
   "source": [
    "logreg2.predict_proba(test_mat) "
   ]
  },
  {
   "cell_type": "code",
   "execution_count": null,
   "metadata": {},
   "outputs": [],
   "source": []
  }
 ],
 "metadata": {
  "kernelspec": {
   "display_name": "Python 3",
   "language": "python",
   "name": "python3"
  },
  "language_info": {
   "codemirror_mode": {
    "name": "ipython",
    "version": 3
   },
   "file_extension": ".py",
   "mimetype": "text/x-python",
   "name": "python",
   "nbconvert_exporter": "python",
   "pygments_lexer": "ipython3",
   "version": "3.6.5"
  }
 },
 "nbformat": 4,
 "nbformat_minor": 2
}
