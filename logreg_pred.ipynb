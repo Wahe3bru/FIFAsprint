{
 "cells": [
  {
   "cell_type": "code",
   "execution_count": 1,
   "metadata": {},
   "outputs": [],
   "source": [
    "import pandas as pd"
   ]
  },
  {
   "cell_type": "code",
   "execution_count": 2,
   "metadata": {},
   "outputs": [],
   "source": [
    "df = pd.read_csv('finalR.csv').drop(['Year', 'home_country', 'away_country', 'away_year', 'home_year'], axis=1)"
   ]
  },
  {
   "cell_type": "code",
   "execution_count": 3,
   "metadata": {},
   "outputs": [
    {
     "data": {
      "text/plain": [
       "Index(['Away Team Goals', 'Away Team Name', 'Home Team Goals',\n",
       "       'Home Team Name', 'home_rank', 'home_total_points',\n",
       "       'home_previous_points', 'home_rank_change', 'home_cur_year_avg',\n",
       "       'home_cur_year_avg_weighted', 'home_last_year_avg',\n",
       "       'home_last_year_avg_weighted', 'home_two_year_ago_avg',\n",
       "       'home_two_year_ago_weighted', 'home_three_year_ago_avg',\n",
       "       'home_three_year_ago_weighted', 'away_rank', 'away_total_points',\n",
       "       'away_previous_points', 'away_rank_change', 'away_cur_year_avg',\n",
       "       'away_cur_year_avg_weighted', 'away_last_year_avg',\n",
       "       'away_last_year_avg_weighted', 'away_two_year_ago_avg',\n",
       "       'away_two_year_ago_weighted', 'away_three_year_ago_avg',\n",
       "       'away_three_year_ago_weighted', 'winning_team', 'RankDiff'],\n",
       "      dtype='object')"
      ]
     },
     "execution_count": 3,
     "metadata": {},
     "output_type": "execute_result"
    }
   ],
   "source": [
    "df.columns"
   ]
  },
  {
   "cell_type": "code",
   "execution_count": 4,
   "metadata": {},
   "outputs": [
    {
     "data": {
      "text/html": [
       "<div>\n",
       "<style>\n",
       "    .dataframe thead tr:only-child th {\n",
       "        text-align: right;\n",
       "    }\n",
       "\n",
       "    .dataframe thead th {\n",
       "        text-align: left;\n",
       "    }\n",
       "\n",
       "    .dataframe tbody tr th {\n",
       "        vertical-align: top;\n",
       "    }\n",
       "</style>\n",
       "<table border=\"1\" class=\"dataframe\">\n",
       "  <thead>\n",
       "    <tr style=\"text-align: right;\">\n",
       "      <th></th>\n",
       "      <th>Away Team Goals</th>\n",
       "      <th>Away Team Name</th>\n",
       "      <th>Home Team Goals</th>\n",
       "      <th>Home Team Name</th>\n",
       "      <th>home_rank</th>\n",
       "      <th>home_total_points</th>\n",
       "      <th>home_previous_points</th>\n",
       "      <th>home_rank_change</th>\n",
       "      <th>home_cur_year_avg</th>\n",
       "      <th>home_cur_year_avg_weighted</th>\n",
       "      <th>...</th>\n",
       "      <th>away_cur_year_avg</th>\n",
       "      <th>away_cur_year_avg_weighted</th>\n",
       "      <th>away_last_year_avg</th>\n",
       "      <th>away_last_year_avg_weighted</th>\n",
       "      <th>away_two_year_ago_avg</th>\n",
       "      <th>away_two_year_ago_weighted</th>\n",
       "      <th>away_three_year_ago_avg</th>\n",
       "      <th>away_three_year_ago_weighted</th>\n",
       "      <th>winning_team</th>\n",
       "      <th>RankDiff</th>\n",
       "    </tr>\n",
       "  </thead>\n",
       "  <tbody>\n",
       "    <tr>\n",
       "      <th>1371</th>\n",
       "      <td>0.0</td>\n",
       "      <td>Panama</td>\n",
       "      <td>1.0</td>\n",
       "      <td>Denmark</td>\n",
       "      <td>12</td>\n",
       "      <td>1098.82</td>\n",
       "      <td>1099</td>\n",
       "      <td>0</td>\n",
       "      <td>784.52</td>\n",
       "      <td>784.52</td>\n",
       "      <td>...</td>\n",
       "      <td>369.95</td>\n",
       "      <td>369.95</td>\n",
       "      <td>290.38</td>\n",
       "      <td>145.19</td>\n",
       "      <td>277.41</td>\n",
       "      <td>83.22</td>\n",
       "      <td>189.81</td>\n",
       "      <td>37.96</td>\n",
       "      <td>Denmark</td>\n",
       "      <td>-41</td>\n",
       "    </tr>\n",
       "    <tr>\n",
       "      <th>1372</th>\n",
       "      <td>1.0</td>\n",
       "      <td>Sweden</td>\n",
       "      <td>0.0</td>\n",
       "      <td>Denmark</td>\n",
       "      <td>12</td>\n",
       "      <td>1098.82</td>\n",
       "      <td>1099</td>\n",
       "      <td>0</td>\n",
       "      <td>784.52</td>\n",
       "      <td>784.52</td>\n",
       "      <td>...</td>\n",
       "      <td>659.74</td>\n",
       "      <td>659.74</td>\n",
       "      <td>302.57</td>\n",
       "      <td>151.28</td>\n",
       "      <td>462.48</td>\n",
       "      <td>138.74</td>\n",
       "      <td>253.40</td>\n",
       "      <td>50.68</td>\n",
       "      <td>Sweden</td>\n",
       "      <td>-6</td>\n",
       "    </tr>\n",
       "    <tr>\n",
       "      <th>1373</th>\n",
       "      <td>0.0</td>\n",
       "      <td>Denmark</td>\n",
       "      <td>0.0</td>\n",
       "      <td>Sweden</td>\n",
       "      <td>18</td>\n",
       "      <td>1000.44</td>\n",
       "      <td>998</td>\n",
       "      <td>0</td>\n",
       "      <td>659.74</td>\n",
       "      <td>659.74</td>\n",
       "      <td>...</td>\n",
       "      <td>784.52</td>\n",
       "      <td>784.52</td>\n",
       "      <td>289.97</td>\n",
       "      <td>144.99</td>\n",
       "      <td>310.70</td>\n",
       "      <td>93.21</td>\n",
       "      <td>380.53</td>\n",
       "      <td>76.11</td>\n",
       "      <td>Draw</td>\n",
       "      <td>6</td>\n",
       "    </tr>\n",
       "    <tr>\n",
       "      <th>1374</th>\n",
       "      <td>0.0</td>\n",
       "      <td>Saudi Arabia</td>\n",
       "      <td>4.0</td>\n",
       "      <td>Belgium</td>\n",
       "      <td>5</td>\n",
       "      <td>1325.29</td>\n",
       "      <td>1325</td>\n",
       "      <td>0</td>\n",
       "      <td>626.00</td>\n",
       "      <td>626.00</td>\n",
       "      <td>...</td>\n",
       "      <td>219.26</td>\n",
       "      <td>219.26</td>\n",
       "      <td>324.72</td>\n",
       "      <td>162.36</td>\n",
       "      <td>384.56</td>\n",
       "      <td>115.37</td>\n",
       "      <td>122.58</td>\n",
       "      <td>24.52</td>\n",
       "      <td>Belgium</td>\n",
       "      <td>-60</td>\n",
       "    </tr>\n",
       "    <tr>\n",
       "      <th>1375</th>\n",
       "      <td>0.0</td>\n",
       "      <td>Portugal</td>\n",
       "      <td>0.0</td>\n",
       "      <td>Belgium</td>\n",
       "      <td>5</td>\n",
       "      <td>1325.29</td>\n",
       "      <td>1325</td>\n",
       "      <td>0</td>\n",
       "      <td>626.00</td>\n",
       "      <td>626.00</td>\n",
       "      <td>...</td>\n",
       "      <td>744.16</td>\n",
       "      <td>744.16</td>\n",
       "      <td>617.85</td>\n",
       "      <td>308.92</td>\n",
       "      <td>635.88</td>\n",
       "      <td>190.76</td>\n",
       "      <td>570.26</td>\n",
       "      <td>114.05</td>\n",
       "      <td>Draw</td>\n",
       "      <td>2</td>\n",
       "    </tr>\n",
       "  </tbody>\n",
       "</table>\n",
       "<p>5 rows × 30 columns</p>\n",
       "</div>"
      ],
      "text/plain": [
       "      Away Team Goals Away Team Name  Home Team Goals Home Team Name  \\\n",
       "1371              0.0         Panama              1.0        Denmark   \n",
       "1372              1.0         Sweden              0.0        Denmark   \n",
       "1373              0.0        Denmark              0.0         Sweden   \n",
       "1374              0.0   Saudi Arabia              4.0        Belgium   \n",
       "1375              0.0       Portugal              0.0        Belgium   \n",
       "\n",
       "      home_rank  home_total_points  home_previous_points  home_rank_change  \\\n",
       "1371         12            1098.82                  1099                 0   \n",
       "1372         12            1098.82                  1099                 0   \n",
       "1373         18            1000.44                   998                 0   \n",
       "1374          5            1325.29                  1325                 0   \n",
       "1375          5            1325.29                  1325                 0   \n",
       "\n",
       "      home_cur_year_avg  home_cur_year_avg_weighted    ...     \\\n",
       "1371             784.52                      784.52    ...      \n",
       "1372             784.52                      784.52    ...      \n",
       "1373             659.74                      659.74    ...      \n",
       "1374             626.00                      626.00    ...      \n",
       "1375             626.00                      626.00    ...      \n",
       "\n",
       "      away_cur_year_avg  away_cur_year_avg_weighted  away_last_year_avg  \\\n",
       "1371             369.95                      369.95              290.38   \n",
       "1372             659.74                      659.74              302.57   \n",
       "1373             784.52                      784.52              289.97   \n",
       "1374             219.26                      219.26              324.72   \n",
       "1375             744.16                      744.16              617.85   \n",
       "\n",
       "      away_last_year_avg_weighted  away_two_year_ago_avg  \\\n",
       "1371                       145.19                 277.41   \n",
       "1372                       151.28                 462.48   \n",
       "1373                       144.99                 310.70   \n",
       "1374                       162.36                 384.56   \n",
       "1375                       308.92                 635.88   \n",
       "\n",
       "      away_two_year_ago_weighted  away_three_year_ago_avg  \\\n",
       "1371                       83.22                   189.81   \n",
       "1372                      138.74                   253.40   \n",
       "1373                       93.21                   380.53   \n",
       "1374                      115.37                   122.58   \n",
       "1375                      190.76                   570.26   \n",
       "\n",
       "      away_three_year_ago_weighted  winning_team  RankDiff  \n",
       "1371                         37.96       Denmark       -41  \n",
       "1372                         50.68        Sweden        -6  \n",
       "1373                         76.11          Draw         6  \n",
       "1374                         24.52       Belgium       -60  \n",
       "1375                        114.05          Draw         2  \n",
       "\n",
       "[5 rows x 30 columns]"
      ]
     },
     "execution_count": 4,
     "metadata": {},
     "output_type": "execute_result"
    }
   ],
   "source": [
    "df.tail()"
   ]
  },
  {
   "cell_type": "code",
   "execution_count": 5,
   "metadata": {},
   "outputs": [],
   "source": [
    "df.loc[df.winning_team == df['Home Team Name'],'winning_team'] = 2\n",
    "df.loc[df.winning_team == df['Away Team Name'], 'winning_team'] = 0\n",
    "df.loc[df.winning_team == 'Draw', 'winning_team'] = 1"
   ]
  },
  {
   "cell_type": "code",
   "execution_count": 6,
   "metadata": {},
   "outputs": [
    {
     "data": {
      "text/html": [
       "<div>\n",
       "<style>\n",
       "    .dataframe thead tr:only-child th {\n",
       "        text-align: right;\n",
       "    }\n",
       "\n",
       "    .dataframe thead th {\n",
       "        text-align: left;\n",
       "    }\n",
       "\n",
       "    .dataframe tbody tr th {\n",
       "        vertical-align: top;\n",
       "    }\n",
       "</style>\n",
       "<table border=\"1\" class=\"dataframe\">\n",
       "  <thead>\n",
       "    <tr style=\"text-align: right;\">\n",
       "      <th></th>\n",
       "      <th>Away Team Goals</th>\n",
       "      <th>Away Team Name</th>\n",
       "      <th>Home Team Goals</th>\n",
       "      <th>Home Team Name</th>\n",
       "      <th>home_rank</th>\n",
       "      <th>home_total_points</th>\n",
       "      <th>home_previous_points</th>\n",
       "      <th>home_rank_change</th>\n",
       "      <th>home_cur_year_avg</th>\n",
       "      <th>home_cur_year_avg_weighted</th>\n",
       "      <th>...</th>\n",
       "      <th>away_cur_year_avg</th>\n",
       "      <th>away_cur_year_avg_weighted</th>\n",
       "      <th>away_last_year_avg</th>\n",
       "      <th>away_last_year_avg_weighted</th>\n",
       "      <th>away_two_year_ago_avg</th>\n",
       "      <th>away_two_year_ago_weighted</th>\n",
       "      <th>away_three_year_ago_avg</th>\n",
       "      <th>away_three_year_ago_weighted</th>\n",
       "      <th>winning_team</th>\n",
       "      <th>RankDiff</th>\n",
       "    </tr>\n",
       "  </thead>\n",
       "  <tbody>\n",
       "    <tr>\n",
       "      <th>1371</th>\n",
       "      <td>0.0</td>\n",
       "      <td>Panama</td>\n",
       "      <td>1.0</td>\n",
       "      <td>Denmark</td>\n",
       "      <td>12</td>\n",
       "      <td>1098.82</td>\n",
       "      <td>1099</td>\n",
       "      <td>0</td>\n",
       "      <td>784.52</td>\n",
       "      <td>784.52</td>\n",
       "      <td>...</td>\n",
       "      <td>369.95</td>\n",
       "      <td>369.95</td>\n",
       "      <td>290.38</td>\n",
       "      <td>145.19</td>\n",
       "      <td>277.41</td>\n",
       "      <td>83.22</td>\n",
       "      <td>189.81</td>\n",
       "      <td>37.96</td>\n",
       "      <td>2</td>\n",
       "      <td>-41</td>\n",
       "    </tr>\n",
       "    <tr>\n",
       "      <th>1372</th>\n",
       "      <td>1.0</td>\n",
       "      <td>Sweden</td>\n",
       "      <td>0.0</td>\n",
       "      <td>Denmark</td>\n",
       "      <td>12</td>\n",
       "      <td>1098.82</td>\n",
       "      <td>1099</td>\n",
       "      <td>0</td>\n",
       "      <td>784.52</td>\n",
       "      <td>784.52</td>\n",
       "      <td>...</td>\n",
       "      <td>659.74</td>\n",
       "      <td>659.74</td>\n",
       "      <td>302.57</td>\n",
       "      <td>151.28</td>\n",
       "      <td>462.48</td>\n",
       "      <td>138.74</td>\n",
       "      <td>253.40</td>\n",
       "      <td>50.68</td>\n",
       "      <td>0</td>\n",
       "      <td>-6</td>\n",
       "    </tr>\n",
       "    <tr>\n",
       "      <th>1373</th>\n",
       "      <td>0.0</td>\n",
       "      <td>Denmark</td>\n",
       "      <td>0.0</td>\n",
       "      <td>Sweden</td>\n",
       "      <td>18</td>\n",
       "      <td>1000.44</td>\n",
       "      <td>998</td>\n",
       "      <td>0</td>\n",
       "      <td>659.74</td>\n",
       "      <td>659.74</td>\n",
       "      <td>...</td>\n",
       "      <td>784.52</td>\n",
       "      <td>784.52</td>\n",
       "      <td>289.97</td>\n",
       "      <td>144.99</td>\n",
       "      <td>310.70</td>\n",
       "      <td>93.21</td>\n",
       "      <td>380.53</td>\n",
       "      <td>76.11</td>\n",
       "      <td>1</td>\n",
       "      <td>6</td>\n",
       "    </tr>\n",
       "    <tr>\n",
       "      <th>1374</th>\n",
       "      <td>0.0</td>\n",
       "      <td>Saudi Arabia</td>\n",
       "      <td>4.0</td>\n",
       "      <td>Belgium</td>\n",
       "      <td>5</td>\n",
       "      <td>1325.29</td>\n",
       "      <td>1325</td>\n",
       "      <td>0</td>\n",
       "      <td>626.00</td>\n",
       "      <td>626.00</td>\n",
       "      <td>...</td>\n",
       "      <td>219.26</td>\n",
       "      <td>219.26</td>\n",
       "      <td>324.72</td>\n",
       "      <td>162.36</td>\n",
       "      <td>384.56</td>\n",
       "      <td>115.37</td>\n",
       "      <td>122.58</td>\n",
       "      <td>24.52</td>\n",
       "      <td>2</td>\n",
       "      <td>-60</td>\n",
       "    </tr>\n",
       "    <tr>\n",
       "      <th>1375</th>\n",
       "      <td>0.0</td>\n",
       "      <td>Portugal</td>\n",
       "      <td>0.0</td>\n",
       "      <td>Belgium</td>\n",
       "      <td>5</td>\n",
       "      <td>1325.29</td>\n",
       "      <td>1325</td>\n",
       "      <td>0</td>\n",
       "      <td>626.00</td>\n",
       "      <td>626.00</td>\n",
       "      <td>...</td>\n",
       "      <td>744.16</td>\n",
       "      <td>744.16</td>\n",
       "      <td>617.85</td>\n",
       "      <td>308.92</td>\n",
       "      <td>635.88</td>\n",
       "      <td>190.76</td>\n",
       "      <td>570.26</td>\n",
       "      <td>114.05</td>\n",
       "      <td>1</td>\n",
       "      <td>2</td>\n",
       "    </tr>\n",
       "  </tbody>\n",
       "</table>\n",
       "<p>5 rows × 30 columns</p>\n",
       "</div>"
      ],
      "text/plain": [
       "      Away Team Goals Away Team Name  Home Team Goals Home Team Name  \\\n",
       "1371              0.0         Panama              1.0        Denmark   \n",
       "1372              1.0         Sweden              0.0        Denmark   \n",
       "1373              0.0        Denmark              0.0         Sweden   \n",
       "1374              0.0   Saudi Arabia              4.0        Belgium   \n",
       "1375              0.0       Portugal              0.0        Belgium   \n",
       "\n",
       "      home_rank  home_total_points  home_previous_points  home_rank_change  \\\n",
       "1371         12            1098.82                  1099                 0   \n",
       "1372         12            1098.82                  1099                 0   \n",
       "1373         18            1000.44                   998                 0   \n",
       "1374          5            1325.29                  1325                 0   \n",
       "1375          5            1325.29                  1325                 0   \n",
       "\n",
       "      home_cur_year_avg  home_cur_year_avg_weighted    ...     \\\n",
       "1371             784.52                      784.52    ...      \n",
       "1372             784.52                      784.52    ...      \n",
       "1373             659.74                      659.74    ...      \n",
       "1374             626.00                      626.00    ...      \n",
       "1375             626.00                      626.00    ...      \n",
       "\n",
       "      away_cur_year_avg  away_cur_year_avg_weighted  away_last_year_avg  \\\n",
       "1371             369.95                      369.95              290.38   \n",
       "1372             659.74                      659.74              302.57   \n",
       "1373             784.52                      784.52              289.97   \n",
       "1374             219.26                      219.26              324.72   \n",
       "1375             744.16                      744.16              617.85   \n",
       "\n",
       "      away_last_year_avg_weighted  away_two_year_ago_avg  \\\n",
       "1371                       145.19                 277.41   \n",
       "1372                       151.28                 462.48   \n",
       "1373                       144.99                 310.70   \n",
       "1374                       162.36                 384.56   \n",
       "1375                       308.92                 635.88   \n",
       "\n",
       "      away_two_year_ago_weighted  away_three_year_ago_avg  \\\n",
       "1371                       83.22                   189.81   \n",
       "1372                      138.74                   253.40   \n",
       "1373                       93.21                   380.53   \n",
       "1374                      115.37                   122.58   \n",
       "1375                      190.76                   570.26   \n",
       "\n",
       "      away_three_year_ago_weighted  winning_team  RankDiff  \n",
       "1371                         37.96             2       -41  \n",
       "1372                         50.68             0        -6  \n",
       "1373                         76.11             1         6  \n",
       "1374                         24.52             2       -60  \n",
       "1375                        114.05             1         2  \n",
       "\n",
       "[5 rows x 30 columns]"
      ]
     },
     "execution_count": 6,
     "metadata": {},
     "output_type": "execute_result"
    }
   ],
   "source": [
    "df.tail()"
   ]
  },
  {
   "cell_type": "code",
   "execution_count": 7,
   "metadata": {},
   "outputs": [
    {
     "data": {
      "text/plain": [
       "Index(['Away Team Goals', 'Away Team Name', 'Home Team Goals',\n",
       "       'Home Team Name', 'home_rank', 'home_total_points',\n",
       "       'home_previous_points', 'home_rank_change', 'home_cur_year_avg',\n",
       "       'home_cur_year_avg_weighted', 'home_last_year_avg',\n",
       "       'home_last_year_avg_weighted', 'home_two_year_ago_avg',\n",
       "       'home_two_year_ago_weighted', 'home_three_year_ago_avg',\n",
       "       'home_three_year_ago_weighted', 'away_rank', 'away_total_points',\n",
       "       'away_previous_points', 'away_rank_change', 'away_cur_year_avg',\n",
       "       'away_cur_year_avg_weighted', 'away_last_year_avg',\n",
       "       'away_last_year_avg_weighted', 'away_two_year_ago_avg',\n",
       "       'away_two_year_ago_weighted', 'away_three_year_ago_avg',\n",
       "       'away_three_year_ago_weighted', 'winning_team', 'RankDiff'],\n",
       "      dtype='object')"
      ]
     },
     "execution_count": 7,
     "metadata": {},
     "output_type": "execute_result"
    }
   ],
   "source": [
    "df.columns"
   ]
  },
  {
   "cell_type": "code",
   "execution_count": 8,
   "metadata": {},
   "outputs": [],
   "source": [
    "#label encoder / getDummies\n",
    "from sklearn.preprocessing import LabelEncoder\n"
   ]
  },
  {
   "cell_type": "code",
   "execution_count": 9,
   "metadata": {},
   "outputs": [],
   "source": [
    "word_cup_teams = [\n",
    "    \"Egypt\",\n",
    "    \"Morocco\",\n",
    "    \"Nigeria\",\n",
    "    \"Senegal\",\n",
    "    \"Tunisia\",\n",
    "    \"Australia\",\n",
    "    \"IR Iran\",\n",
    "    \"Japan\",\n",
    "    \"Korea DPR\",\n",
    "    \"Saudi Arabia\",\n",
    "    \"Belgium\",\n",
    "    \"Croatia\",\n",
    "    \"Denmark\",\n",
    "    \"England\",\n",
    "    \"France\",\n",
    "    \"Germany\",\n",
    "    \"Iceland\",\n",
    "    \"Poland\",\n",
    "    \"Portugal\",\n",
    "    \"Russia\",\n",
    "    \"Serbia\",\n",
    "    \"Spain\",\n",
    "    \"Sweden\",\n",
    "    \"Switzerland\",\n",
    "    \"Costa Rica\",\n",
    "    \"Mexico\",\n",
    "    \"Panama\",\n",
    "    \"Argentina\",\n",
    "    \"Brazil\",\n",
    "    \"Colombia\",\n",
    "    \"Peru\",\n",
    "    \"Uruguay\"\n",
    "]\n",
    "\n",
    "team_names = list(df[\"Home Team Name\"].unique()) + list(df[\"Away Team Name\"].unique()) + word_cup_teams\n"
   ]
  },
  {
   "cell_type": "code",
   "execution_count": 10,
   "metadata": {},
   "outputs": [],
   "source": [
    "team_name_encoder = LabelEncoder().fit(team_names)"
   ]
  },
  {
   "cell_type": "code",
   "execution_count": 11,
   "metadata": {},
   "outputs": [],
   "source": [
    "X = df.drop(['Away Team Goals', 'Home Team Goals', 'home_rank', 'away_rank'], axis=1)"
   ]
  },
  {
   "cell_type": "code",
   "execution_count": 12,
   "metadata": {},
   "outputs": [
    {
     "data": {
      "text/plain": [
       "Index(['Away Team Name', 'Home Team Name', 'home_total_points',\n",
       "       'home_previous_points', 'home_rank_change', 'home_cur_year_avg',\n",
       "       'home_cur_year_avg_weighted', 'home_last_year_avg',\n",
       "       'home_last_year_avg_weighted', 'home_two_year_ago_avg',\n",
       "       'home_two_year_ago_weighted', 'home_three_year_ago_avg',\n",
       "       'home_three_year_ago_weighted', 'away_total_points',\n",
       "       'away_previous_points', 'away_rank_change', 'away_cur_year_avg',\n",
       "       'away_cur_year_avg_weighted', 'away_last_year_avg',\n",
       "       'away_last_year_avg_weighted', 'away_two_year_ago_avg',\n",
       "       'away_two_year_ago_weighted', 'away_three_year_ago_avg',\n",
       "       'away_three_year_ago_weighted', 'winning_team', 'RankDiff'],\n",
       "      dtype='object')"
      ]
     },
     "execution_count": 12,
     "metadata": {},
     "output_type": "execute_result"
    }
   ],
   "source": [
    "X.columns"
   ]
  },
  {
   "cell_type": "code",
   "execution_count": 13,
   "metadata": {},
   "outputs": [],
   "source": [
    "y = df['winning_team']"
   ]
  },
  {
   "cell_type": "code",
   "execution_count": 14,
   "metadata": {},
   "outputs": [],
   "source": [
    "X[\"Home Team Name\"] = team_name_encoder.transform(X[\"Home Team Name\"])\n",
    "X[\"Away Team Name\"] = team_name_encoder.transform(X[\"Away Team Name\"])"
   ]
  },
  {
   "cell_type": "code",
   "execution_count": 21,
   "metadata": {},
   "outputs": [
    {
     "data": {
      "text/html": [
       "<div>\n",
       "<style>\n",
       "    .dataframe thead tr:only-child th {\n",
       "        text-align: right;\n",
       "    }\n",
       "\n",
       "    .dataframe thead th {\n",
       "        text-align: left;\n",
       "    }\n",
       "\n",
       "    .dataframe tbody tr th {\n",
       "        vertical-align: top;\n",
       "    }\n",
       "</style>\n",
       "<table border=\"1\" class=\"dataframe\">\n",
       "  <thead>\n",
       "    <tr style=\"text-align: right;\">\n",
       "      <th></th>\n",
       "      <th>Away Team Name</th>\n",
       "      <th>Home Team Name</th>\n",
       "      <th>home_total_points</th>\n",
       "      <th>home_previous_points</th>\n",
       "      <th>home_rank_change</th>\n",
       "      <th>home_cur_year_avg</th>\n",
       "      <th>home_cur_year_avg_weighted</th>\n",
       "      <th>home_last_year_avg</th>\n",
       "      <th>home_last_year_avg_weighted</th>\n",
       "      <th>home_two_year_ago_avg</th>\n",
       "      <th>...</th>\n",
       "      <th>away_cur_year_avg</th>\n",
       "      <th>away_cur_year_avg_weighted</th>\n",
       "      <th>away_last_year_avg</th>\n",
       "      <th>away_last_year_avg_weighted</th>\n",
       "      <th>away_two_year_ago_avg</th>\n",
       "      <th>away_two_year_ago_weighted</th>\n",
       "      <th>away_three_year_ago_avg</th>\n",
       "      <th>away_three_year_ago_weighted</th>\n",
       "      <th>winning_team</th>\n",
       "      <th>RankDiff</th>\n",
       "    </tr>\n",
       "  </thead>\n",
       "  <tbody>\n",
       "    <tr>\n",
       "      <th>1371</th>\n",
       "      <td>20</td>\n",
       "      <td>7</td>\n",
       "      <td>1098.82</td>\n",
       "      <td>1099</td>\n",
       "      <td>0</td>\n",
       "      <td>784.52</td>\n",
       "      <td>784.52</td>\n",
       "      <td>289.97</td>\n",
       "      <td>144.99</td>\n",
       "      <td>310.70</td>\n",
       "      <td>...</td>\n",
       "      <td>369.95</td>\n",
       "      <td>369.95</td>\n",
       "      <td>290.38</td>\n",
       "      <td>145.19</td>\n",
       "      <td>277.41</td>\n",
       "      <td>83.22</td>\n",
       "      <td>189.81</td>\n",
       "      <td>37.96</td>\n",
       "      <td>2</td>\n",
       "      <td>-41</td>\n",
       "    </tr>\n",
       "    <tr>\n",
       "      <th>1372</th>\n",
       "      <td>29</td>\n",
       "      <td>7</td>\n",
       "      <td>1098.82</td>\n",
       "      <td>1099</td>\n",
       "      <td>0</td>\n",
       "      <td>784.52</td>\n",
       "      <td>784.52</td>\n",
       "      <td>289.97</td>\n",
       "      <td>144.99</td>\n",
       "      <td>310.70</td>\n",
       "      <td>...</td>\n",
       "      <td>659.74</td>\n",
       "      <td>659.74</td>\n",
       "      <td>302.57</td>\n",
       "      <td>151.28</td>\n",
       "      <td>462.48</td>\n",
       "      <td>138.74</td>\n",
       "      <td>253.40</td>\n",
       "      <td>50.68</td>\n",
       "      <td>0</td>\n",
       "      <td>-6</td>\n",
       "    </tr>\n",
       "    <tr>\n",
       "      <th>1373</th>\n",
       "      <td>7</td>\n",
       "      <td>29</td>\n",
       "      <td>1000.44</td>\n",
       "      <td>998</td>\n",
       "      <td>0</td>\n",
       "      <td>659.74</td>\n",
       "      <td>659.74</td>\n",
       "      <td>302.57</td>\n",
       "      <td>151.28</td>\n",
       "      <td>462.48</td>\n",
       "      <td>...</td>\n",
       "      <td>784.52</td>\n",
       "      <td>784.52</td>\n",
       "      <td>289.97</td>\n",
       "      <td>144.99</td>\n",
       "      <td>310.70</td>\n",
       "      <td>93.21</td>\n",
       "      <td>380.53</td>\n",
       "      <td>76.11</td>\n",
       "      <td>1</td>\n",
       "      <td>6</td>\n",
       "    </tr>\n",
       "    <tr>\n",
       "      <th>1374</th>\n",
       "      <td>25</td>\n",
       "      <td>2</td>\n",
       "      <td>1325.29</td>\n",
       "      <td>1325</td>\n",
       "      <td>0</td>\n",
       "      <td>626.00</td>\n",
       "      <td>626.00</td>\n",
       "      <td>600.01</td>\n",
       "      <td>300.00</td>\n",
       "      <td>764.94</td>\n",
       "      <td>...</td>\n",
       "      <td>219.26</td>\n",
       "      <td>219.26</td>\n",
       "      <td>324.72</td>\n",
       "      <td>162.36</td>\n",
       "      <td>384.56</td>\n",
       "      <td>115.37</td>\n",
       "      <td>122.58</td>\n",
       "      <td>24.52</td>\n",
       "      <td>2</td>\n",
       "      <td>-60</td>\n",
       "    </tr>\n",
       "    <tr>\n",
       "      <th>1375</th>\n",
       "      <td>23</td>\n",
       "      <td>2</td>\n",
       "      <td>1325.29</td>\n",
       "      <td>1325</td>\n",
       "      <td>0</td>\n",
       "      <td>626.00</td>\n",
       "      <td>626.00</td>\n",
       "      <td>600.01</td>\n",
       "      <td>300.00</td>\n",
       "      <td>764.94</td>\n",
       "      <td>...</td>\n",
       "      <td>744.16</td>\n",
       "      <td>744.16</td>\n",
       "      <td>617.85</td>\n",
       "      <td>308.92</td>\n",
       "      <td>635.88</td>\n",
       "      <td>190.76</td>\n",
       "      <td>570.26</td>\n",
       "      <td>114.05</td>\n",
       "      <td>1</td>\n",
       "      <td>2</td>\n",
       "    </tr>\n",
       "  </tbody>\n",
       "</table>\n",
       "<p>5 rows × 26 columns</p>\n",
       "</div>"
      ],
      "text/plain": [
       "      Away Team Name  Home Team Name  home_total_points  home_previous_points  \\\n",
       "1371              20               7            1098.82                  1099   \n",
       "1372              29               7            1098.82                  1099   \n",
       "1373               7              29            1000.44                   998   \n",
       "1374              25               2            1325.29                  1325   \n",
       "1375              23               2            1325.29                  1325   \n",
       "\n",
       "      home_rank_change  home_cur_year_avg  home_cur_year_avg_weighted  \\\n",
       "1371                 0             784.52                      784.52   \n",
       "1372                 0             784.52                      784.52   \n",
       "1373                 0             659.74                      659.74   \n",
       "1374                 0             626.00                      626.00   \n",
       "1375                 0             626.00                      626.00   \n",
       "\n",
       "      home_last_year_avg  home_last_year_avg_weighted  home_two_year_ago_avg  \\\n",
       "1371              289.97                       144.99                 310.70   \n",
       "1372              289.97                       144.99                 310.70   \n",
       "1373              302.57                       151.28                 462.48   \n",
       "1374              600.01                       300.00                 764.94   \n",
       "1375              600.01                       300.00                 764.94   \n",
       "\n",
       "        ...     away_cur_year_avg  away_cur_year_avg_weighted  \\\n",
       "1371    ...                369.95                      369.95   \n",
       "1372    ...                659.74                      659.74   \n",
       "1373    ...                784.52                      784.52   \n",
       "1374    ...                219.26                      219.26   \n",
       "1375    ...                744.16                      744.16   \n",
       "\n",
       "      away_last_year_avg  away_last_year_avg_weighted  away_two_year_ago_avg  \\\n",
       "1371              290.38                       145.19                 277.41   \n",
       "1372              302.57                       151.28                 462.48   \n",
       "1373              289.97                       144.99                 310.70   \n",
       "1374              324.72                       162.36                 384.56   \n",
       "1375              617.85                       308.92                 635.88   \n",
       "\n",
       "      away_two_year_ago_weighted  away_three_year_ago_avg  \\\n",
       "1371                       83.22                   189.81   \n",
       "1372                      138.74                   253.40   \n",
       "1373                       93.21                   380.53   \n",
       "1374                      115.37                   122.58   \n",
       "1375                      190.76                   570.26   \n",
       "\n",
       "      away_three_year_ago_weighted  winning_team  RankDiff  \n",
       "1371                         37.96             2       -41  \n",
       "1372                         50.68             0        -6  \n",
       "1373                         76.11             1         6  \n",
       "1374                         24.52             2       -60  \n",
       "1375                        114.05             1         2  \n",
       "\n",
       "[5 rows x 26 columns]"
      ]
     },
     "execution_count": 21,
     "metadata": {},
     "output_type": "execute_result"
    }
   ],
   "source": [
    "X.tail()"
   ]
  },
  {
   "cell_type": "code",
   "execution_count": 15,
   "metadata": {},
   "outputs": [],
   "source": [
    "from sklearn.model_selection import train_test_split"
   ]
  },
  {
   "cell_type": "code",
   "execution_count": 16,
   "metadata": {},
   "outputs": [],
   "source": [
    "X_train, X_test, y_train, y_test = train_test_split(X, y, test_size=0.3, random_state=42)"
   ]
  },
  {
   "cell_type": "code",
   "execution_count": 17,
   "metadata": {},
   "outputs": [],
   "source": [
    "from sklearn.linear_model import LogisticRegression"
   ]
  },
  {
   "cell_type": "code",
   "execution_count": 18,
   "metadata": {},
   "outputs": [],
   "source": [
    "logreg = LogisticRegression()"
   ]
  },
  {
   "cell_type": "code",
   "execution_count": 19,
   "metadata": {},
   "outputs": [
    {
     "ename": "ValueError",
     "evalue": "Unknown label type: 'unknown'",
     "output_type": "error",
     "traceback": [
      "\u001b[0;31m---------------------------------------------------------------------------\u001b[0m",
      "\u001b[0;31mValueError\u001b[0m                                Traceback (most recent call last)",
      "\u001b[0;32m<ipython-input-19-7919e926107f>\u001b[0m in \u001b[0;36m<module>\u001b[0;34m()\u001b[0m\n\u001b[0;32m----> 1\u001b[0;31m \u001b[0mlogreg\u001b[0m\u001b[0;34m.\u001b[0m\u001b[0mfit\u001b[0m\u001b[0;34m(\u001b[0m\u001b[0mX_train\u001b[0m\u001b[0;34m,\u001b[0m \u001b[0my_train\u001b[0m\u001b[0;34m)\u001b[0m\u001b[0;34m\u001b[0m\u001b[0m\n\u001b[0m",
      "\u001b[0;32m~/anaconda3/lib/python3.6/site-packages/sklearn/linear_model/logistic.py\u001b[0m in \u001b[0;36mfit\u001b[0;34m(self, X, y, sample_weight)\u001b[0m\n\u001b[1;32m   1215\u001b[0m         X, y = check_X_y(X, y, accept_sparse='csr', dtype=_dtype,\n\u001b[1;32m   1216\u001b[0m                          order=\"C\")\n\u001b[0;32m-> 1217\u001b[0;31m         \u001b[0mcheck_classification_targets\u001b[0m\u001b[0;34m(\u001b[0m\u001b[0my\u001b[0m\u001b[0;34m)\u001b[0m\u001b[0;34m\u001b[0m\u001b[0m\n\u001b[0m\u001b[1;32m   1218\u001b[0m         \u001b[0mself\u001b[0m\u001b[0;34m.\u001b[0m\u001b[0mclasses_\u001b[0m \u001b[0;34m=\u001b[0m \u001b[0mnp\u001b[0m\u001b[0;34m.\u001b[0m\u001b[0munique\u001b[0m\u001b[0;34m(\u001b[0m\u001b[0my\u001b[0m\u001b[0;34m)\u001b[0m\u001b[0;34m\u001b[0m\u001b[0m\n\u001b[1;32m   1219\u001b[0m         \u001b[0mn_samples\u001b[0m\u001b[0;34m,\u001b[0m \u001b[0mn_features\u001b[0m \u001b[0;34m=\u001b[0m \u001b[0mX\u001b[0m\u001b[0;34m.\u001b[0m\u001b[0mshape\u001b[0m\u001b[0;34m\u001b[0m\u001b[0m\n",
      "\u001b[0;32m~/anaconda3/lib/python3.6/site-packages/sklearn/utils/multiclass.py\u001b[0m in \u001b[0;36mcheck_classification_targets\u001b[0;34m(y)\u001b[0m\n\u001b[1;32m    170\u001b[0m     if y_type not in ['binary', 'multiclass', 'multiclass-multioutput',\n\u001b[1;32m    171\u001b[0m                       'multilabel-indicator', 'multilabel-sequences']:\n\u001b[0;32m--> 172\u001b[0;31m         \u001b[0;32mraise\u001b[0m \u001b[0mValueError\u001b[0m\u001b[0;34m(\u001b[0m\u001b[0;34m\"Unknown label type: %r\"\u001b[0m \u001b[0;34m%\u001b[0m \u001b[0my_type\u001b[0m\u001b[0;34m)\u001b[0m\u001b[0;34m\u001b[0m\u001b[0m\n\u001b[0m\u001b[1;32m    173\u001b[0m \u001b[0;34m\u001b[0m\u001b[0m\n\u001b[1;32m    174\u001b[0m \u001b[0;34m\u001b[0m\u001b[0m\n",
      "\u001b[0;31mValueError\u001b[0m: Unknown label type: 'unknown'"
     ]
    }
   ],
   "source": [
    "logreg.fit(X_train, y_train)"
   ]
  },
  {
   "cell_type": "code",
   "execution_count": 66,
   "metadata": {},
   "outputs": [],
   "source": [
    "pred = logreg.predict(X_test)"
   ]
  },
  {
   "cell_type": "code",
   "execution_count": 67,
   "metadata": {},
   "outputs": [],
   "source": [
    "from sklearn.metrics import classification_report"
   ]
  },
  {
   "cell_type": "code",
   "execution_count": 68,
   "metadata": {},
   "outputs": [
    {
     "name": "stdout",
     "output_type": "stream",
     "text": [
      "             precision    recall  f1-score   support\n",
      "\n",
      "          0       1.00      1.00      1.00       140\n",
      "          1       1.00      0.99      0.99        97\n",
      "          2       0.99      1.00      1.00       176\n",
      "\n",
      "avg / total       1.00      1.00      1.00       413\n",
      "\n"
     ]
    }
   ],
   "source": [
    "print(classification_report(y_test, pred))"
   ]
  },
  {
   "cell_type": "code",
   "execution_count": null,
   "metadata": {},
   "outputs": [],
   "source": []
  },
  {
   "cell_type": "code",
   "execution_count": 22,
   "metadata": {},
   "outputs": [
    {
     "data": {
      "text/plain": [
       "(1376, 26)"
      ]
     },
     "execution_count": 22,
     "metadata": {},
     "output_type": "execute_result"
    }
   ],
   "source": [
    "X.shape"
   ]
  },
  {
   "cell_type": "code",
   "execution_count": 23,
   "metadata": {},
   "outputs": [
    {
     "data": {
      "text/plain": [
       "(1376,)"
      ]
     },
     "execution_count": 23,
     "metadata": {},
     "output_type": "execute_result"
    }
   ],
   "source": [
    "y.shape"
   ]
  },
  {
   "cell_type": "code",
   "execution_count": 24,
   "metadata": {},
   "outputs": [],
   "source": [
    "X_train = X.iloc[:1001,:]"
   ]
  },
  {
   "cell_type": "code",
   "execution_count": 25,
   "metadata": {},
   "outputs": [],
   "source": [
    "X_test = X.iloc[1001:,:]"
   ]
  },
  {
   "cell_type": "code",
   "execution_count": 26,
   "metadata": {},
   "outputs": [],
   "source": [
    "y_train = y.iloc[:1001]"
   ]
  },
  {
   "cell_type": "code",
   "execution_count": 27,
   "metadata": {},
   "outputs": [],
   "source": [
    "y_test = y.iloc[1001:]"
   ]
  },
  {
   "cell_type": "code",
   "execution_count": null,
   "metadata": {},
   "outputs": [],
   "source": []
  },
  {
   "cell_type": "code",
   "execution_count": 28,
   "metadata": {},
   "outputs": [],
   "source": [
    "logreg2 = LogisticRegression()"
   ]
  },
  {
   "cell_type": "code",
   "execution_count": 29,
   "metadata": {},
   "outputs": [
    {
     "ename": "ValueError",
     "evalue": "Unknown label type: 'unknown'",
     "output_type": "error",
     "traceback": [
      "\u001b[0;31m---------------------------------------------------------------------------\u001b[0m",
      "\u001b[0;31mValueError\u001b[0m                                Traceback (most recent call last)",
      "\u001b[0;32m<ipython-input-29-b69ade35d9be>\u001b[0m in \u001b[0;36m<module>\u001b[0;34m()\u001b[0m\n\u001b[0;32m----> 1\u001b[0;31m \u001b[0mlogreg2\u001b[0m\u001b[0;34m.\u001b[0m\u001b[0mfit\u001b[0m\u001b[0;34m(\u001b[0m\u001b[0mX_train\u001b[0m\u001b[0;34m,\u001b[0m \u001b[0my_train\u001b[0m\u001b[0;34m)\u001b[0m\u001b[0;34m\u001b[0m\u001b[0m\n\u001b[0m",
      "\u001b[0;32m~/anaconda3/lib/python3.6/site-packages/sklearn/linear_model/logistic.py\u001b[0m in \u001b[0;36mfit\u001b[0;34m(self, X, y, sample_weight)\u001b[0m\n\u001b[1;32m   1215\u001b[0m         X, y = check_X_y(X, y, accept_sparse='csr', dtype=_dtype,\n\u001b[1;32m   1216\u001b[0m                          order=\"C\")\n\u001b[0;32m-> 1217\u001b[0;31m         \u001b[0mcheck_classification_targets\u001b[0m\u001b[0;34m(\u001b[0m\u001b[0my\u001b[0m\u001b[0;34m)\u001b[0m\u001b[0;34m\u001b[0m\u001b[0m\n\u001b[0m\u001b[1;32m   1218\u001b[0m         \u001b[0mself\u001b[0m\u001b[0;34m.\u001b[0m\u001b[0mclasses_\u001b[0m \u001b[0;34m=\u001b[0m \u001b[0mnp\u001b[0m\u001b[0;34m.\u001b[0m\u001b[0munique\u001b[0m\u001b[0;34m(\u001b[0m\u001b[0my\u001b[0m\u001b[0;34m)\u001b[0m\u001b[0;34m\u001b[0m\u001b[0m\n\u001b[1;32m   1219\u001b[0m         \u001b[0mn_samples\u001b[0m\u001b[0;34m,\u001b[0m \u001b[0mn_features\u001b[0m \u001b[0;34m=\u001b[0m \u001b[0mX\u001b[0m\u001b[0;34m.\u001b[0m\u001b[0mshape\u001b[0m\u001b[0;34m\u001b[0m\u001b[0m\n",
      "\u001b[0;32m~/anaconda3/lib/python3.6/site-packages/sklearn/utils/multiclass.py\u001b[0m in \u001b[0;36mcheck_classification_targets\u001b[0;34m(y)\u001b[0m\n\u001b[1;32m    170\u001b[0m     if y_type not in ['binary', 'multiclass', 'multiclass-multioutput',\n\u001b[1;32m    171\u001b[0m                       'multilabel-indicator', 'multilabel-sequences']:\n\u001b[0;32m--> 172\u001b[0;31m         \u001b[0;32mraise\u001b[0m \u001b[0mValueError\u001b[0m\u001b[0;34m(\u001b[0m\u001b[0;34m\"Unknown label type: %r\"\u001b[0m \u001b[0;34m%\u001b[0m \u001b[0my_type\u001b[0m\u001b[0;34m)\u001b[0m\u001b[0;34m\u001b[0m\u001b[0m\n\u001b[0m\u001b[1;32m    173\u001b[0m \u001b[0;34m\u001b[0m\u001b[0m\n\u001b[1;32m    174\u001b[0m \u001b[0;34m\u001b[0m\u001b[0m\n",
      "\u001b[0;31mValueError\u001b[0m: Unknown label type: 'unknown'"
     ]
    }
   ],
   "source": [
    "logreg2.fit(X_train, y_train)"
   ]
  },
  {
   "cell_type": "code",
   "execution_count": 225,
   "metadata": {},
   "outputs": [
    {
     "ename": "NotFittedError",
     "evalue": "This LogisticRegression instance is not fitted yet",
     "output_type": "error",
     "traceback": [
      "\u001b[0;31m---------------------------------------------------------------------------\u001b[0m",
      "\u001b[0;31mNotFittedError\u001b[0m                            Traceback (most recent call last)",
      "\u001b[0;32m<ipython-input-225-536e9fcf93ff>\u001b[0m in \u001b[0;36m<module>\u001b[0;34m()\u001b[0m\n\u001b[0;32m----> 1\u001b[0;31m \u001b[0mpred2\u001b[0m \u001b[0;34m=\u001b[0m \u001b[0mlogreg2\u001b[0m\u001b[0;34m.\u001b[0m\u001b[0mpredict\u001b[0m\u001b[0;34m(\u001b[0m\u001b[0mX_test\u001b[0m\u001b[0;34m)\u001b[0m\u001b[0;34m\u001b[0m\u001b[0m\n\u001b[0m",
      "\u001b[0;32m~/anaconda3/lib/python3.6/site-packages/sklearn/linear_model/base.py\u001b[0m in \u001b[0;36mpredict\u001b[0;34m(self, X)\u001b[0m\n\u001b[1;32m    322\u001b[0m             \u001b[0mPredicted\u001b[0m \u001b[0;32mclass\u001b[0m \u001b[0mlabel\u001b[0m \u001b[0mper\u001b[0m \u001b[0msample\u001b[0m\u001b[0;34m.\u001b[0m\u001b[0;34m\u001b[0m\u001b[0m\n\u001b[1;32m    323\u001b[0m         \"\"\"\n\u001b[0;32m--> 324\u001b[0;31m         \u001b[0mscores\u001b[0m \u001b[0;34m=\u001b[0m \u001b[0mself\u001b[0m\u001b[0;34m.\u001b[0m\u001b[0mdecision_function\u001b[0m\u001b[0;34m(\u001b[0m\u001b[0mX\u001b[0m\u001b[0;34m)\u001b[0m\u001b[0;34m\u001b[0m\u001b[0m\n\u001b[0m\u001b[1;32m    325\u001b[0m         \u001b[0;32mif\u001b[0m \u001b[0mlen\u001b[0m\u001b[0;34m(\u001b[0m\u001b[0mscores\u001b[0m\u001b[0;34m.\u001b[0m\u001b[0mshape\u001b[0m\u001b[0;34m)\u001b[0m \u001b[0;34m==\u001b[0m \u001b[0;36m1\u001b[0m\u001b[0;34m:\u001b[0m\u001b[0;34m\u001b[0m\u001b[0m\n\u001b[1;32m    326\u001b[0m             \u001b[0mindices\u001b[0m \u001b[0;34m=\u001b[0m \u001b[0;34m(\u001b[0m\u001b[0mscores\u001b[0m \u001b[0;34m>\u001b[0m \u001b[0;36m0\u001b[0m\u001b[0;34m)\u001b[0m\u001b[0;34m.\u001b[0m\u001b[0mastype\u001b[0m\u001b[0;34m(\u001b[0m\u001b[0mnp\u001b[0m\u001b[0;34m.\u001b[0m\u001b[0mint\u001b[0m\u001b[0;34m)\u001b[0m\u001b[0;34m\u001b[0m\u001b[0m\n",
      "\u001b[0;32m~/anaconda3/lib/python3.6/site-packages/sklearn/linear_model/base.py\u001b[0m in \u001b[0;36mdecision_function\u001b[0;34m(self, X)\u001b[0m\n\u001b[1;32m    296\u001b[0m         \u001b[0;32mif\u001b[0m \u001b[0;32mnot\u001b[0m \u001b[0mhasattr\u001b[0m\u001b[0;34m(\u001b[0m\u001b[0mself\u001b[0m\u001b[0;34m,\u001b[0m \u001b[0;34m'coef_'\u001b[0m\u001b[0;34m)\u001b[0m \u001b[0;32mor\u001b[0m \u001b[0mself\u001b[0m\u001b[0;34m.\u001b[0m\u001b[0mcoef_\u001b[0m \u001b[0;32mis\u001b[0m \u001b[0;32mNone\u001b[0m\u001b[0;34m:\u001b[0m\u001b[0;34m\u001b[0m\u001b[0m\n\u001b[1;32m    297\u001b[0m             raise NotFittedError(\"This %(name)s instance is not fitted \"\n\u001b[0;32m--> 298\u001b[0;31m                                  \"yet\" % {'name': type(self).__name__})\n\u001b[0m\u001b[1;32m    299\u001b[0m \u001b[0;34m\u001b[0m\u001b[0m\n\u001b[1;32m    300\u001b[0m         \u001b[0mX\u001b[0m \u001b[0;34m=\u001b[0m \u001b[0mcheck_array\u001b[0m\u001b[0;34m(\u001b[0m\u001b[0mX\u001b[0m\u001b[0;34m,\u001b[0m \u001b[0maccept_sparse\u001b[0m\u001b[0;34m=\u001b[0m\u001b[0;34m'csr'\u001b[0m\u001b[0;34m)\u001b[0m\u001b[0;34m\u001b[0m\u001b[0m\n",
      "\u001b[0;31mNotFittedError\u001b[0m: This LogisticRegression instance is not fitted yet"
     ]
    }
   ],
   "source": [
    "pred2 = logreg2.predict(X_test)"
   ]
  },
  {
   "cell_type": "code",
   "execution_count": null,
   "metadata": {},
   "outputs": [],
   "source": []
  },
  {
   "cell_type": "code",
   "execution_count": 91,
   "metadata": {},
   "outputs": [],
   "source": [
    "from sklearn.metrics import classification_report"
   ]
  },
  {
   "cell_type": "code",
   "execution_count": 92,
   "metadata": {},
   "outputs": [
    {
     "name": "stdout",
     "output_type": "stream",
     "text": [
      "             precision    recall  f1-score   support\n",
      "\n",
      "          0       0.89      0.97      0.93       107\n",
      "          1       0.92      0.68      0.78        87\n",
      "          2       0.92      0.99      0.95       181\n",
      "\n",
      "avg / total       0.91      0.91      0.91       375\n",
      "\n"
     ]
    }
   ],
   "source": [
    "print(classification_report(y_test, pred2))"
   ]
  },
  {
   "cell_type": "code",
   "execution_count": 30,
   "metadata": {},
   "outputs": [],
   "source": [
    "fifa_ranking = pd.read_csv('fifa_rank_over_time.csv')"
   ]
  },
  {
   "cell_type": "code",
   "execution_count": 6,
   "metadata": {},
   "outputs": [],
   "source": [
    "fifarank18 = fifarank.iloc[57371:].drop(['country_abrv', 'confederation', 'rank_date'], axis=1).reset_index()"
   ]
  },
  {
   "cell_type": "code",
   "execution_count": 188,
   "metadata": {},
   "outputs": [],
   "source": [
    "def pred_match(team1, team2):\n",
    "    # need to load this file from db\n",
    "    # fifa_ranking = pd.read_csv('fifa_rank_over_time.csv')\n",
    "    # fifarank18 = fifarank.iloc[57371:].drop(['country_abrv', 'confederation', 'rank_date'], axis=1).reset_index()\n",
    "    \n",
    "    home_team_rank = fifarank18.loc[fifarank18.country_full == team1].drop('index', axis=1)\n",
    "    away_team_rank = fifarank18.loc[fifarank18.country_full == team2].drop('index', axis=1)\n",
    "    \n",
    "    home_team_rank.reset_index(drop=True,inplace=True)\n",
    "    away_team_rank.reset_index(drop=True,inplace=True)\n",
    "    \n",
    "    match_pred = home_team_rank.join(away_team_rank, lsuffix='_home', rsuffix='_away')\n",
    "    # add missing columns\n",
    "    match_pred['Away Team Name'] = team2\n",
    "    match_pred['Home Team Name'] = team1\n",
    "    match_pred['RankDiff'] = match_pred.rank_home - match_pred.rank_away\n",
    "    \n",
    "    # select only necessay columns\n",
    "    match_pred_2 = match_pred[['Away Team Name', 'Home Team Name', 'total_points_home','previous_points_home', 'rank_change_home', 'cur_year_avg_home',\n",
    "       'cur_year_avg_weighted_home', 'last_year_avg_home',\n",
    "       'last_year_avg_weighted_home', 'two_year_ago_avg_home',\n",
    "       'two_year_ago_weighted_home', 'three_year_ago_avg_home',\n",
    "       'three_year_ago_weighted_home','total_points_away', 'previous_points_away', 'rank_change_away',\n",
    "       'cur_year_avg_away', 'cur_year_avg_weighted_away', 'last_year_avg_away',\n",
    "       'last_year_avg_weighted_away', 'two_year_ago_avg_away',\n",
    "       'two_year_ago_weighted_away', 'three_year_ago_avg_away',\n",
    "       'three_year_ago_weighted_away','RankDiff']]\n",
    "    \n",
    "    # conform to train format\n",
    "    match_pred_2.columns = ['Away Team Name', 'Home Team Name', 'home_total_points',\n",
    "       'home_previous_points', 'home_rank_change', 'home_cur_year_avg',\n",
    "       'home_cur_year_avg_weighted', 'home_last_year_avg',\n",
    "       'home_last_year_avg_weighted', 'home_two_year_ago_avg',\n",
    "       'home_two_year_ago_weighted', 'home_three_year_ago_avg',\n",
    "       'home_three_year_ago_weighted', 'away_total_points',\n",
    "       'away_previous_points', 'away_rank_change', 'away_cur_year_avg',\n",
    "       'away_cur_year_avg_weighted', 'away_last_year_avg',\n",
    "       'away_last_year_avg_weighted', 'away_two_year_ago_avg',\n",
    "       'away_two_year_ago_weighted', 'away_three_year_ago_avg',\n",
    "       'away_three_year_ago_weighted', 'RankDiff']\n",
    "    \n",
    "    return match_pred_2 "
   ]
  },
  {
   "cell_type": "code",
   "execution_count": 145,
   "metadata": {},
   "outputs": [],
   "source": [
    "home_team_rank = fifarank18.loc[fifarank18.country_full == 'Russia'].drop('index', axis=1)"
   ]
  },
  {
   "cell_type": "code",
   "execution_count": 146,
   "metadata": {},
   "outputs": [],
   "source": [
    "away_team_rank = fifarank18.loc[fifarank18.country_full == 'Saudi Arabia'].drop('index', axis=1)"
   ]
  },
  {
   "cell_type": "code",
   "execution_count": 147,
   "metadata": {},
   "outputs": [],
   "source": [
    "home_team_rank.reset_index(drop=True,inplace=True)"
   ]
  },
  {
   "cell_type": "code",
   "execution_count": 148,
   "metadata": {},
   "outputs": [],
   "source": [
    "away_team_rank.reset_index(drop=True,inplace=True)"
   ]
  },
  {
   "cell_type": "code",
   "execution_count": 178,
   "metadata": {},
   "outputs": [],
   "source": [
    "match_pred = home_team_rank.join(away_team_rank, lsuffix='_home', rsuffix='_away')"
   ]
  },
  {
   "cell_type": "code",
   "execution_count": 179,
   "metadata": {},
   "outputs": [],
   "source": [
    "match_pred['Away Team Name'] = 'Saudi Arabia'"
   ]
  },
  {
   "cell_type": "code",
   "execution_count": 180,
   "metadata": {},
   "outputs": [],
   "source": [
    "match_pred['Home Team Name'] = 'Russia'"
   ]
  },
  {
   "cell_type": "code",
   "execution_count": 182,
   "metadata": {},
   "outputs": [],
   "source": [
    "match_pred['RankDiff'] = match_pred.rank_home - match_pred.rank_away"
   ]
  },
  {
   "cell_type": "code",
   "execution_count": 184,
   "metadata": {},
   "outputs": [],
   "source": [
    "match_pred_2 = match_pred[['Away Team Name', 'Home Team Name', 'total_points_home','previous_points_home', 'rank_change_home', 'cur_year_avg_home',\n",
    "       'cur_year_avg_weighted_home', 'last_year_avg_home',\n",
    "       'last_year_avg_weighted_home', 'two_year_ago_avg_home',\n",
    "       'two_year_ago_weighted_home', 'three_year_ago_avg_home',\n",
    "       'three_year_ago_weighted_home','total_points_away', 'previous_points_away', 'rank_change_away',\n",
    "       'cur_year_avg_away', 'cur_year_avg_weighted_away', 'last_year_avg_away',\n",
    "       'last_year_avg_weighted_away', 'two_year_ago_avg_away',\n",
    "       'two_year_ago_weighted_away', 'three_year_ago_avg_away',\n",
    "       'three_year_ago_weighted_away','RankDiff']]"
   ]
  },
  {
   "cell_type": "code",
   "execution_count": 186,
   "metadata": {},
   "outputs": [],
   "source": [
    "match_pred_2.columns = ['Away Team Name', 'Home Team Name', 'home_total_points',\n",
    "       'home_previous_points', 'home_rank_change', 'home_cur_year_avg',\n",
    "       'home_cur_year_avg_weighted', 'home_last_year_avg',\n",
    "       'home_last_year_avg_weighted', 'home_two_year_ago_avg',\n",
    "       'home_two_year_ago_weighted', 'home_three_year_ago_avg',\n",
    "       'home_three_year_ago_weighted', 'away_total_points',\n",
    "       'away_previous_points', 'away_rank_change', 'away_cur_year_avg',\n",
    "       'away_cur_year_avg_weighted', 'away_last_year_avg',\n",
    "       'away_last_year_avg_weighted', 'away_two_year_ago_avg',\n",
    "       'away_two_year_ago_weighted', 'away_three_year_ago_avg',\n",
    "       'away_three_year_ago_weighted', 'RankDiff']"
   ]
  },
  {
   "cell_type": "code",
   "execution_count": 187,
   "metadata": {},
   "outputs": [
    {
     "data": {
      "text/html": [
       "<div>\n",
       "<style>\n",
       "    .dataframe thead tr:only-child th {\n",
       "        text-align: right;\n",
       "    }\n",
       "\n",
       "    .dataframe thead th {\n",
       "        text-align: left;\n",
       "    }\n",
       "\n",
       "    .dataframe tbody tr th {\n",
       "        vertical-align: top;\n",
       "    }\n",
       "</style>\n",
       "<table border=\"1\" class=\"dataframe\">\n",
       "  <thead>\n",
       "    <tr style=\"text-align: right;\">\n",
       "      <th></th>\n",
       "      <th>Away Team Name</th>\n",
       "      <th>Home Team Name</th>\n",
       "      <th>home_total_points</th>\n",
       "      <th>home_previous_points</th>\n",
       "      <th>home_rank_change</th>\n",
       "      <th>home_cur_year_avg</th>\n",
       "      <th>home_cur_year_avg_weighted</th>\n",
       "      <th>home_last_year_avg</th>\n",
       "      <th>home_last_year_avg_weighted</th>\n",
       "      <th>home_two_year_ago_avg</th>\n",
       "      <th>...</th>\n",
       "      <th>away_rank_change</th>\n",
       "      <th>away_cur_year_avg</th>\n",
       "      <th>away_cur_year_avg_weighted</th>\n",
       "      <th>away_last_year_avg</th>\n",
       "      <th>away_last_year_avg_weighted</th>\n",
       "      <th>away_two_year_ago_avg</th>\n",
       "      <th>away_two_year_ago_weighted</th>\n",
       "      <th>away_three_year_ago_avg</th>\n",
       "      <th>away_three_year_ago_weighted</th>\n",
       "      <th>RankDiff</th>\n",
       "    </tr>\n",
       "  </thead>\n",
       "  <tbody>\n",
       "    <tr>\n",
       "      <th>0</th>\n",
       "      <td>Saudi Arabia</td>\n",
       "      <td>Russia</td>\n",
       "      <td>493.15</td>\n",
       "      <td>493</td>\n",
       "      <td>0</td>\n",
       "      <td>211.16</td>\n",
       "      <td>211.16</td>\n",
       "      <td>168.88</td>\n",
       "      <td>84.44</td>\n",
       "      <td>419.66</td>\n",
       "      <td>...</td>\n",
       "      <td>3</td>\n",
       "      <td>143.97</td>\n",
       "      <td>143.97</td>\n",
       "      <td>360.2</td>\n",
       "      <td>180.1</td>\n",
       "      <td>380.91</td>\n",
       "      <td>114.27</td>\n",
       "      <td>118.2</td>\n",
       "      <td>23.64</td>\n",
       "      <td>-1</td>\n",
       "    </tr>\n",
       "  </tbody>\n",
       "</table>\n",
       "<p>1 rows × 25 columns</p>\n",
       "</div>"
      ],
      "text/plain": [
       "  Away Team Name Home Team Name  home_total_points  home_previous_points  \\\n",
       "0   Saudi Arabia         Russia             493.15                   493   \n",
       "\n",
       "   home_rank_change  home_cur_year_avg  home_cur_year_avg_weighted  \\\n",
       "0                 0             211.16                      211.16   \n",
       "\n",
       "   home_last_year_avg  home_last_year_avg_weighted  home_two_year_ago_avg  \\\n",
       "0              168.88                        84.44                 419.66   \n",
       "\n",
       "     ...     away_rank_change  away_cur_year_avg  away_cur_year_avg_weighted  \\\n",
       "0    ...                    3             143.97                      143.97   \n",
       "\n",
       "   away_last_year_avg  away_last_year_avg_weighted  away_two_year_ago_avg  \\\n",
       "0               360.2                        180.1                 380.91   \n",
       "\n",
       "   away_two_year_ago_weighted  away_three_year_ago_avg  \\\n",
       "0                      114.27                    118.2   \n",
       "\n",
       "   away_three_year_ago_weighted  RankDiff  \n",
       "0                         23.64        -1  \n",
       "\n",
       "[1 rows x 25 columns]"
      ]
     },
     "execution_count": 187,
     "metadata": {},
     "output_type": "execute_result"
    }
   ],
   "source": [
    "match_pred_2"
   ]
  },
  {
   "cell_type": "code",
   "execution_count": 189,
   "metadata": {},
   "outputs": [],
   "source": [
    "test_mat = pred_match(\"Russia\", \"Saudi Arabia\")"
   ]
  },
  {
   "cell_type": "code",
   "execution_count": 190,
   "metadata": {},
   "outputs": [
    {
     "data": {
      "text/html": [
       "<div>\n",
       "<style>\n",
       "    .dataframe thead tr:only-child th {\n",
       "        text-align: right;\n",
       "    }\n",
       "\n",
       "    .dataframe thead th {\n",
       "        text-align: left;\n",
       "    }\n",
       "\n",
       "    .dataframe tbody tr th {\n",
       "        vertical-align: top;\n",
       "    }\n",
       "</style>\n",
       "<table border=\"1\" class=\"dataframe\">\n",
       "  <thead>\n",
       "    <tr style=\"text-align: right;\">\n",
       "      <th></th>\n",
       "      <th>Away Team Name</th>\n",
       "      <th>Home Team Name</th>\n",
       "      <th>home_total_points</th>\n",
       "      <th>home_previous_points</th>\n",
       "      <th>home_rank_change</th>\n",
       "      <th>home_cur_year_avg</th>\n",
       "      <th>home_cur_year_avg_weighted</th>\n",
       "      <th>home_last_year_avg</th>\n",
       "      <th>home_last_year_avg_weighted</th>\n",
       "      <th>home_two_year_ago_avg</th>\n",
       "      <th>...</th>\n",
       "      <th>away_rank_change</th>\n",
       "      <th>away_cur_year_avg</th>\n",
       "      <th>away_cur_year_avg_weighted</th>\n",
       "      <th>away_last_year_avg</th>\n",
       "      <th>away_last_year_avg_weighted</th>\n",
       "      <th>away_two_year_ago_avg</th>\n",
       "      <th>away_two_year_ago_weighted</th>\n",
       "      <th>away_three_year_ago_avg</th>\n",
       "      <th>away_three_year_ago_weighted</th>\n",
       "      <th>RankDiff</th>\n",
       "    </tr>\n",
       "  </thead>\n",
       "  <tbody>\n",
       "    <tr>\n",
       "      <th>0</th>\n",
       "      <td>Saudi Arabia</td>\n",
       "      <td>Russia</td>\n",
       "      <td>493.15</td>\n",
       "      <td>493</td>\n",
       "      <td>0</td>\n",
       "      <td>211.16</td>\n",
       "      <td>211.16</td>\n",
       "      <td>168.88</td>\n",
       "      <td>84.44</td>\n",
       "      <td>419.66</td>\n",
       "      <td>...</td>\n",
       "      <td>3</td>\n",
       "      <td>143.97</td>\n",
       "      <td>143.97</td>\n",
       "      <td>360.2</td>\n",
       "      <td>180.1</td>\n",
       "      <td>380.91</td>\n",
       "      <td>114.27</td>\n",
       "      <td>118.2</td>\n",
       "      <td>23.64</td>\n",
       "      <td>-1</td>\n",
       "    </tr>\n",
       "  </tbody>\n",
       "</table>\n",
       "<p>1 rows × 25 columns</p>\n",
       "</div>"
      ],
      "text/plain": [
       "  Away Team Name Home Team Name  home_total_points  home_previous_points  \\\n",
       "0   Saudi Arabia         Russia             493.15                   493   \n",
       "\n",
       "   home_rank_change  home_cur_year_avg  home_cur_year_avg_weighted  \\\n",
       "0                 0             211.16                      211.16   \n",
       "\n",
       "   home_last_year_avg  home_last_year_avg_weighted  home_two_year_ago_avg  \\\n",
       "0              168.88                        84.44                 419.66   \n",
       "\n",
       "     ...     away_rank_change  away_cur_year_avg  away_cur_year_avg_weighted  \\\n",
       "0    ...                    3             143.97                      143.97   \n",
       "\n",
       "   away_last_year_avg  away_last_year_avg_weighted  away_two_year_ago_avg  \\\n",
       "0               360.2                        180.1                 380.91   \n",
       "\n",
       "   away_two_year_ago_weighted  away_three_year_ago_avg  \\\n",
       "0                      114.27                    118.2   \n",
       "\n",
       "   away_three_year_ago_weighted  RankDiff  \n",
       "0                         23.64        -1  \n",
       "\n",
       "[1 rows x 25 columns]"
      ]
     },
     "execution_count": 190,
     "metadata": {},
     "output_type": "execute_result"
    }
   ],
   "source": [
    "test_mat"
   ]
  },
  {
   "cell_type": "code",
   "execution_count": 37,
   "metadata": {},
   "outputs": [
    {
     "data": {
      "text/plain": [
       "Index(['index', 'rank', 'country_full', 'total_points', 'previous_points',\n",
       "       'rank_change', 'cur_year_avg', 'cur_year_avg_weighted', 'last_year_avg',\n",
       "       'last_year_avg_weighted', 'two_year_ago_avg', 'two_year_ago_weighted',\n",
       "       'three_year_ago_avg', 'three_year_ago_weighted'],\n",
       "      dtype='object')"
      ]
     },
     "execution_count": 37,
     "metadata": {},
     "output_type": "execute_result"
    }
   ],
   "source": [
    "fifarank18.loc[fifarank18.country_full == 'Saudi Arabia'].columns"
   ]
  },
  {
   "cell_type": "code",
   "execution_count": 55,
   "metadata": {},
   "outputs": [],
   "source": [
    "columns = ['Away Team Name',\n",
    " 'Home Team Name',\n",
    " 'Year',\n",
    " 'home_rank',\n",
    " 'home_country',\n",
    " 'home_total_points',\n",
    " 'home_previous_points',\n",
    " 'home_rank_change',\n",
    " 'home_cur_year_avg',\n",
    " 'home_cur_year_avg_weighted',\n",
    " 'home_last_year_avg',\n",
    " 'home_last_year_avg_weighted',\n",
    " 'home_two_year_ago_avg',\n",
    " 'home_two_year_ago_weighted',\n",
    " 'home_three_year_ago_avg',\n",
    " 'home_three_year_ago_weighted',\n",
    " 'home_year',\n",
    " 'away_rank',\n",
    " 'away_country',\n",
    " 'away_total_points',\n",
    " 'away_previous_points',\n",
    " 'away_rank_change',\n",
    " 'away_cur_year_avg',\n",
    " 'away_cur_year_avg_weighted',\n",
    " 'away_last_year_avg',\n",
    " 'away_last_year_avg_weighted',\n",
    " 'away_two_year_ago_avg',\n",
    " 'away_two_year_ago_weighted',\n",
    " 'away_three_year_ago_avg',\n",
    " 'away_three_year_ago_weighted',\n",
    " 'away_year']"
   ]
  },
  {
   "cell_type": "code",
   "execution_count": 82,
   "metadata": {},
   "outputs": [],
   "source": [
    "data = pd.Series()"
   ]
  },
  {
   "cell_type": "code",
   "execution_count": 86,
   "metadata": {},
   "outputs": [],
   "source": [
    "data = home_team_rank"
   ]
  },
  {
   "cell_type": "code",
   "execution_count": 87,
   "metadata": {},
   "outputs": [
    {
     "data": {
      "text/plain": [
       "rank                           66\n",
       "country_full               Russia\n",
       "total_points               493.15\n",
       "previous_points               493\n",
       "rank_change                     0\n",
       "cur_year_avg               211.16\n",
       "cur_year_avg_weighted      211.16\n",
       "last_year_avg              168.88\n",
       "last_year_avg_weighted      84.44\n",
       "two_year_ago_avg           419.66\n",
       "two_year_ago_weighted       125.9\n",
       "three_year_ago_avg         358.27\n",
       "three_year_ago_weighted     71.65\n",
       "Name: 65, dtype: object"
      ]
     },
     "execution_count": 87,
     "metadata": {},
     "output_type": "execute_result"
    }
   ],
   "source": [
    "data"
   ]
  },
  {
   "cell_type": "code",
   "execution_count": 95,
   "metadata": {},
   "outputs": [],
   "source": [
    "data2 = data.append(away_team_rank)"
   ]
  },
  {
   "cell_type": "code",
   "execution_count": 99,
   "metadata": {},
   "outputs": [
    {
     "data": {
      "text/plain": [
       "rank                                 66\n",
       "country_full                     Russia\n",
       "total_points                     493.15\n",
       "previous_points                     493\n",
       "rank_change                           0\n",
       "cur_year_avg                     211.16\n",
       "cur_year_avg_weighted            211.16\n",
       "last_year_avg                    168.88\n",
       "last_year_avg_weighted            84.44\n",
       "two_year_ago_avg                 419.66\n",
       "two_year_ago_weighted             125.9\n",
       "three_year_ago_avg               358.27\n",
       "three_year_ago_weighted           71.65\n",
       "rank                                 67\n",
       "country_full               Saudi Arabia\n",
       "total_points                     461.99\n",
       "previous_points                     445\n",
       "rank_change                           3\n",
       "cur_year_avg                     143.97\n",
       "cur_year_avg_weighted            143.97\n",
       "last_year_avg                     360.2\n",
       "last_year_avg_weighted            180.1\n",
       "two_year_ago_avg                 380.91\n",
       "two_year_ago_weighted            114.27\n",
       "three_year_ago_avg                118.2\n",
       "three_year_ago_weighted           23.64\n",
       "dtype: object"
      ]
     },
     "execution_count": 99,
     "metadata": {},
     "output_type": "execute_result"
    }
   ],
   "source": [
    "data2.T"
   ]
  },
  {
   "cell_type": "code",
   "execution_count": 98,
   "metadata": {},
   "outputs": [
    {
     "ename": "ValueError",
     "evalue": "cannot reindex from a duplicate axis",
     "output_type": "error",
     "traceback": [
      "\u001b[0;31m---------------------------------------------------------------------------\u001b[0m",
      "\u001b[0;31mValueError\u001b[0m                                Traceback (most recent call last)",
      "\u001b[0;32m<ipython-input-98-a3f77a2b4e7d>\u001b[0m in \u001b[0;36m<module>\u001b[0;34m()\u001b[0m\n\u001b[0;32m----> 1\u001b[0;31m \u001b[0mpred_match\u001b[0m \u001b[0;34m=\u001b[0m \u001b[0mpd\u001b[0m\u001b[0;34m.\u001b[0m\u001b[0mDataFrame\u001b[0m\u001b[0;34m(\u001b[0m\u001b[0mdata2\u001b[0m\u001b[0;34m,\u001b[0m \u001b[0mindex\u001b[0m\u001b[0;34m=\u001b[0m\u001b[0mcolumns\u001b[0m\u001b[0;34m)\u001b[0m\u001b[0;34m\u001b[0m\u001b[0m\n\u001b[0m",
      "\u001b[0;32m~/anaconda3/lib/python3.6/site-packages/pandas/core/frame.py\u001b[0m in \u001b[0;36m__init__\u001b[0;34m(self, data, index, columns, dtype, copy)\u001b[0m\n\u001b[1;32m    304\u001b[0m             \u001b[0;32melse\u001b[0m\u001b[0;34m:\u001b[0m\u001b[0;34m\u001b[0m\u001b[0m\n\u001b[1;32m    305\u001b[0m                 mgr = self._init_ndarray(data, index, columns, dtype=dtype,\n\u001b[0;32m--> 306\u001b[0;31m                                          copy=copy)\n\u001b[0m\u001b[1;32m    307\u001b[0m         \u001b[0;32melif\u001b[0m \u001b[0misinstance\u001b[0m\u001b[0;34m(\u001b[0m\u001b[0mdata\u001b[0m\u001b[0;34m,\u001b[0m \u001b[0;34m(\u001b[0m\u001b[0mlist\u001b[0m\u001b[0;34m,\u001b[0m \u001b[0mtypes\u001b[0m\u001b[0;34m.\u001b[0m\u001b[0mGeneratorType\u001b[0m\u001b[0;34m)\u001b[0m\u001b[0;34m)\u001b[0m\u001b[0;34m:\u001b[0m\u001b[0;34m\u001b[0m\u001b[0m\n\u001b[1;32m    308\u001b[0m             \u001b[0;32mif\u001b[0m \u001b[0misinstance\u001b[0m\u001b[0;34m(\u001b[0m\u001b[0mdata\u001b[0m\u001b[0;34m,\u001b[0m \u001b[0mtypes\u001b[0m\u001b[0;34m.\u001b[0m\u001b[0mGeneratorType\u001b[0m\u001b[0;34m)\u001b[0m\u001b[0;34m:\u001b[0m\u001b[0;34m\u001b[0m\u001b[0m\n",
      "\u001b[0;32m~/anaconda3/lib/python3.6/site-packages/pandas/core/frame.py\u001b[0m in \u001b[0;36m_init_ndarray\u001b[0;34m(self, values, index, columns, dtype, copy)\u001b[0m\n\u001b[1;32m    421\u001b[0m                 \u001b[0mindex\u001b[0m \u001b[0;34m=\u001b[0m \u001b[0mvalues\u001b[0m\u001b[0;34m.\u001b[0m\u001b[0mindex\u001b[0m\u001b[0;34m\u001b[0m\u001b[0m\n\u001b[1;32m    422\u001b[0m             \u001b[0;32melse\u001b[0m\u001b[0;34m:\u001b[0m\u001b[0;34m\u001b[0m\u001b[0m\n\u001b[0;32m--> 423\u001b[0;31m                 \u001b[0mvalues\u001b[0m \u001b[0;34m=\u001b[0m \u001b[0mvalues\u001b[0m\u001b[0;34m.\u001b[0m\u001b[0mreindex\u001b[0m\u001b[0;34m(\u001b[0m\u001b[0mindex\u001b[0m\u001b[0;34m)\u001b[0m\u001b[0;34m\u001b[0m\u001b[0m\n\u001b[0m\u001b[1;32m    424\u001b[0m \u001b[0;34m\u001b[0m\u001b[0m\n\u001b[1;32m    425\u001b[0m             \u001b[0;31m# zero len case (GH #2234)\u001b[0m\u001b[0;34m\u001b[0m\u001b[0;34m\u001b[0m\u001b[0m\n",
      "\u001b[0;32m~/anaconda3/lib/python3.6/site-packages/pandas/core/series.py\u001b[0m in \u001b[0;36mreindex\u001b[0;34m(self, index, **kwargs)\u001b[0m\n\u001b[1;32m   2424\u001b[0m     \u001b[0;34m@\u001b[0m\u001b[0mAppender\u001b[0m\u001b[0;34m(\u001b[0m\u001b[0mgeneric\u001b[0m\u001b[0;34m.\u001b[0m\u001b[0m_shared_docs\u001b[0m\u001b[0;34m[\u001b[0m\u001b[0;34m'reindex'\u001b[0m\u001b[0;34m]\u001b[0m \u001b[0;34m%\u001b[0m \u001b[0m_shared_doc_kwargs\u001b[0m\u001b[0;34m)\u001b[0m\u001b[0;34m\u001b[0m\u001b[0m\n\u001b[1;32m   2425\u001b[0m     \u001b[0;32mdef\u001b[0m \u001b[0mreindex\u001b[0m\u001b[0;34m(\u001b[0m\u001b[0mself\u001b[0m\u001b[0;34m,\u001b[0m \u001b[0mindex\u001b[0m\u001b[0;34m=\u001b[0m\u001b[0;32mNone\u001b[0m\u001b[0;34m,\u001b[0m \u001b[0;34m**\u001b[0m\u001b[0mkwargs\u001b[0m\u001b[0;34m)\u001b[0m\u001b[0;34m:\u001b[0m\u001b[0;34m\u001b[0m\u001b[0m\n\u001b[0;32m-> 2426\u001b[0;31m         \u001b[0;32mreturn\u001b[0m \u001b[0msuper\u001b[0m\u001b[0;34m(\u001b[0m\u001b[0mSeries\u001b[0m\u001b[0;34m,\u001b[0m \u001b[0mself\u001b[0m\u001b[0;34m)\u001b[0m\u001b[0;34m.\u001b[0m\u001b[0mreindex\u001b[0m\u001b[0;34m(\u001b[0m\u001b[0mindex\u001b[0m\u001b[0;34m=\u001b[0m\u001b[0mindex\u001b[0m\u001b[0;34m,\u001b[0m \u001b[0;34m**\u001b[0m\u001b[0mkwargs\u001b[0m\u001b[0;34m)\u001b[0m\u001b[0;34m\u001b[0m\u001b[0m\n\u001b[0m\u001b[1;32m   2427\u001b[0m \u001b[0;34m\u001b[0m\u001b[0m\n\u001b[1;32m   2428\u001b[0m     \u001b[0;34m@\u001b[0m\u001b[0mAppender\u001b[0m\u001b[0;34m(\u001b[0m\u001b[0mgeneric\u001b[0m\u001b[0;34m.\u001b[0m\u001b[0m_shared_docs\u001b[0m\u001b[0;34m[\u001b[0m\u001b[0;34m'fillna'\u001b[0m\u001b[0;34m]\u001b[0m \u001b[0;34m%\u001b[0m \u001b[0m_shared_doc_kwargs\u001b[0m\u001b[0;34m)\u001b[0m\u001b[0;34m\u001b[0m\u001b[0m\n",
      "\u001b[0;32m~/anaconda3/lib/python3.6/site-packages/pandas/core/generic.py\u001b[0m in \u001b[0;36mreindex\u001b[0;34m(self, *args, **kwargs)\u001b[0m\n\u001b[1;32m   2513\u001b[0m         \u001b[0;31m# perform the reindex on the axes\u001b[0m\u001b[0;34m\u001b[0m\u001b[0;34m\u001b[0m\u001b[0m\n\u001b[1;32m   2514\u001b[0m         return self._reindex_axes(axes, level, limit, tolerance, method,\n\u001b[0;32m-> 2515\u001b[0;31m                                   fill_value, copy).__finalize__(self)\n\u001b[0m\u001b[1;32m   2516\u001b[0m \u001b[0;34m\u001b[0m\u001b[0m\n\u001b[1;32m   2517\u001b[0m     def _reindex_axes(self, axes, level, limit, tolerance, method, fill_value,\n",
      "\u001b[0;32m~/anaconda3/lib/python3.6/site-packages/pandas/core/generic.py\u001b[0m in \u001b[0;36m_reindex_axes\u001b[0;34m(self, axes, level, limit, tolerance, method, fill_value, copy)\u001b[0m\n\u001b[1;32m   2531\u001b[0m             obj = obj._reindex_with_indexers({axis: [new_index, indexer]},\n\u001b[1;32m   2532\u001b[0m                                              \u001b[0mfill_value\u001b[0m\u001b[0;34m=\u001b[0m\u001b[0mfill_value\u001b[0m\u001b[0;34m,\u001b[0m\u001b[0;34m\u001b[0m\u001b[0m\n\u001b[0;32m-> 2533\u001b[0;31m                                              copy=copy, allow_dups=False)\n\u001b[0m\u001b[1;32m   2534\u001b[0m \u001b[0;34m\u001b[0m\u001b[0m\n\u001b[1;32m   2535\u001b[0m         \u001b[0;32mreturn\u001b[0m \u001b[0mobj\u001b[0m\u001b[0;34m\u001b[0m\u001b[0m\n",
      "\u001b[0;32m~/anaconda3/lib/python3.6/site-packages/pandas/core/generic.py\u001b[0m in \u001b[0;36m_reindex_with_indexers\u001b[0;34m(self, reindexers, fill_value, copy, allow_dups)\u001b[0m\n\u001b[1;32m   2625\u001b[0m                                                 \u001b[0mfill_value\u001b[0m\u001b[0;34m=\u001b[0m\u001b[0mfill_value\u001b[0m\u001b[0;34m,\u001b[0m\u001b[0;34m\u001b[0m\u001b[0m\n\u001b[1;32m   2626\u001b[0m                                                 \u001b[0mallow_dups\u001b[0m\u001b[0;34m=\u001b[0m\u001b[0mallow_dups\u001b[0m\u001b[0;34m,\u001b[0m\u001b[0;34m\u001b[0m\u001b[0m\n\u001b[0;32m-> 2627\u001b[0;31m                                                 copy=copy)\n\u001b[0m\u001b[1;32m   2628\u001b[0m \u001b[0;34m\u001b[0m\u001b[0m\n\u001b[1;32m   2629\u001b[0m         \u001b[0;32mif\u001b[0m \u001b[0mcopy\u001b[0m \u001b[0;32mand\u001b[0m \u001b[0mnew_data\u001b[0m \u001b[0;32mis\u001b[0m \u001b[0mself\u001b[0m\u001b[0;34m.\u001b[0m\u001b[0m_data\u001b[0m\u001b[0;34m:\u001b[0m\u001b[0;34m\u001b[0m\u001b[0m\n",
      "\u001b[0;32m~/anaconda3/lib/python3.6/site-packages/pandas/core/internals.py\u001b[0m in \u001b[0;36mreindex_indexer\u001b[0;34m(self, new_axis, indexer, axis, fill_value, allow_dups, copy)\u001b[0m\n\u001b[1;32m   3884\u001b[0m         \u001b[0;31m# some axes don't allow reindexing with dups\u001b[0m\u001b[0;34m\u001b[0m\u001b[0;34m\u001b[0m\u001b[0m\n\u001b[1;32m   3885\u001b[0m         \u001b[0;32mif\u001b[0m \u001b[0;32mnot\u001b[0m \u001b[0mallow_dups\u001b[0m\u001b[0;34m:\u001b[0m\u001b[0;34m\u001b[0m\u001b[0m\n\u001b[0;32m-> 3886\u001b[0;31m             \u001b[0mself\u001b[0m\u001b[0;34m.\u001b[0m\u001b[0maxes\u001b[0m\u001b[0;34m[\u001b[0m\u001b[0maxis\u001b[0m\u001b[0;34m]\u001b[0m\u001b[0;34m.\u001b[0m\u001b[0m_can_reindex\u001b[0m\u001b[0;34m(\u001b[0m\u001b[0mindexer\u001b[0m\u001b[0;34m)\u001b[0m\u001b[0;34m\u001b[0m\u001b[0m\n\u001b[0m\u001b[1;32m   3887\u001b[0m \u001b[0;34m\u001b[0m\u001b[0m\n\u001b[1;32m   3888\u001b[0m         \u001b[0;32mif\u001b[0m \u001b[0maxis\u001b[0m \u001b[0;34m>=\u001b[0m \u001b[0mself\u001b[0m\u001b[0;34m.\u001b[0m\u001b[0mndim\u001b[0m\u001b[0;34m:\u001b[0m\u001b[0;34m\u001b[0m\u001b[0m\n",
      "\u001b[0;32m~/anaconda3/lib/python3.6/site-packages/pandas/core/indexes/base.py\u001b[0m in \u001b[0;36m_can_reindex\u001b[0;34m(self, indexer)\u001b[0m\n\u001b[1;32m   2834\u001b[0m         \u001b[0;31m# trying to reindex on an axis with duplicates\u001b[0m\u001b[0;34m\u001b[0m\u001b[0;34m\u001b[0m\u001b[0m\n\u001b[1;32m   2835\u001b[0m         \u001b[0;32mif\u001b[0m \u001b[0;32mnot\u001b[0m \u001b[0mself\u001b[0m\u001b[0;34m.\u001b[0m\u001b[0mis_unique\u001b[0m \u001b[0;32mand\u001b[0m \u001b[0mlen\u001b[0m\u001b[0;34m(\u001b[0m\u001b[0mindexer\u001b[0m\u001b[0;34m)\u001b[0m\u001b[0;34m:\u001b[0m\u001b[0;34m\u001b[0m\u001b[0m\n\u001b[0;32m-> 2836\u001b[0;31m             \u001b[0;32mraise\u001b[0m \u001b[0mValueError\u001b[0m\u001b[0;34m(\u001b[0m\u001b[0;34m\"cannot reindex from a duplicate axis\"\u001b[0m\u001b[0;34m)\u001b[0m\u001b[0;34m\u001b[0m\u001b[0m\n\u001b[0m\u001b[1;32m   2837\u001b[0m \u001b[0;34m\u001b[0m\u001b[0m\n\u001b[1;32m   2838\u001b[0m     def reindex(self, target, method=None, level=None, limit=None,\n",
      "\u001b[0;31mValueError\u001b[0m: cannot reindex from a duplicate axis"
     ]
    }
   ],
   "source": [
    "pred_match = pd.DataFrame(data2, index=columns)"
   ]
  },
  {
   "cell_type": "code",
   "execution_count": 92,
   "metadata": {},
   "outputs": [
    {
     "data": {
      "text/html": [
       "<div>\n",
       "<style>\n",
       "    .dataframe thead tr:only-child th {\n",
       "        text-align: right;\n",
       "    }\n",
       "\n",
       "    .dataframe thead th {\n",
       "        text-align: left;\n",
       "    }\n",
       "\n",
       "    .dataframe tbody tr th {\n",
       "        vertical-align: top;\n",
       "    }\n",
       "</style>\n",
       "<table border=\"1\" class=\"dataframe\">\n",
       "  <thead>\n",
       "    <tr style=\"text-align: right;\">\n",
       "      <th></th>\n",
       "      <th>Away Team Name</th>\n",
       "      <th>Home Team Name</th>\n",
       "      <th>Year</th>\n",
       "      <th>home_rank</th>\n",
       "      <th>home_country</th>\n",
       "      <th>home_total_points</th>\n",
       "      <th>home_previous_points</th>\n",
       "      <th>home_rank_change</th>\n",
       "      <th>home_cur_year_avg</th>\n",
       "      <th>home_cur_year_avg_weighted</th>\n",
       "      <th>...</th>\n",
       "      <th>away_rank_change</th>\n",
       "      <th>away_cur_year_avg</th>\n",
       "      <th>away_cur_year_avg_weighted</th>\n",
       "      <th>away_last_year_avg</th>\n",
       "      <th>away_last_year_avg_weighted</th>\n",
       "      <th>away_two_year_ago_avg</th>\n",
       "      <th>away_two_year_ago_weighted</th>\n",
       "      <th>away_three_year_ago_avg</th>\n",
       "      <th>away_three_year_ago_weighted</th>\n",
       "      <th>away_year</th>\n",
       "    </tr>\n",
       "  </thead>\n",
       "  <tbody>\n",
       "  </tbody>\n",
       "</table>\n",
       "<p>0 rows × 31 columns</p>\n",
       "</div>"
      ],
      "text/plain": [
       "Empty DataFrame\n",
       "Columns: [Away Team Name, Home Team Name, Year, home_rank, home_country, home_total_points, home_previous_points, home_rank_change, home_cur_year_avg, home_cur_year_avg_weighted, home_last_year_avg, home_last_year_avg_weighted, home_two_year_ago_avg, home_two_year_ago_weighted, home_three_year_ago_avg, home_three_year_ago_weighted, home_year, away_rank, away_country, away_total_points, away_previous_points, away_rank_change, away_cur_year_avg, away_cur_year_avg_weighted, away_last_year_avg, away_last_year_avg_weighted, away_two_year_ago_avg, away_two_year_ago_weighted, away_three_year_ago_avg, away_three_year_ago_weighted, away_year]\n",
       "Index: []\n",
       "\n",
       "[0 rows x 31 columns]"
      ]
     },
     "execution_count": 92,
     "metadata": {},
     "output_type": "execute_result"
    }
   ],
   "source": [
    "pred_match"
   ]
  },
  {
   "cell_type": "code",
   "execution_count": null,
   "metadata": {},
   "outputs": [],
   "source": []
  }
 ],
 "metadata": {
  "kernelspec": {
   "display_name": "Python 3",
   "language": "python",
   "name": "python3"
  },
  "language_info": {
   "codemirror_mode": {
    "name": "ipython",
    "version": 3
   },
   "file_extension": ".py",
   "mimetype": "text/x-python",
   "name": "python",
   "nbconvert_exporter": "python",
   "pygments_lexer": "ipython3",
   "version": "3.6.2"
  }
 },
 "nbformat": 4,
 "nbformat_minor": 2
}
